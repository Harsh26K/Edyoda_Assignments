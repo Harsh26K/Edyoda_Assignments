{
 "cells": [
  {
   "attachments": {},
   "cell_type": "markdown",
   "metadata": {},
   "source": [
    "Q Write a Python program to create a lambda function that adds 25 to a given number passed in as an argument.\n",
    "\n",
    "sample input: 10\n",
    "\n",
    "sample output: 35"
   ]
  },
  {
   "cell_type": "code",
   "execution_count": 19,
   "metadata": {},
   "outputs": [
    {
     "name": "stdout",
     "output_type": "stream",
     "text": [
      "input : 10\n",
      "After adding 25 into 10 : 35\n"
     ]
    }
   ],
   "source": [
    "num = int(input('Enter No.:'))  # input\n",
    "\n",
    "add_25 = lambda num: num+25     # lambda function\n",
    "\n",
    "print(f'input : {num}')                                 # output\n",
    "print(f'After adding 25 into {num} : {add_25(num)}')    # output"
   ]
  },
  {
   "attachments": {},
   "cell_type": "markdown",
   "metadata": {},
   "source": [
    "Q Write a Python program to triple all numbers of a given list of integers. Use Python map.\n",
    "\n",
    "sample list: [1, 2, 3, 4, 5, 6, 7]\n",
    "\n",
    "Triple of list numbers:\n",
    "\n",
    "[3, 6, 9, 12, 15, 18, 21]"
   ]
  },
  {
   "cell_type": "code",
   "execution_count": 22,
   "metadata": {},
   "outputs": [
    {
     "name": "stdout",
     "output_type": "stream",
     "text": [
      "input list: \n",
      "[1, 2, 3, 4, 5, 6]\n",
      "\n",
      "\n",
      "triple of list numbers:\n",
      "[3, 6, 9, 12, 15, 18]\n"
     ]
    }
   ],
   "source": [
    "input_list = [int(num) \\\n",
    "            for num in input('Enter the list(comma-separated):').split(',')]  # input\n",
    "# l=[1,2,3,4,5,6,7]\n",
    "\n",
    "def triple(num):          # function for tripling the number\n",
    "    return num*3\n",
    "\n",
    "print(f'input list: \\n{input_list}\\n\\n')        # output\n",
    "print(f'triple of list numbers:\\n{list(map(triple,input_list))}')      # output as mapping"
   ]
  },
  {
   "attachments": {},
   "cell_type": "markdown",
   "metadata": {},
   "source": [
    "Q Write a Python program to square the elements of a list using map() function.\n",
    "\n",
    "Sample List: [4, 5, 2, 9]\n",
    "\n",
    "Square the elements of the list:\n",
    "\n",
    "[16, 25, 4, 81]"
   ]
  },
  {
   "cell_type": "code",
   "execution_count": 21,
   "metadata": {},
   "outputs": [
    {
     "name": "stdout",
     "output_type": "stream",
     "text": [
      "input list: \n",
      "[4, 5, 2, 9]\n",
      "\n",
      "\n",
      "Square of list numbers:\n",
      "[16, 25, 4, 81]\n"
     ]
    }
   ],
   "source": [
    "def square(num):        # function for squaring the number\n",
    "    return num*num\n",
    "\n",
    "input_list = [int(num) \\\n",
    "            for num in input('Enter the list(comma-separated):').split(',')]    # input\n",
    "\n",
    "print(f'input list: \\n{input_list}\\n\\n')        # output\n",
    "print(f'Square of list numbers:\\n{list(map(square,input_list))}')   # mapping the square\n",
    "                                                                    # number with input"
   ]
  }
 ],
 "metadata": {
  "kernelspec": {
   "display_name": "base",
   "language": "python",
   "name": "python3"
  },
  "language_info": {
   "codemirror_mode": {
    "name": "ipython",
    "version": 3
   },
   "file_extension": ".py",
   "mimetype": "text/x-python",
   "name": "python",
   "nbconvert_exporter": "python",
   "pygments_lexer": "ipython3",
   "version": "3.8.5"
  },
  "orig_nbformat": 4,
  "vscode": {
   "interpreter": {
    "hash": "ad2bdc8ecc057115af97d19610ffacc2b4e99fae6737bb82f5d7fb13d2f2c186"
   }
  }
 },
 "nbformat": 4,
 "nbformat_minor": 2
}
