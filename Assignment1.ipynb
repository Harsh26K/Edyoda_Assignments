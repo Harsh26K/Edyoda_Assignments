{
 "cells": [
  {
   "attachments": {},
   "cell_type": "markdown",
   "metadata": {},
   "source": [
    "Q Write a program to get Fibonacci series between 0 to 50\n"
   ]
  },
  {
   "cell_type": "code",
   "execution_count": 5,
   "metadata": {},
   "outputs": [
    {
     "name": "stdout",
     "output_type": "stream",
     "text": [
      "[0, 1, 1, 2, 3, 5, 8, 13, 21, 34]\n"
     ]
    }
   ],
   "source": [
    "f = [0,1]\n",
    "\n",
    "for i in range(2,50):\n",
    "    sum = f[i-1]+f[i-2]\n",
    "    if(sum >= 50):\n",
    "        break\n",
    "    else:\n",
    "        f.append(sum)\n",
    "print(f)\n"
   ]
  },
  {
   "attachments": {},
   "cell_type": "markdown",
   "metadata": {},
   "source": [
    "Q Write a program that accepts word from user and reverses it"
   ]
  },
  {
   "cell_type": "code",
   "execution_count": 18,
   "metadata": {},
   "outputs": [
    {
     "name": "stdout",
     "output_type": "stream",
     "text": [
      "yout input: 12345\n",
      "reversed: 54321\n"
     ]
    }
   ],
   "source": [
    "s = input('Enter any word: ')\n",
    "print('yout input:',s)\n",
    "print('reversed:',s[::-1])"
   ]
  },
  {
   "attachments": {},
   "cell_type": "markdown",
   "metadata": {},
   "source": [
    "Q Write a program to count no. of even and odd numbers from a series of numbers"
   ]
  },
  {
   "cell_type": "code",
   "execution_count": 17,
   "metadata": {},
   "outputs": [
    {
     "name": "stdout",
     "output_type": "stream",
     "text": [
      "your series: [1, 2, 3, 4, 5, 6, 7, 8, 9]\n",
      "count of even numbers: 4\n",
      "count of odd numbers: 5\n"
     ]
    }
   ],
   "source": [
    "x =[int(x) for x in input('Enter a number series(comma-separated):').split(',')]\n",
    "even = 0\n",
    "for i in x:\n",
    "    if i%2 == 0:\n",
    "        even = even+1\n",
    "print('your series:',x)\n",
    "print('count of even numbers:',even)\n",
    "print('count of odd numbers:',(len(x)-even))"
   ]
  },
  {
   "cell_type": "code",
   "execution_count": 1,
   "metadata": {},
   "outputs": [
    {
     "name": "stdout",
     "output_type": "stream",
     "text": [
      "your series: [1, 2, 3, 4, 5, 6]\n",
      "count of even numbers: 3\n",
      "count of odd numbers: 3\n"
     ]
    }
   ],
   "source": [
    "x =[int(x) for x in input('Enter a number series(space-separated):').split(' ')]\n",
    "even = 0\n",
    "for i in x:\n",
    "    if i%2 == 0:\n",
    "        even = even+1\n",
    "print('your series:',x)\n",
    "print('count of even numbers:',even)\n",
    "print('count of odd numbers:',(len(x)-even))"
   ]
  }
 ],
 "metadata": {
  "kernelspec": {
   "display_name": "Python 3.8.5 ('base')",
   "language": "python",
   "name": "python3"
  },
  "language_info": {
   "codemirror_mode": {
    "name": "ipython",
    "version": 3
   },
   "file_extension": ".py",
   "mimetype": "text/x-python",
   "name": "python",
   "nbconvert_exporter": "python",
   "pygments_lexer": "ipython3",
   "version": "3.8.5"
  },
  "orig_nbformat": 4,
  "vscode": {
   "interpreter": {
    "hash": "ad2bdc8ecc057115af97d19610ffacc2b4e99fae6737bb82f5d7fb13d2f2c186"
   }
  }
 },
 "nbformat": 4,
 "nbformat_minor": 2
}
