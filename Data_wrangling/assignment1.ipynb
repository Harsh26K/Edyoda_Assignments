{
 "cells": [
  {
   "cell_type": "code",
   "execution_count": 1,
   "metadata": {},
   "outputs": [],
   "source": [
    "import numpy as np"
   ]
  },
  {
   "attachments": {},
   "cell_type": "markdown",
   "metadata": {},
   "source": [
    "Q1. Create a null vector of size 10 but the fifth value which is 1."
   ]
  },
  {
   "cell_type": "code",
   "execution_count": 7,
   "metadata": {},
   "outputs": [
    {
     "data": {
      "text/plain": [
       "array([0, 0, 0, 0, 1, 0, 0, 0, 0, 0], dtype=int8)"
      ]
     },
     "execution_count": 7,
     "metadata": {},
     "output_type": "execute_result"
    }
   ],
   "source": [
    "x = np.zeros(10,dtype=np.int8)\n",
    "x[4] = 1\n",
    "x"
   ]
  },
  {
   "attachments": {},
   "cell_type": "markdown",
   "metadata": {},
   "source": [
    "Q2. Create a vector with values ranging from 10 to 49."
   ]
  },
  {
   "cell_type": "code",
   "execution_count": 2,
   "metadata": {},
   "outputs": [
    {
     "data": {
      "text/plain": [
       "array([10, 11, 12, 13, 14, 15, 16, 17, 18, 19, 20, 21, 22, 23, 24, 25, 26,\n",
       "       27, 28, 29, 30, 31, 32, 33, 34, 35, 36, 37, 38, 39, 40, 41, 42, 43,\n",
       "       44, 45, 46, 47, 48, 49])"
      ]
     },
     "execution_count": 2,
     "metadata": {},
     "output_type": "execute_result"
    }
   ],
   "source": [
    "np.arange(10,50)"
   ]
  },
  {
   "attachments": {},
   "cell_type": "markdown",
   "metadata": {},
   "source": [
    "Q3. Create a 3X3 matrix ranging from 0 to 8."
   ]
  },
  {
   "cell_type": "code",
   "execution_count": 4,
   "metadata": {},
   "outputs": [
    {
     "data": {
      "text/plain": [
       "array([[0, 1, 2],\n",
       "       [3, 4, 5],\n",
       "       [6, 7, 8]])"
      ]
     },
     "execution_count": 4,
     "metadata": {},
     "output_type": "execute_result"
    }
   ],
   "source": [
    "x = np.arange(0,9).reshape(3,3)\n",
    "x"
   ]
  },
  {
   "attachments": {},
   "cell_type": "markdown",
   "metadata": {},
   "source": [
    "Q4. Find indices of non-zero elements from [1,2,0,0,4,0]."
   ]
  },
  {
   "cell_type": "code",
   "execution_count": 18,
   "metadata": {},
   "outputs": [
    {
     "data": {
      "text/plain": [
       "array([1, 2, 4])"
      ]
     },
     "execution_count": 18,
     "metadata": {},
     "output_type": "execute_result"
    }
   ],
   "source": [
    "x = np.array([1,2,0,0,4,0])\n",
    "x[np.nonzero(x)]\n",
    "# x[x.astype(bool)]\n",
    "# x[x !=0]"
   ]
  },
  {
   "attachments": {},
   "cell_type": "markdown",
   "metadata": {},
   "source": [
    "Q5. Create a 10X10 array with random values and find minimum and maximum values."
   ]
  },
  {
   "cell_type": "code",
   "execution_count": 13,
   "metadata": {},
   "outputs": [
    {
     "name": "stdout",
     "output_type": "stream",
     "text": [
      "[[62, 52, 38, 35, 87, 95, 4, 60, 22, 79], [69, 47, 20, 18, 81, 77, 69, 3, 36, 6], [51, 8, 21, 34, 35, 41, 17, 36, 94, 55], [40, 8, 15, 100, 19, 58, 54, 90, 4, 27], [6, 79, 89, 76, 76, 65, 94, 53, 85, 34], [26, 98, 100, 63, 96, 43, 8, 44, 95, 91], [87, 45, 37, 99, 17, 95, 96, 57, 9, 89], [97, 19, 81, 62, 55, 60, 19, 16, 4, 96], [67, 18, 78, 76, 35, 32, 29, 54, 56, 78], [94, 22, 71, 17, 95, 66, 69, 10, 95, 79]]\n",
      "min_value: 3\n",
      "max_value: 100\n"
     ]
    }
   ],
   "source": [
    "import random\n",
    "x=[]\n",
    "for i in range(0,10):\n",
    "    l =[]\n",
    "    for j in range(0,10):\n",
    "        num = random.randint(0,100)\n",
    "        l.append(num)\n",
    "    x.append(l)\n",
    "\n",
    "print(x)\n",
    "max_value = np.max(x)\n",
    "min_value = np.min(x)\n",
    "print(f'min_value:',min_value)\n",
    "print(f'max_value:',max_value)"
   ]
  },
  {
   "attachments": {},
   "cell_type": "markdown",
   "metadata": {},
   "source": [
    "Q6. Create a random vector of size 30 and find the mean value."
   ]
  },
  {
   "cell_type": "code",
   "execution_count": 14,
   "metadata": {},
   "outputs": [
    {
     "name": "stdout",
     "output_type": "stream",
     "text": [
      "[16, 62, 90, 17, 57, 27, 21, 83, 100, 40, 44, 45, 73, 58, 59, 74, 74, 17, 93, 41, 69, 71, 34, 90, 61, 88, 52, 87, 92, 83]\n",
      "mean value: 60.6\n"
     ]
    }
   ],
   "source": [
    "x = []\n",
    "for i in range(0,30):\n",
    "    num = random.randint(10,100)\n",
    "    x.append(num)\n",
    "\n",
    "mean_value = np.mean(x)\n",
    "print(x)\n",
    "print('mean value:',mean_value)"
   ]
  }
 ],
 "metadata": {
  "kernelspec": {
   "display_name": "Python 3",
   "language": "python",
   "name": "python3"
  },
  "language_info": {
   "codemirror_mode": {
    "name": "ipython",
    "version": 3
   },
   "file_extension": ".py",
   "mimetype": "text/x-python",
   "name": "python",
   "nbconvert_exporter": "python",
   "pygments_lexer": "ipython3",
   "version": "3.8.6"
  },
  "orig_nbformat": 4
 },
 "nbformat": 4,
 "nbformat_minor": 2
}
