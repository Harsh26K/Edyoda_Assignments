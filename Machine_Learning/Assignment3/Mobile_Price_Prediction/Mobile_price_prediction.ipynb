{
 "cells": [
  {
   "cell_type": "code",
   "execution_count": 25,
   "metadata": {},
   "outputs": [],
   "source": [
    "import numpy as np\n",
    "import pandas as pd\n",
    "import matplotlib.pyplot as plt\n",
    "import seaborn as sns\n",
    "import warnings\n",
    "warnings.filterwarnings('ignore')"
   ]
  },
  {
   "cell_type": "code",
   "execution_count": 2,
   "metadata": {},
   "outputs": [
    {
     "data": {
      "text/html": [
       "<div>\n",
       "<style scoped>\n",
       "    .dataframe tbody tr th:only-of-type {\n",
       "        vertical-align: middle;\n",
       "    }\n",
       "\n",
       "    .dataframe tbody tr th {\n",
       "        vertical-align: top;\n",
       "    }\n",
       "\n",
       "    .dataframe thead th {\n",
       "        text-align: right;\n",
       "    }\n",
       "</style>\n",
       "<table border=\"1\" class=\"dataframe\">\n",
       "  <thead>\n",
       "    <tr style=\"text-align: right;\">\n",
       "      <th></th>\n",
       "      <th>mobile_name</th>\n",
       "      <th>mobile_price</th>\n",
       "      <th>mobile_color</th>\n",
       "      <th>dual_sim</th>\n",
       "      <th>disp_size</th>\n",
       "      <th>resolution</th>\n",
       "      <th>os</th>\n",
       "      <th>num_cores</th>\n",
       "      <th>mp_speed</th>\n",
       "      <th>int_memory</th>\n",
       "      <th>ram</th>\n",
       "      <th>p_cam</th>\n",
       "      <th>f_cam</th>\n",
       "      <th>network</th>\n",
       "      <th>bluetooth</th>\n",
       "      <th>battery_power</th>\n",
       "      <th>mob_width</th>\n",
       "      <th>mob_height</th>\n",
       "      <th>mob_depth</th>\n",
       "      <th>mob_weight</th>\n",
       "    </tr>\n",
       "  </thead>\n",
       "  <tbody>\n",
       "    <tr>\n",
       "      <th>0</th>\n",
       "      <td>Realme Narzo 10A (So White, 32 GB)</td>\n",
       "      <td>₹8,999</td>\n",
       "      <td>So White</td>\n",
       "      <td>Dual Sim</td>\n",
       "      <td>16.56 cm (6.52 inch)</td>\n",
       "      <td>1600 x 720 Pixels</td>\n",
       "      <td>Android 10</td>\n",
       "      <td>Octa Core</td>\n",
       "      <td>2 GHz</td>\n",
       "      <td>32 GB</td>\n",
       "      <td>3 GB</td>\n",
       "      <td>12MP + 2MP + 2MP</td>\n",
       "      <td>5MP Front Camera</td>\n",
       "      <td>4G VOLTE, 4G, 3G, 2G</td>\n",
       "      <td>Yes</td>\n",
       "      <td>5000 mAh</td>\n",
       "      <td>75 mm</td>\n",
       "      <td>164.4 mm</td>\n",
       "      <td>8.95 mm</td>\n",
       "      <td>195 g</td>\n",
       "    </tr>\n",
       "    <tr>\n",
       "      <th>1</th>\n",
       "      <td>Realme Narzo 10A (So Blue, 32 GB)</td>\n",
       "      <td>₹8,999</td>\n",
       "      <td>So Blue</td>\n",
       "      <td>Dual Sim</td>\n",
       "      <td>16.56 cm (6.52 inch)</td>\n",
       "      <td>1600 x 720 Pixels</td>\n",
       "      <td>Android 10</td>\n",
       "      <td>Octa Core</td>\n",
       "      <td>2 GHz</td>\n",
       "      <td>32 GB</td>\n",
       "      <td>3 GB</td>\n",
       "      <td>12MP + 2MP + 2MP</td>\n",
       "      <td>5MP Front Camera</td>\n",
       "      <td>4G VOLTE, 4G, 3G, 2G</td>\n",
       "      <td>Yes</td>\n",
       "      <td>5000 mAh</td>\n",
       "      <td>75 mm</td>\n",
       "      <td>164.4 mm</td>\n",
       "      <td>8.95 mm</td>\n",
       "      <td>195 g</td>\n",
       "    </tr>\n",
       "    <tr>\n",
       "      <th>2</th>\n",
       "      <td>Realme Narzo 10A (So Blue, 64 GB)</td>\n",
       "      <td>₹9,999</td>\n",
       "      <td>So Blue</td>\n",
       "      <td>Dual Sim</td>\n",
       "      <td>16.56 cm (6.52 inch)</td>\n",
       "      <td>1600 x 720 Pixels</td>\n",
       "      <td>Android 10</td>\n",
       "      <td>Octa Core</td>\n",
       "      <td>2 GHz</td>\n",
       "      <td>64 GB</td>\n",
       "      <td>4 GB</td>\n",
       "      <td>12MP + 2MP + 2MP</td>\n",
       "      <td>5MP Front Camera</td>\n",
       "      <td>4G VOLTE, 4G, 3G, 2G</td>\n",
       "      <td>Yes</td>\n",
       "      <td>5000 mAh</td>\n",
       "      <td>75 mm</td>\n",
       "      <td>164.4 mm</td>\n",
       "      <td>8.95 mm</td>\n",
       "      <td>195 g</td>\n",
       "    </tr>\n",
       "    <tr>\n",
       "      <th>3</th>\n",
       "      <td>Realme Narzo 10A (So White, 64 GB)</td>\n",
       "      <td>₹9,999</td>\n",
       "      <td>So White</td>\n",
       "      <td>Dual Sim</td>\n",
       "      <td>16.56 cm (6.52 inch)</td>\n",
       "      <td>1600 x 720 Pixels</td>\n",
       "      <td>Android 10</td>\n",
       "      <td>Octa Core</td>\n",
       "      <td>2 GHz</td>\n",
       "      <td>64 GB</td>\n",
       "      <td>4 GB</td>\n",
       "      <td>12MP + 2MP + 2MP</td>\n",
       "      <td>5MP Front Camera</td>\n",
       "      <td>4G VOLTE, 4G, 3G, 2G</td>\n",
       "      <td>Yes</td>\n",
       "      <td>5000 mAh</td>\n",
       "      <td>75 mm</td>\n",
       "      <td>164.4 mm</td>\n",
       "      <td>8.95 mm</td>\n",
       "      <td>195 g</td>\n",
       "    </tr>\n",
       "    <tr>\n",
       "      <th>4</th>\n",
       "      <td>Realme Narzo 10 (That Green, 128 GB)</td>\n",
       "      <td>₹11,999</td>\n",
       "      <td>That Green</td>\n",
       "      <td>Dual Sim</td>\n",
       "      <td>16.51 cm (6.5 inch)</td>\n",
       "      <td>1600 x 720 Pixels</td>\n",
       "      <td>Android 10</td>\n",
       "      <td>Octa Core</td>\n",
       "      <td>2 GHz</td>\n",
       "      <td>128 GB</td>\n",
       "      <td>4 GB</td>\n",
       "      <td>48MP + 8MP + 2MP + 2MP</td>\n",
       "      <td>16MP Front Camera</td>\n",
       "      <td>4G VOLTE, 4G, 3G, 2G</td>\n",
       "      <td>Yes</td>\n",
       "      <td>5000 mAh</td>\n",
       "      <td>75.4 mm</td>\n",
       "      <td>164.4 mm</td>\n",
       "      <td>9 mm</td>\n",
       "      <td>199 g</td>\n",
       "    </tr>\n",
       "  </tbody>\n",
       "</table>\n",
       "</div>"
      ],
      "text/plain": [
       "                            mobile_name mobile_price mobile_color  dual_sim  \\\n",
       "0    Realme Narzo 10A (So White, 32 GB)       ₹8,999     So White  Dual Sim   \n",
       "1     Realme Narzo 10A (So Blue, 32 GB)       ₹8,999      So Blue  Dual Sim   \n",
       "2     Realme Narzo 10A (So Blue, 64 GB)       ₹9,999      So Blue  Dual Sim   \n",
       "3    Realme Narzo 10A (So White, 64 GB)       ₹9,999     So White  Dual Sim   \n",
       "4  Realme Narzo 10 (That Green, 128 GB)      ₹11,999   That Green  Dual Sim   \n",
       "\n",
       "              disp_size         resolution          os  num_cores mp_speed  \\\n",
       "0  16.56 cm (6.52 inch)  1600 x 720 Pixels  Android 10  Octa Core    2 GHz   \n",
       "1  16.56 cm (6.52 inch)  1600 x 720 Pixels  Android 10  Octa Core    2 GHz   \n",
       "2  16.56 cm (6.52 inch)  1600 x 720 Pixels  Android 10  Octa Core    2 GHz   \n",
       "3  16.56 cm (6.52 inch)  1600 x 720 Pixels  Android 10  Octa Core    2 GHz   \n",
       "4   16.51 cm (6.5 inch)  1600 x 720 Pixels  Android 10  Octa Core    2 GHz   \n",
       "\n",
       "  int_memory   ram                   p_cam              f_cam  \\\n",
       "0      32 GB  3 GB        12MP + 2MP + 2MP   5MP Front Camera   \n",
       "1      32 GB  3 GB        12MP + 2MP + 2MP   5MP Front Camera   \n",
       "2      64 GB  4 GB        12MP + 2MP + 2MP   5MP Front Camera   \n",
       "3      64 GB  4 GB        12MP + 2MP + 2MP   5MP Front Camera   \n",
       "4     128 GB  4 GB  48MP + 8MP + 2MP + 2MP  16MP Front Camera   \n",
       "\n",
       "                network bluetooth battery_power mob_width mob_height  \\\n",
       "0  4G VOLTE, 4G, 3G, 2G       Yes      5000 mAh     75 mm   164.4 mm   \n",
       "1  4G VOLTE, 4G, 3G, 2G       Yes      5000 mAh     75 mm   164.4 mm   \n",
       "2  4G VOLTE, 4G, 3G, 2G       Yes      5000 mAh     75 mm   164.4 mm   \n",
       "3  4G VOLTE, 4G, 3G, 2G       Yes      5000 mAh     75 mm   164.4 mm   \n",
       "4  4G VOLTE, 4G, 3G, 2G       Yes      5000 mAh   75.4 mm   164.4 mm   \n",
       "\n",
       "  mob_depth mob_weight  \n",
       "0   8.95 mm      195 g  \n",
       "1   8.95 mm      195 g  \n",
       "2   8.95 mm      195 g  \n",
       "3   8.95 mm      195 g  \n",
       "4      9 mm      199 g  "
      ]
     },
     "execution_count": 2,
     "metadata": {},
     "output_type": "execute_result"
    }
   ],
   "source": [
    "df = pd.read_csv('./mobile_price_data.csv')\n",
    "df.head()"
   ]
  },
  {
   "cell_type": "code",
   "execution_count": 3,
   "metadata": {},
   "outputs": [
    {
     "data": {
      "text/plain": [
       "(459, 20)"
      ]
     },
     "execution_count": 3,
     "metadata": {},
     "output_type": "execute_result"
    }
   ],
   "source": [
    "df.shape"
   ]
  },
  {
   "cell_type": "code",
   "execution_count": 4,
   "metadata": {},
   "outputs": [
    {
     "name": "stdout",
     "output_type": "stream",
     "text": [
      "<class 'pandas.core.frame.DataFrame'>\n",
      "RangeIndex: 459 entries, 0 to 458\n",
      "Data columns (total 20 columns):\n",
      " #   Column         Non-Null Count  Dtype \n",
      "---  ------         --------------  ----- \n",
      " 0   mobile_name    459 non-null    object\n",
      " 1   mobile_price   459 non-null    object\n",
      " 2   mobile_color   459 non-null    object\n",
      " 3   dual_sim       459 non-null    object\n",
      " 4   disp_size      459 non-null    object\n",
      " 5   resolution     459 non-null    object\n",
      " 6   os             459 non-null    object\n",
      " 7   num_cores      459 non-null    object\n",
      " 8   mp_speed       459 non-null    object\n",
      " 9   int_memory     459 non-null    object\n",
      " 10  ram            459 non-null    object\n",
      " 11  p_cam          459 non-null    object\n",
      " 12  f_cam          459 non-null    object\n",
      " 13  network        459 non-null    object\n",
      " 14  bluetooth      459 non-null    object\n",
      " 15  battery_power  459 non-null    object\n",
      " 16  mob_width      459 non-null    object\n",
      " 17  mob_height     459 non-null    object\n",
      " 18  mob_depth      459 non-null    object\n",
      " 19  mob_weight     459 non-null    object\n",
      "dtypes: object(20)\n",
      "memory usage: 71.8+ KB\n"
     ]
    }
   ],
   "source": [
    "df.info()"
   ]
  },
  {
   "cell_type": "code",
   "execution_count": 5,
   "metadata": {},
   "outputs": [
    {
     "data": {
      "text/plain": [
       "mobile_name      0\n",
       "mobile_price     0\n",
       "mobile_color     0\n",
       "dual_sim         0\n",
       "disp_size        0\n",
       "resolution       0\n",
       "os               0\n",
       "num_cores        0\n",
       "mp_speed         0\n",
       "int_memory       0\n",
       "ram              0\n",
       "p_cam            0\n",
       "f_cam            0\n",
       "network          0\n",
       "bluetooth        0\n",
       "battery_power    0\n",
       "mob_width        0\n",
       "mob_height       0\n",
       "mob_depth        0\n",
       "mob_weight       0\n",
       "dtype: int64"
      ]
     },
     "execution_count": 5,
     "metadata": {},
     "output_type": "execute_result"
    }
   ],
   "source": [
    "df.isnull().sum()"
   ]
  },
  {
   "cell_type": "code",
   "execution_count": 6,
   "metadata": {},
   "outputs": [
    {
     "data": {
      "text/plain": [
       "mobile_name      363\n",
       "mobile_price     139\n",
       "mobile_color     165\n",
       "dual_sim           2\n",
       "disp_size         36\n",
       "resolution        48\n",
       "os                18\n",
       "num_cores          3\n",
       "mp_speed          18\n",
       "int_memory         7\n",
       "ram                7\n",
       "p_cam             49\n",
       "f_cam             15\n",
       "network           18\n",
       "bluetooth          1\n",
       "battery_power     34\n",
       "mob_width         70\n",
       "mob_height        81\n",
       "mob_depth         55\n",
       "mob_weight        62\n",
       "dtype: int64"
      ]
     },
     "execution_count": 6,
     "metadata": {},
     "output_type": "execute_result"
    }
   ],
   "source": [
    "df.nunique()"
   ]
  },
  {
   "cell_type": "code",
   "execution_count": 8,
   "metadata": {},
   "outputs": [
    {
     "data": {
      "text/plain": [
       "Dual Sim      458\n",
       "Single Sim      1\n",
       "Name: dual_sim, dtype: int64"
      ]
     },
     "execution_count": 8,
     "metadata": {},
     "output_type": "execute_result"
    }
   ],
   "source": [
    "df.dual_sim.value_counts()"
   ]
  },
  {
   "cell_type": "code",
   "execution_count": 12,
   "metadata": {},
   "outputs": [],
   "source": [
    "df[df['dual_sim'] == 'Single Sim']\n",
    "df.drop(108,inplace=True)"
   ]
  },
  {
   "cell_type": "code",
   "execution_count": 13,
   "metadata": {},
   "outputs": [
    {
     "data": {
      "text/plain": [
       "Dual Sim    458\n",
       "Name: dual_sim, dtype: int64"
      ]
     },
     "execution_count": 13,
     "metadata": {},
     "output_type": "execute_result"
    }
   ],
   "source": [
    "df.dual_sim.value_counts()"
   ]
  },
  {
   "cell_type": "code",
   "execution_count": 14,
   "metadata": {},
   "outputs": [
    {
     "data": {
      "text/plain": [
       "64 GB     185\n",
       "128 GB    126\n",
       "32 GB      91\n",
       "256 GB     30\n",
       "16 GB      23\n",
       "512 GB      2\n",
       "8 GB        1\n",
       "Name: int_memory, dtype: int64"
      ]
     },
     "execution_count": 14,
     "metadata": {},
     "output_type": "execute_result"
    }
   ],
   "source": [
    "df.int_memory.value_counts()"
   ]
  },
  {
   "cell_type": "code",
   "execution_count": 19,
   "metadata": {},
   "outputs": [],
   "source": [
    "df[df['int_memory']== '8 GB']\n",
    "df.drop([301,302,300],inplace=True)"
   ]
  },
  {
   "cell_type": "code",
   "execution_count": 20,
   "metadata": {},
   "outputs": [
    {
     "data": {
      "text/plain": [
       "64 GB     185\n",
       "128 GB    126\n",
       "32 GB      91\n",
       "256 GB     30\n",
       "16 GB      23\n",
       "Name: int_memory, dtype: int64"
      ]
     },
     "execution_count": 20,
     "metadata": {},
     "output_type": "execute_result"
    }
   ],
   "source": [
    "df.int_memory.value_counts()"
   ]
  },
  {
   "cell_type": "code",
   "execution_count": 26,
   "metadata": {},
   "outputs": [
    {
     "data": {
      "text/plain": [
       "<AxesSubplot:xlabel='int_memory', ylabel='count'>"
      ]
     },
     "execution_count": 26,
     "metadata": {},
     "output_type": "execute_result"
    },
    {
     "data": {
      "image/png": "[encoded data removed]",
      "text/plain": [
       "<Figure size 432x288 with 1 Axes>"
      ]
     },
     "metadata": {
      "needs_background": "light"
     },
     "output_type": "display_data"
    }
   ],
   "source": [
    "sns.countplot(df.int_memory)"
   ]
  },
  {
   "cell_type": "code",
   "execution_count": 31,
   "metadata": {},
   "outputs": [],
   "source": [
    "mobile_names = []\n",
    "\n",
    "for name in df.mobile_name:\n",
    "    mobile_names.append(name.split('(')[0])"
   ]
  },
  {
   "cell_type": "code",
   "execution_count": 33,
   "metadata": {},
   "outputs": [],
   "source": [
    "mobile_names = [name.strip() for name in mobile_names]"
   ]
  },
  {
   "cell_type": "code",
   "execution_count": 38,
   "metadata": {},
   "outputs": [
    {
     "data": {
      "text/plain": [
       "455"
      ]
     },
     "execution_count": 38,
     "metadata": {},
     "output_type": "execute_result"
    }
   ],
   "source": [
    "len(mobile_names)"
   ]
  },
  {
   "cell_type": "code",
   "execution_count": 37,
   "metadata": {},
   "outputs": [
    {
     "data": {
      "text/plain": [
       "455"
      ]
     },
     "execution_count": 37,
     "metadata": {},
     "output_type": "execute_result"
    }
   ],
   "source": [
    "prices = [int(price.replace('₹','').replace(',','').strip()) for price in df.mobile_price]\n",
    "len(prices)"
   ]
  },
  {
   "cell_type": "code",
   "execution_count": 40,
   "metadata": {},
   "outputs": [
    {
     "data": {
      "text/plain": [
       "array(['5000 mAh', '4035 mAh', '4000 mAh', '3500 mAh', '4200 mAh',\n",
       "       '4300 mAh', '4230 mAh', '5020 mAh', '4030 mAh', '3400 mAh',\n",
       "       '3080 mAh', '3010 mAh', '4780 mAh', '4100 mAh', '3000 mAh',\n",
       "       '4500 mAh', '3700 mAh', '3260 mAh', '3360 mAh', '3225 mAh',\n",
       "       '2730 mAh', '6000 mAh', '2600 mAh', '3600 mAh', '4350 mAh',\n",
       "       '4025 mAh', '4065 mAh', '3730 mAh', '3180 mAh', '4020 mAh',\n",
       "       '3075 mAh', '3200 mAh'], dtype=object)"
      ]
     },
     "execution_count": 40,
     "metadata": {},
     "output_type": "execute_result"
    }
   ],
   "source": [
    "pd.unique(df.battery_power)"
   ]
  },
  {
   "cell_type": "code",
   "execution_count": 41,
   "metadata": {},
   "outputs": [
    {
     "data": {
      "text/plain": [
       "4000 mAh    135\n",
       "5000 mAh     87\n",
       "4230 mAh     38\n",
       "4500 mAh     34\n",
       "4030 mAh     22\n",
       "3260 mAh     14\n",
       "3000 mAh     11\n",
       "4200 mAh     10\n",
       "5020 mAh      9\n",
       "3010 mAh      9\n",
       "3080 mAh      7\n",
       "4020 mAh      6\n",
       "3180 mAh      6\n",
       "3360 mAh      6\n",
       "4035 mAh      6\n",
       "3700 mAh      5\n",
       "4300 mAh      5\n",
       "3500 mAh      5\n",
       "4100 mAh      4\n",
       "4780 mAh      4\n",
       "3400 mAh      4\n",
       "6000 mAh      4\n",
       "3600 mAh      4\n",
       "3075 mAh      4\n",
       "4350 mAh      3\n",
       "4025 mAh      3\n",
       "4065 mAh      3\n",
       "2730 mAh      2\n",
       "3730 mAh      2\n",
       "3225 mAh      1\n",
       "2600 mAh      1\n",
       "3200 mAh      1\n",
       "Name: battery_power, dtype: int64"
      ]
     },
     "execution_count": 41,
     "metadata": {},
     "output_type": "execute_result"
    }
   ],
   "source": [
    "df.battery_power.value_counts()"
   ]
  },
  {
   "cell_type": "code",
   "execution_count": 43,
   "metadata": {},
   "outputs": [
    {
     "data": {
      "text/plain": [
       "455"
      ]
     },
     "execution_count": 43,
     "metadata": {},
     "output_type": "execute_result"
    }
   ],
   "source": [
    "battery_power = []\n",
    "for battery in df.battery_power:\n",
    "    battery_power.append(int(battery.split(' ')[0].strip()))\n",
    "len(battery_power)"
   ]
  },
  {
   "cell_type": "code",
   "execution_count": 44,
   "metadata": {},
   "outputs": [
    {
     "data": {
      "text/plain": [
       "['Large', 'Large', 'Large', 'Large', 'Large', ..., 'Low', 'Low', 'Low', 'Medium', 'Medium']\n",
       "Length: 455\n",
       "Categories (3, object): ['Low' < 'Medium' < 'Large']"
      ]
     },
     "execution_count": 44,
     "metadata": {},
     "output_type": "execute_result"
    }
   ],
   "source": [
    "bins = [2500,3600,4700,6100]\n",
    "labels = ['Low','Medium','Large']\n",
    "battery_power = pd.cut(battery_power,bins=bins,include_lowest=True,labels = labels)\n",
    "battery_power"
   ]
  },
  {
   "cell_type": "code",
   "execution_count": 45,
   "metadata": {},
   "outputs": [
    {
     "data": {
      "text/plain": [
       "13MP + 2MP                                                                                      72\n",
       "13MP Rear Camera                                                                                44\n",
       "48MP + 8MP + 2MP + 2MP                                                                          39\n",
       "12MP + 5MP                                                                                      38\n",
       "64MP + 8MP + 2MP + 2MP                                                                          22\n",
       "48MP + 5MP                                                                                      21\n",
       "48MP + 13MP + 8MP                                                                               17\n",
       "48MP + 8MP + 5MP + 2MP                                                                          16\n",
       "64MP + 13MP + 8MP + 2MP                                                                         15\n",
       "12MP + 2MP                                                                                      12\n",
       "12MP Rear Camera                                                                                11\n",
       "16MP + 2MP                                                                                      10\n",
       "48MP + 8MP + 2MP                                                                                10\n",
       "13MP + 8MP + 2MP                                                                                 9\n",
       "20MP + 12MP                                                                                      9\n",
       "16MP + 2MP + 8MP                                                                                 9\n",
       "16MP Rear Camera                                                                                 9\n",
       "12MP + 2MP + 2MP                                                                                 8\n",
       "64MP + 12MP + 8MP + 2MP                                                                          8\n",
       "48MP + 8MP                                                                                       6\n",
       "8MP Rear Camera                                                                                  6\n",
       "48MP + 8MP + 2MP + 2MP Quad Camera                                                               6\n",
       "16MP + 8MP + 2MP                                                                                 6\n",
       "108MP Rear Camera                                                                                4\n",
       "64MP + 8MP + 8MP + 2MP                                                                           4\n",
       "12MP + 13MP                                                                                      3\n",
       "13MP + 2MP Depth Sensor + 8MP Wide Angle sensor                                                  3\n",
       "16MP + 2MP + Low Light Sensor                                                                    3\n",
       "13MP + 2MP + 8MP                                                                                 3\n",
       "48 Million Quad Pixel Sensor (12 Million Effective Pixel) + 8MP + 5MP, AI Triple Rear Camera     2\n",
       "48MP + 13MP + 8MP + 2MP                                                                          2\n",
       "16MP + 20MP                                                                                      2\n",
       "12MP + 8MP + 2MP + 2MP                                                                           2\n",
       "16MP + 5MP + 2MP + Low Light Sensor                                                              2\n",
       "64MP + 8MP + 2MP + 2MP Quad Camera                                                               2\n",
       "64MP + 8MP + 5MP + 2MP                                                                           2\n",
       "13MP + 8MP + 2MP + 2MP                                                                           2\n",
       "48MP + 2MP + Low Light Sensor                                                                    2\n",
       "13 MP + 2 MP + 2 MP + Low Light Sensor                                                           2\n",
       "48 MP + 2 MP + 2 MP + Low Light Sensor                                                           2\n",
       "48MP + 8MP + 5MP                                                                                 2\n",
       "16MP + 5MP                                                                                       2\n",
       "12MP + 20MP                                                                                      2\n",
       "64MP + 8MP + 5MP + 5MP                                                                           1\n",
       "48MP + 5MP + 8MP                                                                                 1\n",
       "48MP + 8MP + 13MP + 2MP                                                                          1\n",
       "12MP + 5MP + 8MP                                                                                 1\n",
       "Name: p_cam, dtype: int64"
      ]
     },
     "execution_count": 45,
     "metadata": {},
     "output_type": "execute_result"
    }
   ],
   "source": [
    "df.p_cam.value_counts()"
   ]
  },
  {
   "cell_type": "code",
   "execution_count": 46,
   "metadata": {},
   "outputs": [
    {
     "data": {
      "text/plain": [
       "16MP Front Camera               112\n",
       "8MP Front Camera                 65\n",
       "20MP Front Camera                61\n",
       "5MP Front Camera                 54\n",
       "32MP Front Camera                51\n",
       "13MP Front Camera                45\n",
       "20MP + 2MP Dual Front Camera     16\n",
       "32MP + 8MP Dual Front Camera     13\n",
       "25MP Front Camera                13\n",
       "24MP Front Camera                 7\n",
       "16MP + 8MP Dual Front Camera      6\n",
       "8MP Dual Front Camera             6\n",
       "13MP + 2MP Dual Front Camera      3\n",
       "44MP + 2MP Dual Front Camera      3\n",
       "Name: f_cam, dtype: int64"
      ]
     },
     "execution_count": 46,
     "metadata": {},
     "output_type": "execute_result"
    }
   ],
   "source": [
    "df.f_cam.value_counts()"
   ]
  },
  {
   "cell_type": "code",
   "execution_count": 52,
   "metadata": {},
   "outputs": [
    {
     "data": {
      "text/plain": [
       "455"
      ]
     },
     "execution_count": 52,
     "metadata": {},
     "output_type": "execute_result"
    }
   ],
   "source": [
    "roms = [int(rom.split(' ')[0]) for rom in df.int_memory]\n",
    "len(roms)"
   ]
  },
  {
   "cell_type": "code",
   "execution_count": 54,
   "metadata": {},
   "outputs": [
    {
     "data": {
      "text/plain": [
       "455"
      ]
     },
     "execution_count": 54,
     "metadata": {},
     "output_type": "execute_result"
    }
   ],
   "source": [
    "rams = [int(ram.split(' ')[0]) for ram in df.ram]\n",
    "len(rams)"
   ]
  },
  {
   "cell_type": "code",
   "execution_count": 56,
   "metadata": {},
   "outputs": [
    {
     "data": {
      "text/plain": [
       "455"
      ]
     },
     "execution_count": 56,
     "metadata": {},
     "output_type": "execute_result"
    }
   ],
   "source": [
    "f_cams = [int(f_cam.split(' ')[0].replace('MP','')) for f_cam in df.f_cam]\n",
    "len(f_cams)"
   ]
  },
  {
   "cell_type": "code",
   "execution_count": 57,
   "metadata": {},
   "outputs": [
    {
     "data": {
      "text/html": [
       "<div>\n",
       "<style scoped>\n",
       "    .dataframe tbody tr th:only-of-type {\n",
       "        vertical-align: middle;\n",
       "    }\n",
       "\n",
       "    .dataframe tbody tr th {\n",
       "        vertical-align: top;\n",
       "    }\n",
       "\n",
       "    .dataframe thead th {\n",
       "        text-align: right;\n",
       "    }\n",
       "</style>\n",
       "<table border=\"1\" class=\"dataframe\">\n",
       "  <thead>\n",
       "    <tr style=\"text-align: right;\">\n",
       "      <th></th>\n",
       "      <th>Name</th>\n",
       "      <th>Color</th>\n",
       "      <th>ROM(GB)</th>\n",
       "      <th>RAM(GB)</th>\n",
       "      <th>Power</th>\n",
       "      <th>f_cam(MP)</th>\n",
       "      <th>Price</th>\n",
       "    </tr>\n",
       "  </thead>\n",
       "  <tbody>\n",
       "    <tr>\n",
       "      <th>0</th>\n",
       "      <td>Realme Narzo 10A</td>\n",
       "      <td>So White</td>\n",
       "      <td>32</td>\n",
       "      <td>3</td>\n",
       "      <td>Large</td>\n",
       "      <td>5</td>\n",
       "      <td>8999</td>\n",
       "    </tr>\n",
       "    <tr>\n",
       "      <th>1</th>\n",
       "      <td>Realme Narzo 10A</td>\n",
       "      <td>So Blue</td>\n",
       "      <td>32</td>\n",
       "      <td>3</td>\n",
       "      <td>Large</td>\n",
       "      <td>5</td>\n",
       "      <td>8999</td>\n",
       "    </tr>\n",
       "    <tr>\n",
       "      <th>2</th>\n",
       "      <td>Realme Narzo 10A</td>\n",
       "      <td>So Blue</td>\n",
       "      <td>64</td>\n",
       "      <td>4</td>\n",
       "      <td>Large</td>\n",
       "      <td>5</td>\n",
       "      <td>9999</td>\n",
       "    </tr>\n",
       "    <tr>\n",
       "      <th>3</th>\n",
       "      <td>Realme Narzo 10A</td>\n",
       "      <td>So White</td>\n",
       "      <td>64</td>\n",
       "      <td>4</td>\n",
       "      <td>Large</td>\n",
       "      <td>5</td>\n",
       "      <td>9999</td>\n",
       "    </tr>\n",
       "    <tr>\n",
       "      <th>4</th>\n",
       "      <td>Realme Narzo 10</td>\n",
       "      <td>That Green</td>\n",
       "      <td>128</td>\n",
       "      <td>4</td>\n",
       "      <td>Large</td>\n",
       "      <td>16</td>\n",
       "      <td>11999</td>\n",
       "    </tr>\n",
       "  </tbody>\n",
       "</table>\n",
       "</div>"
      ],
      "text/plain": [
       "               Name       Color  ROM(GB)  RAM(GB)  Power  f_cam(MP)  Price\n",
       "0  Realme Narzo 10A    So White       32        3  Large          5   8999\n",
       "1  Realme Narzo 10A     So Blue       32        3  Large          5   8999\n",
       "2  Realme Narzo 10A     So Blue       64        4  Large          5   9999\n",
       "3  Realme Narzo 10A    So White       64        4  Large          5   9999\n",
       "4   Realme Narzo 10  That Green      128        4  Large         16  11999"
      ]
     },
     "execution_count": 57,
     "metadata": {},
     "output_type": "execute_result"
    }
   ],
   "source": [
    "df_new = pd.DataFrame({'Name':mobile_names,'Color':df.mobile_color,\n",
    "                    'ROM(GB)':roms,'RAM(GB)':rams,'Power':battery_power,\n",
    "                    'f_cam(MP)':f_cams,'Price':prices})\n",
    "df_new.head()"
   ]
  },
  {
   "cell_type": "code",
   "execution_count": 58,
   "metadata": {},
   "outputs": [
    {
     "name": "stdout",
     "output_type": "stream",
     "text": [
      "<class 'pandas.core.frame.DataFrame'>\n",
      "Int64Index: 455 entries, 0 to 458\n",
      "Data columns (total 7 columns):\n",
      " #   Column     Non-Null Count  Dtype   \n",
      "---  ------     --------------  -----   \n",
      " 0   Name       455 non-null    object  \n",
      " 1   Color      455 non-null    object  \n",
      " 2   ROM(GB)    455 non-null    int64   \n",
      " 3   RAM(GB)    455 non-null    int64   \n",
      " 4   Power      455 non-null    category\n",
      " 5   f_cam(MP)  455 non-null    int64   \n",
      " 6   Price      455 non-null    int64   \n",
      "dtypes: category(1), int64(4), object(2)\n",
      "memory usage: 41.6+ KB\n"
     ]
    }
   ],
   "source": [
    "df_new.info()"
   ]
  },
  {
   "cell_type": "code",
   "execution_count": 59,
   "metadata": {},
   "outputs": [
    {
     "data": {
      "text/plain": [
       "124"
      ]
     },
     "execution_count": 59,
     "metadata": {},
     "output_type": "execute_result"
    }
   ],
   "source": [
    "df_new.Name.nunique()"
   ]
  },
  {
   "cell_type": "code",
   "execution_count": 60,
   "metadata": {},
   "outputs": [
    {
     "data": {
      "text/plain": [
       "161"
      ]
     },
     "execution_count": 60,
     "metadata": {},
     "output_type": "execute_result"
    }
   ],
   "source": [
    "df_new.Color.nunique()"
   ]
  },
  {
   "cell_type": "code",
   "execution_count": 74,
   "metadata": {},
   "outputs": [],
   "source": [
    "df_new['Power'] = df_new['Power'].replace(['Large','Medium','Low'],[3,2,1])"
   ]
  },
  {
   "cell_type": "code",
   "execution_count": 75,
   "metadata": {},
   "outputs": [
    {
     "data": {
      "text/html": [
       "<div>\n",
       "<style scoped>\n",
       "    .dataframe tbody tr th:only-of-type {\n",
       "        vertical-align: middle;\n",
       "    }\n",
       "\n",
       "    .dataframe tbody tr th {\n",
       "        vertical-align: top;\n",
       "    }\n",
       "\n",
       "    .dataframe thead th {\n",
       "        text-align: right;\n",
       "    }\n",
       "</style>\n",
       "<table border=\"1\" class=\"dataframe\">\n",
       "  <thead>\n",
       "    <tr style=\"text-align: right;\">\n",
       "      <th></th>\n",
       "      <th>Name</th>\n",
       "      <th>Color</th>\n",
       "      <th>ROM(GB)</th>\n",
       "      <th>RAM(GB)</th>\n",
       "      <th>Power</th>\n",
       "      <th>f_cam(MP)</th>\n",
       "      <th>Price</th>\n",
       "      <th>Power_dummy</th>\n",
       "    </tr>\n",
       "  </thead>\n",
       "  <tbody>\n",
       "    <tr>\n",
       "      <th>0</th>\n",
       "      <td>Realme Narzo 10A</td>\n",
       "      <td>So White</td>\n",
       "      <td>32</td>\n",
       "      <td>3</td>\n",
       "      <td>3</td>\n",
       "      <td>5</td>\n",
       "      <td>8999</td>\n",
       "      <td>0.0</td>\n",
       "    </tr>\n",
       "    <tr>\n",
       "      <th>1</th>\n",
       "      <td>Realme Narzo 10A</td>\n",
       "      <td>So Blue</td>\n",
       "      <td>32</td>\n",
       "      <td>3</td>\n",
       "      <td>3</td>\n",
       "      <td>5</td>\n",
       "      <td>8999</td>\n",
       "      <td>0.0</td>\n",
       "    </tr>\n",
       "    <tr>\n",
       "      <th>2</th>\n",
       "      <td>Realme Narzo 10A</td>\n",
       "      <td>So Blue</td>\n",
       "      <td>64</td>\n",
       "      <td>4</td>\n",
       "      <td>3</td>\n",
       "      <td>5</td>\n",
       "      <td>9999</td>\n",
       "      <td>0.0</td>\n",
       "    </tr>\n",
       "    <tr>\n",
       "      <th>3</th>\n",
       "      <td>Realme Narzo 10A</td>\n",
       "      <td>So White</td>\n",
       "      <td>64</td>\n",
       "      <td>4</td>\n",
       "      <td>3</td>\n",
       "      <td>5</td>\n",
       "      <td>9999</td>\n",
       "      <td>0.0</td>\n",
       "    </tr>\n",
       "    <tr>\n",
       "      <th>4</th>\n",
       "      <td>Realme Narzo 10</td>\n",
       "      <td>That Green</td>\n",
       "      <td>128</td>\n",
       "      <td>4</td>\n",
       "      <td>3</td>\n",
       "      <td>16</td>\n",
       "      <td>11999</td>\n",
       "      <td>0.0</td>\n",
       "    </tr>\n",
       "  </tbody>\n",
       "</table>\n",
       "</div>"
      ],
      "text/plain": [
       "               Name       Color  ROM(GB)  RAM(GB)  Power  f_cam(MP)  Price  \\\n",
       "0  Realme Narzo 10A    So White       32        3      3          5   8999   \n",
       "1  Realme Narzo 10A     So Blue       32        3      3          5   8999   \n",
       "2  Realme Narzo 10A     So Blue       64        4      3          5   9999   \n",
       "3  Realme Narzo 10A    So White       64        4      3          5   9999   \n",
       "4   Realme Narzo 10  That Green      128        4      3         16  11999   \n",
       "\n",
       "   Power_dummy  \n",
       "0          0.0  \n",
       "1          0.0  \n",
       "2          0.0  \n",
       "3          0.0  \n",
       "4          0.0  "
      ]
     },
     "execution_count": 75,
     "metadata": {},
     "output_type": "execute_result"
    }
   ],
   "source": [
    "df_new.head()"
   ]
  },
  {
   "cell_type": "code",
   "execution_count": 76,
   "metadata": {},
   "outputs": [],
   "source": [
    "df_new.drop(columns = ['Power_dummy'],inplace=True)"
   ]
  },
  {
   "cell_type": "code",
   "execution_count": 78,
   "metadata": {},
   "outputs": [
    {
     "data": {
      "text/html": [
       "<div>\n",
       "<style scoped>\n",
       "    .dataframe tbody tr th:only-of-type {\n",
       "        vertical-align: middle;\n",
       "    }\n",
       "\n",
       "    .dataframe tbody tr th {\n",
       "        vertical-align: top;\n",
       "    }\n",
       "\n",
       "    .dataframe thead th {\n",
       "        text-align: right;\n",
       "    }\n",
       "</style>\n",
       "<table border=\"1\" class=\"dataframe\">\n",
       "  <thead>\n",
       "    <tr style=\"text-align: right;\">\n",
       "      <th></th>\n",
       "      <th>Name</th>\n",
       "      <th>Price</th>\n",
       "    </tr>\n",
       "  </thead>\n",
       "  <tbody>\n",
       "    <tr>\n",
       "      <th>0</th>\n",
       "      <td>Infinix Hot 7</td>\n",
       "      <td>9999.000000</td>\n",
       "    </tr>\n",
       "    <tr>\n",
       "      <th>1</th>\n",
       "      <td>Infinix Hot 9</td>\n",
       "      <td>8999.000000</td>\n",
       "    </tr>\n",
       "    <tr>\n",
       "      <th>2</th>\n",
       "      <td>Infinix Hot 9 Pro</td>\n",
       "      <td>9999.000000</td>\n",
       "    </tr>\n",
       "    <tr>\n",
       "      <th>3</th>\n",
       "      <td>Infinix Hot S3</td>\n",
       "      <td>10856.142857</td>\n",
       "    </tr>\n",
       "    <tr>\n",
       "      <th>4</th>\n",
       "      <td>Infinix Hot S3X</td>\n",
       "      <td>10999.000000</td>\n",
       "    </tr>\n",
       "    <tr>\n",
       "      <th>...</th>\n",
       "      <td>...</td>\n",
       "      <td>...</td>\n",
       "    </tr>\n",
       "    <tr>\n",
       "      <th>119</th>\n",
       "      <td>Vivo Y91</td>\n",
       "      <td>10740.000000</td>\n",
       "    </tr>\n",
       "    <tr>\n",
       "      <th>120</th>\n",
       "      <td>Vivo Y91i</td>\n",
       "      <td>9470.500000</td>\n",
       "    </tr>\n",
       "    <tr>\n",
       "      <th>121</th>\n",
       "      <td>Vivo Y93</td>\n",
       "      <td>15493.333333</td>\n",
       "    </tr>\n",
       "    <tr>\n",
       "      <th>122</th>\n",
       "      <td>Vivo Z1Pro</td>\n",
       "      <td>15323.333333</td>\n",
       "    </tr>\n",
       "    <tr>\n",
       "      <th>123</th>\n",
       "      <td>Vivo Z1x</td>\n",
       "      <td>17990.000000</td>\n",
       "    </tr>\n",
       "  </tbody>\n",
       "</table>\n",
       "<p>124 rows × 2 columns</p>\n",
       "</div>"
      ],
      "text/plain": [
       "                  Name         Price\n",
       "0        Infinix Hot 7   9999.000000\n",
       "1        Infinix Hot 9   8999.000000\n",
       "2    Infinix Hot 9 Pro   9999.000000\n",
       "3       Infinix Hot S3  10856.142857\n",
       "4      Infinix Hot S3X  10999.000000\n",
       "..                 ...           ...\n",
       "119           Vivo Y91  10740.000000\n",
       "120          Vivo Y91i   9470.500000\n",
       "121           Vivo Y93  15493.333333\n",
       "122         Vivo Z1Pro  15323.333333\n",
       "123           Vivo Z1x  17990.000000\n",
       "\n",
       "[124 rows x 2 columns]"
      ]
     },
     "execution_count": 78,
     "metadata": {},
     "output_type": "execute_result"
    }
   ],
   "source": [
    "# Target Encoding as large number of unique values\n",
    "df_name = df_new.groupby('Name')['Price'].mean().reset_index()\n",
    "df_name"
   ]
  },
  {
   "cell_type": "code",
   "execution_count": 79,
   "metadata": {},
   "outputs": [],
   "source": [
    "df_color = df_new.groupby('Color')['Price'].mean().reset_index()"
   ]
  },
  {
   "cell_type": "code",
   "execution_count": 80,
   "metadata": {},
   "outputs": [
    {
     "data": {
      "text/html": [
       "<div>\n",
       "<style scoped>\n",
       "    .dataframe tbody tr th:only-of-type {\n",
       "        vertical-align: middle;\n",
       "    }\n",
       "\n",
       "    .dataframe tbody tr th {\n",
       "        vertical-align: top;\n",
       "    }\n",
       "\n",
       "    .dataframe thead th {\n",
       "        text-align: right;\n",
       "    }\n",
       "</style>\n",
       "<table border=\"1\" class=\"dataframe\">\n",
       "  <thead>\n",
       "    <tr style=\"text-align: right;\">\n",
       "      <th></th>\n",
       "      <th>Color</th>\n",
       "      <th>Price</th>\n",
       "    </tr>\n",
       "  </thead>\n",
       "  <tbody>\n",
       "    <tr>\n",
       "      <th>0</th>\n",
       "      <td>Agate Red</td>\n",
       "      <td>10849.000000</td>\n",
       "    </tr>\n",
       "    <tr>\n",
       "      <th>1</th>\n",
       "      <td>Aqua Blue</td>\n",
       "      <td>9999.000000</td>\n",
       "    </tr>\n",
       "    <tr>\n",
       "      <th>2</th>\n",
       "      <td>Arctic White</td>\n",
       "      <td>28999.000000</td>\n",
       "    </tr>\n",
       "    <tr>\n",
       "      <th>3</th>\n",
       "      <td>Armoured Edition</td>\n",
       "      <td>20999.000000</td>\n",
       "    </tr>\n",
       "    <tr>\n",
       "      <th>4</th>\n",
       "      <td>Astral Blue</td>\n",
       "      <td>19319.000000</td>\n",
       "    </tr>\n",
       "    <tr>\n",
       "      <th>...</th>\n",
       "      <td>...</td>\n",
       "      <td>...</td>\n",
       "    </tr>\n",
       "    <tr>\n",
       "      <th>156</th>\n",
       "      <td>Unicorn White</td>\n",
       "      <td>18990.000000</td>\n",
       "    </tr>\n",
       "    <tr>\n",
       "      <th>157</th>\n",
       "      <td>Vanilla Mint</td>\n",
       "      <td>14656.666667</td>\n",
       "    </tr>\n",
       "    <tr>\n",
       "      <th>158</th>\n",
       "      <td>Violet</td>\n",
       "      <td>9719.000000</td>\n",
       "    </tr>\n",
       "    <tr>\n",
       "      <th>159</th>\n",
       "      <td>Waterfall Grey</td>\n",
       "      <td>16990.000000</td>\n",
       "    </tr>\n",
       "    <tr>\n",
       "      <th>160</th>\n",
       "      <td>White</td>\n",
       "      <td>17994.500000</td>\n",
       "    </tr>\n",
       "  </tbody>\n",
       "</table>\n",
       "<p>161 rows × 2 columns</p>\n",
       "</div>"
      ],
      "text/plain": [
       "                Color         Price\n",
       "0           Agate Red  10849.000000\n",
       "1           Aqua Blue   9999.000000\n",
       "2        Arctic White  28999.000000\n",
       "3    Armoured Edition  20999.000000\n",
       "4         Astral Blue  19319.000000\n",
       "..                ...           ...\n",
       "156     Unicorn White  18990.000000\n",
       "157      Vanilla Mint  14656.666667\n",
       "158            Violet   9719.000000\n",
       "159    Waterfall Grey  16990.000000\n",
       "160             White  17994.500000\n",
       "\n",
       "[161 rows x 2 columns]"
      ]
     },
     "execution_count": 80,
     "metadata": {},
     "output_type": "execute_result"
    }
   ],
   "source": [
    "df_color"
   ]
  },
  {
   "cell_type": "code",
   "execution_count": 83,
   "metadata": {},
   "outputs": [],
   "source": [
    "df_new['Name'] = df_new['Name'].replace(list(df_name['Name']),list(df_name['Price']))\n"
   ]
  },
  {
   "cell_type": "code",
   "execution_count": 86,
   "metadata": {},
   "outputs": [],
   "source": [
    "df_new['Color'] = df_new['Color'].replace(list(df_color['Color']),list(df_color['Price']))"
   ]
  },
  {
   "cell_type": "code",
   "execution_count": 94,
   "metadata": {},
   "outputs": [],
   "source": [
    "x_cols = [col for col in df_new.columns if col != 'Price']\n",
    "X = df_new[x_cols]\n",
    "y = df_new['Price']"
   ]
  },
  {
   "cell_type": "code",
   "execution_count": 95,
   "metadata": {},
   "outputs": [],
   "source": [
    "from sklearn.model_selection import train_test_split\n",
    "\n",
    "x_train,x_test,y_train,y_test = train_test_split(X,y,test_size=0.2,random_state=20)"
   ]
  },
  {
   "cell_type": "code",
   "execution_count": 96,
   "metadata": {},
   "outputs": [],
   "source": [
    "from sklearn.linear_model import LinearRegression,Ridge,Lasso\n",
    "models = {\n",
    "    'LR':LinearRegression(),\n",
    "    'Ri':Ridge(alpha=1000),\n",
    "    'La':Lasso(alpha=1000)}"
   ]
  },
  {
   "cell_type": "code",
   "execution_count": 97,
   "metadata": {},
   "outputs": [],
   "source": [
    "from sklearn.metrics import mean_absolute_error\n",
    "\n",
    "mse={}\n",
    "adj_r2={}\n",
    "\n",
    "for name,model in models.items():\n",
    "    model.fit(x_train,y_train)\n",
    "    y_pred=model.predict(x_test)\n",
    "\n",
    "    adj_r2[name] = round(model.score(x_test,y_test),3)\n",
    "    mse[name] = mean_absolute_error(y_pred,y_test)"
   ]
  },
  {
   "cell_type": "code",
   "execution_count": 98,
   "metadata": {},
   "outputs": [
    {
     "data": {
      "text/plain": [
       "{'LR': 0.976, 'Ri': 0.976, 'La': 0.976}"
      ]
     },
     "execution_count": 98,
     "metadata": {},
     "output_type": "execute_result"
    }
   ],
   "source": [
    "adj_r2"
   ]
  },
  {
   "cell_type": "code",
   "execution_count": 99,
   "metadata": {},
   "outputs": [
    {
     "data": {
      "text/plain": [
       "{'LR': 869.1075117617598, 'Ri': 896.0126197627665, 'La': 891.6791544694696}"
      ]
     },
     "execution_count": 99,
     "metadata": {},
     "output_type": "execute_result"
    }
   ],
   "source": [
    "mse"
   ]
  },
  {
   "cell_type": "code",
   "execution_count": 100,
   "metadata": {},
   "outputs": [],
   "source": [
    "from sklearn.preprocessing import StandardScaler\n",
    "from sklearn.neighbors import KNeighborsRegressor"
   ]
  },
  {
   "cell_type": "code",
   "execution_count": 103,
   "metadata": {},
   "outputs": [],
   "source": [
    "sc = StandardScaler()\n",
    "X_train = sc.fit_transform(x_train)\n",
    "X_test = sc.fit_transform(x_test)"
   ]
  },
  {
   "cell_type": "code",
   "execution_count": 104,
   "metadata": {},
   "outputs": [
    {
     "name": "stdout",
     "output_type": "stream",
     "text": [
      "adj_r2: 0.924\n",
      "mse: 1649.1659340659337\n"
     ]
    }
   ],
   "source": [
    "knn = KNeighborsRegressor(n_neighbors=10)\n",
    "knn.fit(X_train,y_train)\n",
    "y_pred = knn.predict(X_test)\n",
    "\n",
    "print('adj_r2:',round(knn.score(X_test,y_test),3))\n",
    "print('mse:',mean_absolute_error(y_test,y_pred))"
   ]
  }
 ],
 "metadata": {
  "kernelspec": {
   "display_name": "Python 3",
   "language": "python",
   "name": "python3"
  },
  "language_info": {
   "codemirror_mode": {
    "name": "ipython",
    "version": 3
   },
   "file_extension": ".py",
   "mimetype": "text/x-python",
   "name": "python",
   "nbconvert_exporter": "python",
   "pygments_lexer": "ipython3",
   "version": "3.8.6"
  },
  "orig_nbformat": 4
 },
 "nbformat": 4,
 "nbformat_minor": 2
}
