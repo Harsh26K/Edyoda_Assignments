{
  "cells": [
    {
      "cell_type": "code",
      "execution_count": 99,
      "metadata": {
        "id": "ZdBH91vjTUzz"
      },
      "outputs": [],
      "source": [
        "import numpy as np\n",
        "import pandas as pd\n",
        "import matplotlib.pyplot as plt\n",
        "import seaborn as sns\n",
        "import warnings\n",
        "warnings.filterwarnings('ignore')"
      ]
    },
    {
      "cell_type": "code",
      "execution_count": 100,
      "metadata": {},
      "outputs": [
        {
          "data": {
            "text/html": [
              "<div>\n",
              "<style scoped>\n",
              "    .dataframe tbody tr th:only-of-type {\n",
              "        vertical-align: middle;\n",
              "    }\n",
              "\n",
              "    .dataframe tbody tr th {\n",
              "        vertical-align: top;\n",
              "    }\n",
              "\n",
              "    .dataframe thead th {\n",
              "        text-align: right;\n",
              "    }\n",
              "</style>\n",
              "<table border=\"1\" class=\"dataframe\">\n",
              "  <thead>\n",
              "    <tr style=\"text-align: right;\">\n",
              "      <th></th>\n",
              "      <th>Year</th>\n",
              "      <th>OGC</th>\n",
              "      <th>OG</th>\n",
              "      <th>DC</th>\n",
              "      <th>Dept</th>\n",
              "      <th>UC</th>\n",
              "      <th>Union</th>\n",
              "      <th>JF</th>\n",
              "      <th>Job</th>\n",
              "      <th>EI</th>\n",
              "      <th>Salaries</th>\n",
              "      <th>Overtime</th>\n",
              "      <th>H/D</th>\n",
              "      <th>YT</th>\n",
              "      <th>Total_Compensation</th>\n",
              "    </tr>\n",
              "  </thead>\n",
              "  <tbody>\n",
              "    <tr>\n",
              "      <th>0</th>\n",
              "      <td>2015</td>\n",
              "      <td>4</td>\n",
              "      <td>Community Health</td>\n",
              "      <td>DPH</td>\n",
              "      <td>Public Health</td>\n",
              "      <td>250</td>\n",
              "      <td>SEIU - Health Workers, Local 1021</td>\n",
              "      <td>Med Therapy &amp; Auxiliary</td>\n",
              "      <td>Morgue Attendant</td>\n",
              "      <td>6725</td>\n",
              "      <td>12196</td>\n",
              "      <td>0</td>\n",
              "      <td>0.00</td>\n",
              "      <td>Calendar</td>\n",
              "      <td>16158</td>\n",
              "    </tr>\n",
              "    <tr>\n",
              "      <th>1</th>\n",
              "      <td>2013</td>\n",
              "      <td>4</td>\n",
              "      <td>Community Health</td>\n",
              "      <td>DPH</td>\n",
              "      <td>Public Health</td>\n",
              "      <td>39</td>\n",
              "      <td>Stationary Engineers, Local 39</td>\n",
              "      <td>Journeyman Trade</td>\n",
              "      <td>Stationary Engineer</td>\n",
              "      <td>25058</td>\n",
              "      <td>74639</td>\n",
              "      <td>2820</td>\n",
              "      <td>12703.31</td>\n",
              "      <td>Fiscal</td>\n",
              "      <td>115784</td>\n",
              "    </tr>\n",
              "    <tr>\n",
              "      <th>2</th>\n",
              "      <td>2015</td>\n",
              "      <td>6</td>\n",
              "      <td>General Administration &amp; Finance</td>\n",
              "      <td>ASR</td>\n",
              "      <td>Assessor/Recorder</td>\n",
              "      <td>21</td>\n",
              "      <td>Prof &amp; Tech Engineers - Miscellaneous, Local 21</td>\n",
              "      <td>Appraisal &amp; Taxation</td>\n",
              "      <td>Senior Real Property Appraiser</td>\n",
              "      <td>46108</td>\n",
              "      <td>100554</td>\n",
              "      <td>0</td>\n",
              "      <td>12424.50</td>\n",
              "      <td>Calendar</td>\n",
              "      <td>144708</td>\n",
              "    </tr>\n",
              "    <tr>\n",
              "      <th>3</th>\n",
              "      <td>2016</td>\n",
              "      <td>1</td>\n",
              "      <td>Public Protection</td>\n",
              "      <td>POL</td>\n",
              "      <td>Police</td>\n",
              "      <td>911</td>\n",
              "      <td>Police Officers' Association</td>\n",
              "      <td>Police Services</td>\n",
              "      <td>Sergeant 3</td>\n",
              "      <td>33369</td>\n",
              "      <td>140164</td>\n",
              "      <td>52754</td>\n",
              "      <td>13043.87</td>\n",
              "      <td>Fiscal</td>\n",
              "      <td>242323</td>\n",
              "    </tr>\n",
              "    <tr>\n",
              "      <th>4</th>\n",
              "      <td>2013</td>\n",
              "      <td>2</td>\n",
              "      <td>Public Works, Transportation &amp; Commerce</td>\n",
              "      <td>HHP</td>\n",
              "      <td>PUC Hetch Hetchy</td>\n",
              "      <td>21</td>\n",
              "      <td>Prof &amp; Tech Engineers - Miscellaneous, Local 21</td>\n",
              "      <td>Information Systems</td>\n",
              "      <td>IS Engineer-Journey</td>\n",
              "      <td>28684</td>\n",
              "      <td>58813</td>\n",
              "      <td>0</td>\n",
              "      <td>7655.28</td>\n",
              "      <td>Calendar</td>\n",
              "      <td>82106</td>\n",
              "    </tr>\n",
              "    <tr>\n",
              "      <th>...</th>\n",
              "      <td>...</td>\n",
              "      <td>...</td>\n",
              "      <td>...</td>\n",
              "      <td>...</td>\n",
              "      <td>...</td>\n",
              "      <td>...</td>\n",
              "      <td>...</td>\n",
              "      <td>...</td>\n",
              "      <td>...</td>\n",
              "      <td>...</td>\n",
              "      <td>...</td>\n",
              "      <td>...</td>\n",
              "      <td>...</td>\n",
              "      <td>...</td>\n",
              "      <td>...</td>\n",
              "    </tr>\n",
              "    <tr>\n",
              "      <th>287831</th>\n",
              "      <td>2016</td>\n",
              "      <td>3</td>\n",
              "      <td>Human Welfare &amp; Neighborhood Development</td>\n",
              "      <td>DSS</td>\n",
              "      <td>Human Services</td>\n",
              "      <td>535</td>\n",
              "      <td>SEIU - Human Services, Local 1021</td>\n",
              "      <td>Human Services</td>\n",
              "      <td>Senior Eligibility Worker</td>\n",
              "      <td>9610</td>\n",
              "      <td>78980</td>\n",
              "      <td>30115</td>\n",
              "      <td>13068.80</td>\n",
              "      <td>Fiscal</td>\n",
              "      <td>147079</td>\n",
              "    </tr>\n",
              "    <tr>\n",
              "      <th>287832</th>\n",
              "      <td>2015</td>\n",
              "      <td>5</td>\n",
              "      <td>Culture &amp; Recreation</td>\n",
              "      <td>LIB</td>\n",
              "      <td>Public Library</td>\n",
              "      <td>790</td>\n",
              "      <td>SEIU - Miscellaneous, Local 1021</td>\n",
              "      <td>Library</td>\n",
              "      <td>Librarian 1</td>\n",
              "      <td>790</td>\n",
              "      <td>30704</td>\n",
              "      <td>0</td>\n",
              "      <td>5465.57</td>\n",
              "      <td>Calendar</td>\n",
              "      <td>40174</td>\n",
              "    </tr>\n",
              "    <tr>\n",
              "      <th>287833</th>\n",
              "      <td>2014</td>\n",
              "      <td>2</td>\n",
              "      <td>Public Works, Transportation &amp; Commerce</td>\n",
              "      <td>HHP</td>\n",
              "      <td>PUC Hetch Hetchy</td>\n",
              "      <td>6</td>\n",
              "      <td>Electrical Workers, Local 6</td>\n",
              "      <td>Journeyman Trade</td>\n",
              "      <td>Electronic Maintenance Tech</td>\n",
              "      <td>38352</td>\n",
              "      <td>104451</td>\n",
              "      <td>0</td>\n",
              "      <td>13054.94</td>\n",
              "      <td>Calendar</td>\n",
              "      <td>164669</td>\n",
              "    </tr>\n",
              "    <tr>\n",
              "      <th>287834</th>\n",
              "      <td>2013</td>\n",
              "      <td>1</td>\n",
              "      <td>Public Protection</td>\n",
              "      <td>JUV</td>\n",
              "      <td>Juvenile Probation</td>\n",
              "      <td>250</td>\n",
              "      <td>SEIU - Health Workers, Local 1021</td>\n",
              "      <td>Housekeeping &amp; Laundry</td>\n",
              "      <td>Porter</td>\n",
              "      <td>29266</td>\n",
              "      <td>14425</td>\n",
              "      <td>0</td>\n",
              "      <td>4051.90</td>\n",
              "      <td>Calendar</td>\n",
              "      <td>19594</td>\n",
              "    </tr>\n",
              "    <tr>\n",
              "      <th>287835</th>\n",
              "      <td>2015</td>\n",
              "      <td>4</td>\n",
              "      <td>Community Health</td>\n",
              "      <td>DPH</td>\n",
              "      <td>Public Health</td>\n",
              "      <td>791</td>\n",
              "      <td>SEIU - Staff and Per Diem Nurses, Local 1021</td>\n",
              "      <td>Nursing</td>\n",
              "      <td>Special Nurse</td>\n",
              "      <td>13906</td>\n",
              "      <td>105561</td>\n",
              "      <td>8945</td>\n",
              "      <td>7993.89</td>\n",
              "      <td>Fiscal</td>\n",
              "      <td>154197</td>\n",
              "    </tr>\n",
              "  </tbody>\n",
              "</table>\n",
              "<p>287836 rows × 15 columns</p>\n",
              "</div>"
            ],
            "text/plain": [
              "        Year  OGC                                        OG   DC  \\\n",
              "0       2015    4                          Community Health  DPH   \n",
              "1       2013    4                          Community Health  DPH   \n",
              "2       2015    6          General Administration & Finance  ASR   \n",
              "3       2016    1                         Public Protection  POL   \n",
              "4       2013    2   Public Works, Transportation & Commerce  HHP   \n",
              "...      ...  ...                                       ...  ...   \n",
              "287831  2016    3  Human Welfare & Neighborhood Development  DSS   \n",
              "287832  2015    5                      Culture & Recreation  LIB   \n",
              "287833  2014    2   Public Works, Transportation & Commerce  HHP   \n",
              "287834  2013    1                         Public Protection  JUV   \n",
              "287835  2015    4                          Community Health  DPH   \n",
              "\n",
              "                      Dept   UC  \\\n",
              "0            Public Health  250   \n",
              "1            Public Health   39   \n",
              "2        Assessor/Recorder   21   \n",
              "3                   Police  911   \n",
              "4         PUC Hetch Hetchy   21   \n",
              "...                    ...  ...   \n",
              "287831      Human Services  535   \n",
              "287832      Public Library  790   \n",
              "287833    PUC Hetch Hetchy    6   \n",
              "287834  Juvenile Probation  250   \n",
              "287835       Public Health  791   \n",
              "\n",
              "                                                  Union  \\\n",
              "0                     SEIU - Health Workers, Local 1021   \n",
              "1                        Stationary Engineers, Local 39   \n",
              "2       Prof & Tech Engineers - Miscellaneous, Local 21   \n",
              "3                          Police Officers' Association   \n",
              "4       Prof & Tech Engineers - Miscellaneous, Local 21   \n",
              "...                                                 ...   \n",
              "287831                SEIU - Human Services, Local 1021   \n",
              "287832                 SEIU - Miscellaneous, Local 1021   \n",
              "287833                      Electrical Workers, Local 6   \n",
              "287834                SEIU - Health Workers, Local 1021   \n",
              "287835     SEIU - Staff and Per Diem Nurses, Local 1021   \n",
              "\n",
              "                             JF                             Job     EI  \\\n",
              "0       Med Therapy & Auxiliary                Morgue Attendant   6725   \n",
              "1              Journeyman Trade             Stationary Engineer  25058   \n",
              "2          Appraisal & Taxation  Senior Real Property Appraiser  46108   \n",
              "3               Police Services                      Sergeant 3  33369   \n",
              "4           Information Systems             IS Engineer-Journey  28684   \n",
              "...                         ...                             ...    ...   \n",
              "287831           Human Services       Senior Eligibility Worker   9610   \n",
              "287832                  Library                     Librarian 1    790   \n",
              "287833         Journeyman Trade     Electronic Maintenance Tech  38352   \n",
              "287834   Housekeeping & Laundry                          Porter  29266   \n",
              "287835                  Nursing                   Special Nurse  13906   \n",
              "\n",
              "        Salaries  Overtime       H/D        YT  Total_Compensation  \n",
              "0          12196         0      0.00  Calendar               16158  \n",
              "1          74639      2820  12703.31    Fiscal              115784  \n",
              "2         100554         0  12424.50  Calendar              144708  \n",
              "3         140164     52754  13043.87    Fiscal              242323  \n",
              "4          58813         0   7655.28  Calendar               82106  \n",
              "...          ...       ...       ...       ...                 ...  \n",
              "287831     78980     30115  13068.80    Fiscal              147079  \n",
              "287832     30704         0   5465.57  Calendar               40174  \n",
              "287833    104451         0  13054.94  Calendar              164669  \n",
              "287834     14425         0   4051.90  Calendar               19594  \n",
              "287835    105561      8945   7993.89    Fiscal              154197  \n",
              "\n",
              "[287836 rows x 15 columns]"
            ]
          },
          "execution_count": 100,
          "metadata": {},
          "output_type": "execute_result"
        }
      ],
      "source": [
        "df = pd.read_csv('./Employee_compensation_data.csv')\n",
        "df"
      ]
    },
    {
      "cell_type": "code",
      "execution_count": 101,
      "metadata": {},
      "outputs": [
        {
          "data": {
            "text/plain": [
              "(287836, 15)"
            ]
          },
          "execution_count": 101,
          "metadata": {},
          "output_type": "execute_result"
        }
      ],
      "source": [
        "df.shape"
      ]
    },
    {
      "cell_type": "code",
      "execution_count": 102,
      "metadata": {},
      "outputs": [
        {
          "name": "stdout",
          "output_type": "stream",
          "text": [
            "<class 'pandas.core.frame.DataFrame'>\n",
            "RangeIndex: 287836 entries, 0 to 287835\n",
            "Data columns (total 15 columns):\n",
            " #   Column              Non-Null Count   Dtype  \n",
            "---  ------              --------------   -----  \n",
            " 0   Year                287836 non-null  int64  \n",
            " 1   OGC                 287836 non-null  int64  \n",
            " 2   OG                  287836 non-null  object \n",
            " 3   DC                  287836 non-null  object \n",
            " 4   Dept                287836 non-null  object \n",
            " 5   UC                  287836 non-null  int64  \n",
            " 6   Union               287800 non-null  object \n",
            " 7   JF                  287798 non-null  object \n",
            " 8   Job                 287836 non-null  object \n",
            " 9   EI                  287836 non-null  int64  \n",
            " 10  Salaries            287836 non-null  int64  \n",
            " 11  Overtime            287836 non-null  int64  \n",
            " 12  H/D                 287836 non-null  float64\n",
            " 13  YT                  287836 non-null  object \n",
            " 14  Total_Compensation  287836 non-null  int64  \n",
            "dtypes: float64(1), int64(7), object(7)\n",
            "memory usage: 32.9+ MB\n"
          ]
        }
      ],
      "source": [
        "df.info()"
      ]
    },
    {
      "cell_type": "code",
      "execution_count": 103,
      "metadata": {},
      "outputs": [
        {
          "data": {
            "text/plain": [
              "Year                       4\n",
              "OGC                        7\n",
              "OG                         7\n",
              "DC                        54\n",
              "Dept                      54\n",
              "UC                       789\n",
              "Union                     73\n",
              "JF                        55\n",
              "Job                     1136\n",
              "EI                     52403\n",
              "Salaries              104444\n",
              "Overtime               33632\n",
              "H/D                   113669\n",
              "YT                         2\n",
              "Total_Compensation    155965\n",
              "dtype: int64"
            ]
          },
          "execution_count": 103,
          "metadata": {},
          "output_type": "execute_result"
        }
      ],
      "source": [
        "df.nunique()"
      ]
    },
    {
      "cell_type": "code",
      "execution_count": 104,
      "metadata": {},
      "outputs": [
        {
          "data": {
            "text/html": [
              "<div>\n",
              "<style scoped>\n",
              "    .dataframe tbody tr th:only-of-type {\n",
              "        vertical-align: middle;\n",
              "    }\n",
              "\n",
              "    .dataframe tbody tr th {\n",
              "        vertical-align: top;\n",
              "    }\n",
              "\n",
              "    .dataframe thead th {\n",
              "        text-align: right;\n",
              "    }\n",
              "</style>\n",
              "<table border=\"1\" class=\"dataframe\">\n",
              "  <thead>\n",
              "    <tr style=\"text-align: right;\">\n",
              "      <th></th>\n",
              "      <th>Year</th>\n",
              "      <th>OGC</th>\n",
              "      <th>UC</th>\n",
              "      <th>EI</th>\n",
              "      <th>Salaries</th>\n",
              "      <th>Overtime</th>\n",
              "      <th>H/D</th>\n",
              "      <th>Total_Compensation</th>\n",
              "    </tr>\n",
              "  </thead>\n",
              "  <tbody>\n",
              "    <tr>\n",
              "      <th>count</th>\n",
              "      <td>287836.000000</td>\n",
              "      <td>287836.000000</td>\n",
              "      <td>287836.000000</td>\n",
              "      <td>287836.000000</td>\n",
              "      <td>287836.000000</td>\n",
              "      <td>287836.000000</td>\n",
              "      <td>287836.000000</td>\n",
              "      <td>287836.000000</td>\n",
              "    </tr>\n",
              "    <tr>\n",
              "      <th>mean</th>\n",
              "      <td>2014.250104</td>\n",
              "      <td>2.976007</td>\n",
              "      <td>490.540186</td>\n",
              "      <td>26913.060020</td>\n",
              "      <td>63262.713139</td>\n",
              "      <td>4401.037115</td>\n",
              "      <td>8932.876472</td>\n",
              "      <td>97990.329882</td>\n",
              "    </tr>\n",
              "    <tr>\n",
              "      <th>std</th>\n",
              "      <td>1.016282</td>\n",
              "      <td>1.575586</td>\n",
              "      <td>333.238723</td>\n",
              "      <td>15539.719696</td>\n",
              "      <td>44638.657748</td>\n",
              "      <td>11079.137749</td>\n",
              "      <td>4894.072024</td>\n",
              "      <td>67750.020573</td>\n",
              "    </tr>\n",
              "    <tr>\n",
              "      <th>min</th>\n",
              "      <td>2013.000000</td>\n",
              "      <td>1.000000</td>\n",
              "      <td>1.000000</td>\n",
              "      <td>1.000000</td>\n",
              "      <td>-68771.000000</td>\n",
              "      <td>-12308.000000</td>\n",
              "      <td>-2940.470000</td>\n",
              "      <td>-74082.000000</td>\n",
              "    </tr>\n",
              "    <tr>\n",
              "      <th>25%</th>\n",
              "      <td>2013.000000</td>\n",
              "      <td>2.000000</td>\n",
              "      <td>236.000000</td>\n",
              "      <td>13434.000000</td>\n",
              "      <td>23406.000000</td>\n",
              "      <td>0.000000</td>\n",
              "      <td>4358.347500</td>\n",
              "      <td>35977.000000</td>\n",
              "    </tr>\n",
              "    <tr>\n",
              "      <th>50%</th>\n",
              "      <td>2014.000000</td>\n",
              "      <td>2.000000</td>\n",
              "      <td>535.000000</td>\n",
              "      <td>27013.000000</td>\n",
              "      <td>62504.500000</td>\n",
              "      <td>0.000000</td>\n",
              "      <td>11982.035000</td>\n",
              "      <td>98033.000000</td>\n",
              "    </tr>\n",
              "    <tr>\n",
              "      <th>75%</th>\n",
              "      <td>2015.000000</td>\n",
              "      <td>4.000000</td>\n",
              "      <td>790.000000</td>\n",
              "      <td>40397.250000</td>\n",
              "      <td>93000.250000</td>\n",
              "      <td>2738.000000</td>\n",
              "      <td>12801.790000</td>\n",
              "      <td>142138.250000</td>\n",
              "    </tr>\n",
              "    <tr>\n",
              "      <th>max</th>\n",
              "      <td>2016.000000</td>\n",
              "      <td>7.000000</td>\n",
              "      <td>990.000000</td>\n",
              "      <td>53794.000000</td>\n",
              "      <td>515101.000000</td>\n",
              "      <td>227313.000000</td>\n",
              "      <td>21872.800000</td>\n",
              "      <td>653498.000000</td>\n",
              "    </tr>\n",
              "  </tbody>\n",
              "</table>\n",
              "</div>"
            ],
            "text/plain": [
              "                Year            OGC             UC             EI  \\\n",
              "count  287836.000000  287836.000000  287836.000000  287836.000000   \n",
              "mean     2014.250104       2.976007     490.540186   26913.060020   \n",
              "std         1.016282       1.575586     333.238723   15539.719696   \n",
              "min      2013.000000       1.000000       1.000000       1.000000   \n",
              "25%      2013.000000       2.000000     236.000000   13434.000000   \n",
              "50%      2014.000000       2.000000     535.000000   27013.000000   \n",
              "75%      2015.000000       4.000000     790.000000   40397.250000   \n",
              "max      2016.000000       7.000000     990.000000   53794.000000   \n",
              "\n",
              "            Salaries       Overtime            H/D  Total_Compensation  \n",
              "count  287836.000000  287836.000000  287836.000000       287836.000000  \n",
              "mean    63262.713139    4401.037115    8932.876472        97990.329882  \n",
              "std     44638.657748   11079.137749    4894.072024        67750.020573  \n",
              "min    -68771.000000  -12308.000000   -2940.470000       -74082.000000  \n",
              "25%     23406.000000       0.000000    4358.347500        35977.000000  \n",
              "50%     62504.500000       0.000000   11982.035000        98033.000000  \n",
              "75%     93000.250000    2738.000000   12801.790000       142138.250000  \n",
              "max    515101.000000  227313.000000   21872.800000       653498.000000  "
            ]
          },
          "execution_count": 104,
          "metadata": {},
          "output_type": "execute_result"
        }
      ],
      "source": [
        "df.describe(include=['int64','float64'])"
      ]
    },
    {
      "cell_type": "code",
      "execution_count": 105,
      "metadata": {},
      "outputs": [
        {
          "data": {
            "text/plain": [
              "Year                   0\n",
              "OGC                    0\n",
              "OG                     0\n",
              "DC                     0\n",
              "Dept                   0\n",
              "UC                     0\n",
              "Union                 36\n",
              "JF                    38\n",
              "Job                    0\n",
              "EI                     0\n",
              "Salaries               0\n",
              "Overtime               0\n",
              "H/D                    0\n",
              "YT                     0\n",
              "Total_Compensation     0\n",
              "dtype: int64"
            ]
          },
          "execution_count": 105,
          "metadata": {},
          "output_type": "execute_result"
        }
      ],
      "source": [
        "df.isnull().sum()"
      ]
    },
    {
      "cell_type": "code",
      "execution_count": 106,
      "metadata": {},
      "outputs": [
        {
          "data": {
            "text/plain": [
              "(287798, 15)"
            ]
          },
          "execution_count": 106,
          "metadata": {},
          "output_type": "execute_result"
        }
      ],
      "source": [
        "df.dropna(how='any',inplace=True)\n",
        "df.shape"
      ]
    },
    {
      "cell_type": "code",
      "execution_count": 107,
      "metadata": {},
      "outputs": [
        {
          "data": {
            "text/plain": [
              "<AxesSubplot:xlabel='YT', ylabel='Total_Compensation'>"
            ]
          },
          "execution_count": 107,
          "metadata": {},
          "output_type": "execute_result"
        },
        {
          "data": {
            "image/png": "[encoded data removed]",
            "text/plain": [
              "<Figure size 432x288 with 1 Axes>"
            ]
          },
          "metadata": {
            "needs_background": "light"
          },
          "output_type": "display_data"
        }
      ],
      "source": [
        "sns.boxplot(x='YT',y='Total_Compensation',data=df)"
      ]
    },
    {
      "cell_type": "code",
      "execution_count": 108,
      "metadata": {},
      "outputs": [
        {
          "data": {
            "image/png": "[encoded data removed]",
            "text/plain": [
              "<Figure size 1440x576 with 1 Axes>"
            ]
          },
          "metadata": {
            "needs_background": "light"
          },
          "output_type": "display_data"
        }
      ],
      "source": [
        "plt.figure(figsize=(20,8))\n",
        "sns.boxplot(x='OG',y='Total_Compensation',data=df)\n",
        "plt.tight_layout()"
      ]
    },
    {
      "cell_type": "code",
      "execution_count": 109,
      "metadata": {},
      "outputs": [
        {
          "data": {
            "text/plain": [
              "<AxesSubplot:>"
            ]
          },
          "execution_count": 109,
          "metadata": {},
          "output_type": "execute_result"
        },
        {
          "data": {
            "image/png": "[encoded data removed]",
            "text/plain": [
              "<Figure size 432x288 with 2 Axes>"
            ]
          },
          "metadata": {
            "needs_background": "light"
          },
          "output_type": "display_data"
        }
      ],
      "source": [
        "sns.heatmap(df.corr(),annot=True,fmt='.2f')"
      ]
    },
    {
      "cell_type": "code",
      "execution_count": 110,
      "metadata": {},
      "outputs": [],
      "source": [
        "df_new = df.drop(['H/D','DC'],axis=1)"
      ]
    },
    {
      "cell_type": "code",
      "execution_count": 111,
      "metadata": {},
      "outputs": [
        {
          "data": {
            "text/plain": [
              "Index(['Year', 'OGC', 'OG', 'Dept', 'UC', 'Union', 'JF', 'Job', 'EI',\n",
              "       'Salaries', 'Overtime', 'YT', 'Total_Compensation'],\n",
              "      dtype='object')"
            ]
          },
          "execution_count": 111,
          "metadata": {},
          "output_type": "execute_result"
        }
      ],
      "source": [
        "df_new.columns"
      ]
    },
    {
      "cell_type": "code",
      "execution_count": 113,
      "metadata": {},
      "outputs": [
        {
          "name": "stdout",
          "output_type": "stream",
          "text": [
            "['Year', 'OGC', 'UC', 'EI', 'Salaries', 'Overtime']\n",
            "['OG', 'Dept', 'Union', 'JF', 'Job', 'YT']\n"
          ]
        }
      ],
      "source": [
        "num_columns = [x for x in df_new.select_dtypes(['int64','float64'])]\n",
        "cat_columns = [x for x in df_new.select_dtypes('object')]\n",
        "num_columns.remove('Total_Compensation')\n",
        "print(num_columns)\n",
        "print(cat_columns)"
      ]
    },
    {
      "cell_type": "code",
      "execution_count": 114,
      "metadata": {},
      "outputs": [],
      "source": [
        "X_col = [col for col in df_new.columns if col != 'Total_Compensation']\n",
        "X = df_new[X_col]\n",
        "y = df_new['Total_Compensation']"
      ]
    },
    {
      "cell_type": "code",
      "execution_count": 115,
      "metadata": {},
      "outputs": [
        {
          "data": {
            "text/plain": [
              "0          16158\n",
              "1         115784\n",
              "2         144708\n",
              "3         242323\n",
              "4          82106\n",
              "           ...  \n",
              "287831    147079\n",
              "287832     40174\n",
              "287833    164669\n",
              "287834     19594\n",
              "287835    154197\n",
              "Name: Total_Compensation, Length: 287798, dtype: int64"
            ]
          },
          "execution_count": 115,
          "metadata": {},
          "output_type": "execute_result"
        }
      ],
      "source": [
        "y"
      ]
    },
    {
      "cell_type": "code",
      "execution_count": 116,
      "metadata": {},
      "outputs": [],
      "source": [
        "from sklearn.model_selection import train_test_split\n",
        "\n",
        "x_train,x_test,y_train,y_test=train_test_split(X,y,test_size=0.3,random_state=2)"
      ]
    },
    {
      "cell_type": "code",
      "execution_count": 117,
      "metadata": {},
      "outputs": [
        {
          "data": {
            "text/plain": [
              "267781     51061\n",
              "59705     183590\n",
              "216757    132849\n",
              "236239     50709\n",
              "161740     44644\n",
              "           ...  \n",
              "33872      60402\n",
              "84445       4546\n",
              "95828      36535\n",
              "203273    123664\n",
              "100893    109086\n",
              "Name: Total_Compensation, Length: 201458, dtype: int64"
            ]
          },
          "execution_count": 117,
          "metadata": {},
          "output_type": "execute_result"
        }
      ],
      "source": [
        "y_train"
      ]
    },
    {
      "cell_type": "code",
      "execution_count": 118,
      "metadata": {},
      "outputs": [
        {
          "data": {
            "text/plain": [
              "['Union', 'Job']"
            ]
          },
          "execution_count": 118,
          "metadata": {},
          "output_type": "execute_result"
        }
      ],
      "source": [
        "bad_lbl_columns = [col for col in cat_columns if list(set(x_train[col])- set(x_test[col]))]\n",
        "bad_lbl_columns"
      ]
    },
    {
      "cell_type": "code",
      "execution_count": 119,
      "metadata": {},
      "outputs": [
        {
          "data": {
            "text/plain": [
              "['OG', 'Dept', 'JF', 'YT']"
            ]
          },
          "execution_count": 119,
          "metadata": {},
          "output_type": "execute_result"
        }
      ],
      "source": [
        "X_train = x_train.drop(bad_lbl_columns,axis=1)\n",
        "X_test = x_test.drop(bad_lbl_columns,axis=1)\n",
        "cat_columns = [x for x in cat_columns if x not in bad_lbl_columns]\n",
        "cat_columns"
      ]
    },
    {
      "cell_type": "code",
      "execution_count": 120,
      "metadata": {},
      "outputs": [
        {
          "data": {
            "text/plain": [
              "Index(['Year', 'OGC', 'OG', 'Dept', 'UC', 'Union', 'JF', 'Job', 'EI',\n",
              "       'Salaries', 'Overtime', 'YT'],\n",
              "      dtype='object')"
            ]
          },
          "execution_count": 120,
          "metadata": {},
          "output_type": "execute_result"
        }
      ],
      "source": [
        "x_train.columns"
      ]
    },
    {
      "cell_type": "code",
      "execution_count": 121,
      "metadata": {},
      "outputs": [],
      "source": [
        "from sklearn.preprocessing import LabelEncoder,OneHotEncoder,OrdinalEncoder\n",
        "from sklearn.pipeline import Pipeline\n",
        "from sklearn.impute import SimpleImputer\n",
        "from sklearn.compose import ColumnTransformer"
      ]
    },
    {
      "cell_type": "code",
      "execution_count": 122,
      "metadata": {},
      "outputs": [],
      "source": [
        "OH_columns = [col for col in cat_columns if df_new[col].nunique() <=10]\n",
        "LE_columns = list(set(cat_columns) - set(OH_columns))"
      ]
    },
    {
      "cell_type": "code",
      "execution_count": 123,
      "metadata": {},
      "outputs": [],
      "source": [
        "num_transformer = SimpleImputer(missing_values = np.nan,strategy='mean')\n",
        "OH_transformer = Pipeline(steps= [\n",
        "    ('imputer',SimpleImputer(strategy='most_frequent')),\n",
        "    ('one_hot',OneHotEncoder(handle_unknown='ignore',sparse=False))\n",
        "])\n",
        "LE_transformer = Pipeline(steps = [\n",
        "    ('imputer',SimpleImputer(strategy='most_frequent')),\n",
        "    ('le_enc',OrdinalEncoder())\n",
        "])\n",
        "\n",
        "preprocessor = ColumnTransformer(\n",
        "    transformers = [\n",
        "        ('num',num_transformer,num_columns),\n",
        "        ('oh',OH_transformer,OH_columns),\n",
        "        ('le',LE_transformer,LE_columns)\n",
        "    ]\n",
        ")"
      ]
    },
    {
      "cell_type": "code",
      "execution_count": 124,
      "metadata": {},
      "outputs": [],
      "source": [
        "from sklearn.linear_model import LinearRegression\n",
        "from sklearn.neighbors import KNeighborsRegressor\n",
        "from sklearn.ensemble import RandomForestRegressor\n",
        "\n",
        "models = {\n",
        "    'LR' : LinearRegression(),\n",
        "    'KNN' : KNeighborsRegressor(),\n",
        "    'RF' : RandomForestRegressor(n_estimators = 100, random_state=0)\n",
        "}"
      ]
    },
    {
      "cell_type": "code",
      "execution_count": 128,
      "metadata": {},
      "outputs": [],
      "source": [
        "from sklearn.metrics import mean_absolute_error\n",
        "\n",
        "model_mse = {}\n",
        "model_adj_r2 ={}\n",
        "\n",
        "for name, model in models.items():\n",
        "    pipe = Pipeline([('preprocessor',preprocessor),\n",
        "                    ('regressor',model)])\n",
        "    pipe.fit(X_train,y_train)\n",
        "    y_pred = pipe.predict(X_test)\n",
        "\n",
        "    model_adj_r2[name] = round(pipe.score(X_test,y_test),3)\n",
        "    model_mse[name] = mean_absolute_error(y_pred,y_test)"
      ]
    },
    {
      "cell_type": "code",
      "execution_count": 129,
      "metadata": {},
      "outputs": [
        {
          "data": {
            "text/plain": [
              "{'LR': 0.984, 'KNN': 0.985, 'RF': 0.989}"
            ]
          },
          "execution_count": 129,
          "metadata": {},
          "output_type": "execute_result"
        }
      ],
      "source": [
        "model_adj_r2"
      ]
    },
    {
      "cell_type": "code",
      "execution_count": 130,
      "metadata": {},
      "outputs": [
        {
          "data": {
            "text/plain": [
              "{'LR': 5293.0339085816395, 'KNN': 4493.663717859625, 'RF': 3333.2243613668825}"
            ]
          },
          "execution_count": 130,
          "metadata": {},
          "output_type": "execute_result"
        }
      ],
      "source": [
        "model_mse"
      ]
    }
  ],
  "metadata": {
    "colab": {
      "provenance": []
    },
    "kernelspec": {
      "display_name": "Python 3",
      "name": "python3"
    },
    "language_info": {
      "codemirror_mode": {
        "name": "ipython",
        "version": 3
      },
      "file_extension": ".py",
      "mimetype": "text/x-python",
      "name": "python",
      "nbconvert_exporter": "python",
      "pygments_lexer": "ipython3",
      "version": "3.8.6"
    }
  },
  "nbformat": 4,
  "nbformat_minor": 0
}
