{
  "cells": [
    {
      "cell_type": "code",
      "execution_count": 1,
      "metadata": {
        "id": "Gpo2EwjBUheu"
      },
      "outputs": [],
      "source": [
        "import numpy as np\n",
        "import pandas as pd\n",
        "import matplotlib.pyplot as plt\n",
        "import seaborn as sns"
      ]
    },
    {
      "cell_type": "code",
      "execution_count": 2,
      "metadata": {},
      "outputs": [
        {
          "data": {
            "text/html": [
              "<div>\n",
              "<style scoped>\n",
              "    .dataframe tbody tr th:only-of-type {\n",
              "        vertical-align: middle;\n",
              "    }\n",
              "\n",
              "    .dataframe tbody tr th {\n",
              "        vertical-align: top;\n",
              "    }\n",
              "\n",
              "    .dataframe thead th {\n",
              "        text-align: right;\n",
              "    }\n",
              "</style>\n",
              "<table border=\"1\" class=\"dataframe\">\n",
              "  <thead>\n",
              "    <tr style=\"text-align: right;\">\n",
              "      <th></th>\n",
              "      <th>YearStart</th>\n",
              "      <th>YearEnd</th>\n",
              "      <th>LocationAbbr</th>\n",
              "      <th>LocationDesc</th>\n",
              "      <th>Datasource</th>\n",
              "      <th>Class</th>\n",
              "      <th>Topic</th>\n",
              "      <th>Question</th>\n",
              "      <th>Data_Value_Unit</th>\n",
              "      <th>Data_Value_Type</th>\n",
              "      <th>...</th>\n",
              "      <th>GeoLocation</th>\n",
              "      <th>ClassID</th>\n",
              "      <th>TopicID</th>\n",
              "      <th>QuestionID</th>\n",
              "      <th>DataValueTypeID</th>\n",
              "      <th>LocationID</th>\n",
              "      <th>StratificationCategory1</th>\n",
              "      <th>Stratification1</th>\n",
              "      <th>StratificationCategoryId1</th>\n",
              "      <th>StratificationID1</th>\n",
              "    </tr>\n",
              "  </thead>\n",
              "  <tbody>\n",
              "    <tr>\n",
              "      <th>0</th>\n",
              "      <td>2011</td>\n",
              "      <td>2011</td>\n",
              "      <td>AL</td>\n",
              "      <td>Alabama</td>\n",
              "      <td>Behavioral Risk Factor Surveillance System</td>\n",
              "      <td>Obesity / Weight Status</td>\n",
              "      <td>Obesity / Weight Status</td>\n",
              "      <td>Percent of adults aged 18 years and older who ...</td>\n",
              "      <td>NaN</td>\n",
              "      <td>Value</td>\n",
              "      <td>...</td>\n",
              "      <td>(32.84057112200048, -86.63186076199969)</td>\n",
              "      <td>OWS</td>\n",
              "      <td>OWS1</td>\n",
              "      <td>Q036</td>\n",
              "      <td>VALUE</td>\n",
              "      <td>1</td>\n",
              "      <td>Total</td>\n",
              "      <td>Total</td>\n",
              "      <td>OVR</td>\n",
              "      <td>OVERALL</td>\n",
              "    </tr>\n",
              "    <tr>\n",
              "      <th>1</th>\n",
              "      <td>2011</td>\n",
              "      <td>2011</td>\n",
              "      <td>AL</td>\n",
              "      <td>Alabama</td>\n",
              "      <td>Behavioral Risk Factor Surveillance System</td>\n",
              "      <td>Obesity / Weight Status</td>\n",
              "      <td>Obesity / Weight Status</td>\n",
              "      <td>Percent of adults aged 18 years and older who ...</td>\n",
              "      <td>NaN</td>\n",
              "      <td>Value</td>\n",
              "      <td>...</td>\n",
              "      <td>(32.84057112200048, -86.63186076199969)</td>\n",
              "      <td>OWS</td>\n",
              "      <td>OWS1</td>\n",
              "      <td>Q036</td>\n",
              "      <td>VALUE</td>\n",
              "      <td>1</td>\n",
              "      <td>Gender</td>\n",
              "      <td>Male</td>\n",
              "      <td>GEN</td>\n",
              "      <td>MALE</td>\n",
              "    </tr>\n",
              "    <tr>\n",
              "      <th>2</th>\n",
              "      <td>2011</td>\n",
              "      <td>2011</td>\n",
              "      <td>AL</td>\n",
              "      <td>Alabama</td>\n",
              "      <td>Behavioral Risk Factor Surveillance System</td>\n",
              "      <td>Obesity / Weight Status</td>\n",
              "      <td>Obesity / Weight Status</td>\n",
              "      <td>Percent of adults aged 18 years and older who ...</td>\n",
              "      <td>NaN</td>\n",
              "      <td>Value</td>\n",
              "      <td>...</td>\n",
              "      <td>(32.84057112200048, -86.63186076199969)</td>\n",
              "      <td>OWS</td>\n",
              "      <td>OWS1</td>\n",
              "      <td>Q036</td>\n",
              "      <td>VALUE</td>\n",
              "      <td>1</td>\n",
              "      <td>Gender</td>\n",
              "      <td>Female</td>\n",
              "      <td>GEN</td>\n",
              "      <td>FEMALE</td>\n",
              "    </tr>\n",
              "    <tr>\n",
              "      <th>3</th>\n",
              "      <td>2011</td>\n",
              "      <td>2011</td>\n",
              "      <td>AL</td>\n",
              "      <td>Alabama</td>\n",
              "      <td>Behavioral Risk Factor Surveillance System</td>\n",
              "      <td>Obesity / Weight Status</td>\n",
              "      <td>Obesity / Weight Status</td>\n",
              "      <td>Percent of adults aged 18 years and older who ...</td>\n",
              "      <td>NaN</td>\n",
              "      <td>Value</td>\n",
              "      <td>...</td>\n",
              "      <td>(32.84057112200048, -86.63186076199969)</td>\n",
              "      <td>OWS</td>\n",
              "      <td>OWS1</td>\n",
              "      <td>Q036</td>\n",
              "      <td>VALUE</td>\n",
              "      <td>1</td>\n",
              "      <td>Education</td>\n",
              "      <td>Less than high school</td>\n",
              "      <td>EDU</td>\n",
              "      <td>EDUHS</td>\n",
              "    </tr>\n",
              "    <tr>\n",
              "      <th>4</th>\n",
              "      <td>2011</td>\n",
              "      <td>2011</td>\n",
              "      <td>AL</td>\n",
              "      <td>Alabama</td>\n",
              "      <td>Behavioral Risk Factor Surveillance System</td>\n",
              "      <td>Obesity / Weight Status</td>\n",
              "      <td>Obesity / Weight Status</td>\n",
              "      <td>Percent of adults aged 18 years and older who ...</td>\n",
              "      <td>NaN</td>\n",
              "      <td>Value</td>\n",
              "      <td>...</td>\n",
              "      <td>(32.84057112200048, -86.63186076199969)</td>\n",
              "      <td>OWS</td>\n",
              "      <td>OWS1</td>\n",
              "      <td>Q036</td>\n",
              "      <td>VALUE</td>\n",
              "      <td>1</td>\n",
              "      <td>Education</td>\n",
              "      <td>High school graduate</td>\n",
              "      <td>EDU</td>\n",
              "      <td>EDUHSGRAD</td>\n",
              "    </tr>\n",
              "  </tbody>\n",
              "</table>\n",
              "<p>5 rows × 33 columns</p>\n",
              "</div>"
            ],
            "text/plain": [
              "   YearStart  YearEnd LocationAbbr LocationDesc  \\\n",
              "0       2011     2011           AL      Alabama   \n",
              "1       2011     2011           AL      Alabama   \n",
              "2       2011     2011           AL      Alabama   \n",
              "3       2011     2011           AL      Alabama   \n",
              "4       2011     2011           AL      Alabama   \n",
              "\n",
              "                                   Datasource                    Class  \\\n",
              "0  Behavioral Risk Factor Surveillance System  Obesity / Weight Status   \n",
              "1  Behavioral Risk Factor Surveillance System  Obesity / Weight Status   \n",
              "2  Behavioral Risk Factor Surveillance System  Obesity / Weight Status   \n",
              "3  Behavioral Risk Factor Surveillance System  Obesity / Weight Status   \n",
              "4  Behavioral Risk Factor Surveillance System  Obesity / Weight Status   \n",
              "\n",
              "                     Topic                                           Question  \\\n",
              "0  Obesity / Weight Status  Percent of adults aged 18 years and older who ...   \n",
              "1  Obesity / Weight Status  Percent of adults aged 18 years and older who ...   \n",
              "2  Obesity / Weight Status  Percent of adults aged 18 years and older who ...   \n",
              "3  Obesity / Weight Status  Percent of adults aged 18 years and older who ...   \n",
              "4  Obesity / Weight Status  Percent of adults aged 18 years and older who ...   \n",
              "\n",
              "   Data_Value_Unit Data_Value_Type  ...  \\\n",
              "0              NaN           Value  ...   \n",
              "1              NaN           Value  ...   \n",
              "2              NaN           Value  ...   \n",
              "3              NaN           Value  ...   \n",
              "4              NaN           Value  ...   \n",
              "\n",
              "                               GeoLocation  ClassID TopicID QuestionID  \\\n",
              "0  (32.84057112200048, -86.63186076199969)      OWS    OWS1       Q036   \n",
              "1  (32.84057112200048, -86.63186076199969)      OWS    OWS1       Q036   \n",
              "2  (32.84057112200048, -86.63186076199969)      OWS    OWS1       Q036   \n",
              "3  (32.84057112200048, -86.63186076199969)      OWS    OWS1       Q036   \n",
              "4  (32.84057112200048, -86.63186076199969)      OWS    OWS1       Q036   \n",
              "\n",
              "   DataValueTypeID  LocationID  StratificationCategory1  \\\n",
              "0            VALUE           1                    Total   \n",
              "1            VALUE           1                   Gender   \n",
              "2            VALUE           1                   Gender   \n",
              "3            VALUE           1                Education   \n",
              "4            VALUE           1                Education   \n",
              "\n",
              "         Stratification1 StratificationCategoryId1 StratificationID1  \n",
              "0                  Total                       OVR           OVERALL  \n",
              "1                   Male                       GEN              MALE  \n",
              "2                 Female                       GEN            FEMALE  \n",
              "3  Less than high school                       EDU             EDUHS  \n",
              "4   High school graduate                       EDU         EDUHSGRAD  \n",
              "\n",
              "[5 rows x 33 columns]"
            ]
          },
          "execution_count": 2,
          "metadata": {},
          "output_type": "execute_result"
        }
      ],
      "source": [
        "df = pd.read_csv('./Obesity_trends_data.csv')\n",
        "df.head()"
      ]
    },
    {
      "cell_type": "code",
      "execution_count": 3,
      "metadata": {},
      "outputs": [
        {
          "data": {
            "text/plain": [
              "(53392, 33)"
            ]
          },
          "execution_count": 3,
          "metadata": {},
          "output_type": "execute_result"
        }
      ],
      "source": [
        "df.shape"
      ]
    },
    {
      "cell_type": "code",
      "execution_count": 4,
      "metadata": {},
      "outputs": [
        {
          "name": "stdout",
          "output_type": "stream",
          "text": [
            "<class 'pandas.core.frame.DataFrame'>\n",
            "RangeIndex: 53392 entries, 0 to 53391\n",
            "Data columns (total 33 columns):\n",
            " #   Column                      Non-Null Count  Dtype  \n",
            "---  ------                      --------------  -----  \n",
            " 0   YearStart                   53392 non-null  int64  \n",
            " 1   YearEnd                     53392 non-null  int64  \n",
            " 2   LocationAbbr                53392 non-null  object \n",
            " 3   LocationDesc                53392 non-null  object \n",
            " 4   Datasource                  53392 non-null  object \n",
            " 5   Class                       53392 non-null  object \n",
            " 6   Topic                       53392 non-null  object \n",
            " 7   Question                    53392 non-null  object \n",
            " 8   Data_Value_Unit             0 non-null      float64\n",
            " 9   Data_Value_Type             53392 non-null  object \n",
            " 10  Data_Value                  48346 non-null  float64\n",
            " 11  Data_Value_Alt              48346 non-null  float64\n",
            " 12  Data_Value_Footnote_Symbol  5046 non-null   object \n",
            " 13  Data_Value_Footnote         5046 non-null   object \n",
            " 14  Low_Confidence_Limit        48346 non-null  float64\n",
            " 15  High_Confidence_Limit       48346 non-null  float64\n",
            " 16  Sample_Size                 48346 non-null  float64\n",
            " 17  Total                       1907 non-null   object \n",
            " 18  Age(years)                  11438 non-null  object \n",
            " 19  Education                   7628 non-null   object \n",
            " 20  Gender                      3814 non-null   object \n",
            " 21  Income                      13349 non-null  object \n",
            " 22  Race/Ethnicity              15256 non-null  object \n",
            " 23  GeoLocation                 52384 non-null  object \n",
            " 24  ClassID                     53392 non-null  object \n",
            " 25  TopicID                     53392 non-null  object \n",
            " 26  QuestionID                  53392 non-null  object \n",
            " 27  DataValueTypeID             53392 non-null  object \n",
            " 28  LocationID                  53392 non-null  int64  \n",
            " 29  StratificationCategory1     53392 non-null  object \n",
            " 30  Stratification1             53392 non-null  object \n",
            " 31  StratificationCategoryId1   53392 non-null  object \n",
            " 32  StratificationID1           53392 non-null  object \n",
            "dtypes: float64(6), int64(3), object(24)\n",
            "memory usage: 13.4+ MB\n"
          ]
        }
      ],
      "source": [
        "df.info()"
      ]
    },
    {
      "cell_type": "code",
      "execution_count": 5,
      "metadata": {},
      "outputs": [
        {
          "data": {
            "text/plain": [
              "YearStart                        6\n",
              "YearEnd                          6\n",
              "LocationAbbr                    55\n",
              "LocationDesc                    55\n",
              "Datasource                       1\n",
              "Class                            3\n",
              "Topic                            3\n",
              "Question                         9\n",
              "Data_Value_Unit                  0\n",
              "Data_Value_Type                  1\n",
              "Data_Value                     669\n",
              "Data_Value_Alt                 669\n",
              "Data_Value_Footnote_Symbol       1\n",
              "Data_Value_Footnote              2\n",
              "Low_Confidence_Limit           654\n",
              "High_Confidence_Limit          723\n",
              "Sample_Size                   8123\n",
              "Total                            1\n",
              "Age(years)                       6\n",
              "Education                        4\n",
              "Gender                           2\n",
              "Income                           7\n",
              "Race/Ethnicity                   8\n",
              "GeoLocation                     54\n",
              "ClassID                          3\n",
              "TopicID                          3\n",
              "QuestionID                       9\n",
              "DataValueTypeID                  1\n",
              "LocationID                      55\n",
              "StratificationCategory1          6\n",
              "Stratification1                 28\n",
              "StratificationCategoryId1        6\n",
              "StratificationID1               28\n",
              "dtype: int64"
            ]
          },
          "execution_count": 5,
          "metadata": {},
          "output_type": "execute_result"
        }
      ],
      "source": [
        "df.nunique()"
      ]
    },
    {
      "cell_type": "code",
      "execution_count": 6,
      "metadata": {},
      "outputs": [
        {
          "data": {
            "text/html": [
              "<div>\n",
              "<style scoped>\n",
              "    .dataframe tbody tr th:only-of-type {\n",
              "        vertical-align: middle;\n",
              "    }\n",
              "\n",
              "    .dataframe tbody tr th {\n",
              "        vertical-align: top;\n",
              "    }\n",
              "\n",
              "    .dataframe thead th {\n",
              "        text-align: right;\n",
              "    }\n",
              "</style>\n",
              "<table border=\"1\" class=\"dataframe\">\n",
              "  <thead>\n",
              "    <tr style=\"text-align: right;\">\n",
              "      <th></th>\n",
              "      <th>YearStart</th>\n",
              "      <th>YearEnd</th>\n",
              "      <th>Data_Value_Unit</th>\n",
              "      <th>Data_Value</th>\n",
              "      <th>Data_Value_Alt</th>\n",
              "      <th>Low_Confidence_Limit</th>\n",
              "      <th>High_Confidence_Limit</th>\n",
              "      <th>Sample_Size</th>\n",
              "      <th>LocationID</th>\n",
              "    </tr>\n",
              "  </thead>\n",
              "  <tbody>\n",
              "    <tr>\n",
              "      <th>count</th>\n",
              "      <td>53392.000000</td>\n",
              "      <td>53392.000000</td>\n",
              "      <td>0.0</td>\n",
              "      <td>48346.000000</td>\n",
              "      <td>48346.000000</td>\n",
              "      <td>48346.000000</td>\n",
              "      <td>48346.000000</td>\n",
              "      <td>48346.00000</td>\n",
              "      <td>53392.000000</td>\n",
              "    </tr>\n",
              "    <tr>\n",
              "      <th>mean</th>\n",
              "      <td>2013.281465</td>\n",
              "      <td>2013.281465</td>\n",
              "      <td>NaN</td>\n",
              "      <td>31.156681</td>\n",
              "      <td>31.156681</td>\n",
              "      <td>26.892227</td>\n",
              "      <td>35.989997</td>\n",
              "      <td>3889.19286</td>\n",
              "      <td>30.282215</td>\n",
              "    </tr>\n",
              "    <tr>\n",
              "      <th>std</th>\n",
              "      <td>1.693300</td>\n",
              "      <td>1.693300</td>\n",
              "      <td>NaN</td>\n",
              "      <td>10.247033</td>\n",
              "      <td>10.247033</td>\n",
              "      <td>10.038584</td>\n",
              "      <td>11.205813</td>\n",
              "      <td>19829.42129</td>\n",
              "      <td>16.821318</td>\n",
              "    </tr>\n",
              "    <tr>\n",
              "      <th>min</th>\n",
              "      <td>2011.000000</td>\n",
              "      <td>2011.000000</td>\n",
              "      <td>NaN</td>\n",
              "      <td>0.900000</td>\n",
              "      <td>0.900000</td>\n",
              "      <td>0.300000</td>\n",
              "      <td>3.000000</td>\n",
              "      <td>50.00000</td>\n",
              "      <td>1.000000</td>\n",
              "    </tr>\n",
              "    <tr>\n",
              "      <th>25%</th>\n",
              "      <td>2012.000000</td>\n",
              "      <td>2012.000000</td>\n",
              "      <td>NaN</td>\n",
              "      <td>24.100000</td>\n",
              "      <td>24.100000</td>\n",
              "      <td>20.000000</td>\n",
              "      <td>28.200000</td>\n",
              "      <td>566.00000</td>\n",
              "      <td>17.000000</td>\n",
              "    </tr>\n",
              "    <tr>\n",
              "      <th>50%</th>\n",
              "      <td>2013.000000</td>\n",
              "      <td>2013.000000</td>\n",
              "      <td>NaN</td>\n",
              "      <td>30.700000</td>\n",
              "      <td>30.700000</td>\n",
              "      <td>26.450000</td>\n",
              "      <td>35.600000</td>\n",
              "      <td>1209.00000</td>\n",
              "      <td>30.000000</td>\n",
              "    </tr>\n",
              "    <tr>\n",
              "      <th>75%</th>\n",
              "      <td>2015.000000</td>\n",
              "      <td>2015.000000</td>\n",
              "      <td>NaN</td>\n",
              "      <td>37.000000</td>\n",
              "      <td>37.000000</td>\n",
              "      <td>32.900000</td>\n",
              "      <td>42.200000</td>\n",
              "      <td>2519.00000</td>\n",
              "      <td>44.000000</td>\n",
              "    </tr>\n",
              "    <tr>\n",
              "      <th>max</th>\n",
              "      <td>2016.000000</td>\n",
              "      <td>2016.000000</td>\n",
              "      <td>NaN</td>\n",
              "      <td>77.600000</td>\n",
              "      <td>77.600000</td>\n",
              "      <td>69.500000</td>\n",
              "      <td>87.700000</td>\n",
              "      <td>476876.00000</td>\n",
              "      <td>78.000000</td>\n",
              "    </tr>\n",
              "  </tbody>\n",
              "</table>\n",
              "</div>"
            ],
            "text/plain": [
              "          YearStart       YearEnd  Data_Value_Unit    Data_Value  \\\n",
              "count  53392.000000  53392.000000              0.0  48346.000000   \n",
              "mean    2013.281465   2013.281465              NaN     31.156681   \n",
              "std        1.693300      1.693300              NaN     10.247033   \n",
              "min     2011.000000   2011.000000              NaN      0.900000   \n",
              "25%     2012.000000   2012.000000              NaN     24.100000   \n",
              "50%     2013.000000   2013.000000              NaN     30.700000   \n",
              "75%     2015.000000   2015.000000              NaN     37.000000   \n",
              "max     2016.000000   2016.000000              NaN     77.600000   \n",
              "\n",
              "       Data_Value_Alt  Low_Confidence_Limit  High_Confidence_Limit   \\\n",
              "count    48346.000000          48346.000000            48346.000000   \n",
              "mean        31.156681             26.892227               35.989997   \n",
              "std         10.247033             10.038584               11.205813   \n",
              "min          0.900000              0.300000                3.000000   \n",
              "25%         24.100000             20.000000               28.200000   \n",
              "50%         30.700000             26.450000               35.600000   \n",
              "75%         37.000000             32.900000               42.200000   \n",
              "max         77.600000             69.500000               87.700000   \n",
              "\n",
              "        Sample_Size    LocationID  \n",
              "count   48346.00000  53392.000000  \n",
              "mean     3889.19286     30.282215  \n",
              "std     19829.42129     16.821318  \n",
              "min        50.00000      1.000000  \n",
              "25%       566.00000     17.000000  \n",
              "50%      1209.00000     30.000000  \n",
              "75%      2519.00000     44.000000  \n",
              "max    476876.00000     78.000000  "
            ]
          },
          "execution_count": 6,
          "metadata": {},
          "output_type": "execute_result"
        }
      ],
      "source": [
        "df.describe()"
      ]
    },
    {
      "cell_type": "code",
      "execution_count": 7,
      "metadata": {},
      "outputs": [
        {
          "data": {
            "text/plain": [
              "YearStart                         0\n",
              "YearEnd                           0\n",
              "LocationAbbr                      0\n",
              "LocationDesc                      0\n",
              "Datasource                        0\n",
              "Class                             0\n",
              "Topic                             0\n",
              "Question                          0\n",
              "Data_Value_Unit               53392\n",
              "Data_Value_Type                   0\n",
              "Data_Value                     5046\n",
              "Data_Value_Alt                 5046\n",
              "Data_Value_Footnote_Symbol    48346\n",
              "Data_Value_Footnote           48346\n",
              "Low_Confidence_Limit           5046\n",
              "High_Confidence_Limit          5046\n",
              "Sample_Size                    5046\n",
              "Total                         51485\n",
              "Age(years)                    41954\n",
              "Education                     45764\n",
              "Gender                        49578\n",
              "Income                        40043\n",
              "Race/Ethnicity                38136\n",
              "GeoLocation                    1008\n",
              "ClassID                           0\n",
              "TopicID                           0\n",
              "QuestionID                        0\n",
              "DataValueTypeID                   0\n",
              "LocationID                        0\n",
              "StratificationCategory1           0\n",
              "Stratification1                   0\n",
              "StratificationCategoryId1         0\n",
              "StratificationID1                 0\n",
              "dtype: int64"
            ]
          },
          "execution_count": 7,
          "metadata": {},
          "output_type": "execute_result"
        }
      ],
      "source": [
        "df.isnull().sum()"
      ]
    },
    {
      "cell_type": "code",
      "execution_count": 8,
      "metadata": {},
      "outputs": [
        {
          "name": "stdout",
          "output_type": "stream",
          "text": [
            "LocationAbbr :\n",
            "['AL' 'US' 'AK' 'AZ' 'AR' 'CA' 'CT' 'CO' 'DE' 'FL' 'DC' 'GA' 'GU' 'HI'\n",
            " 'ID' 'IL' 'IN' 'IA' 'KS' 'KY' 'LA' 'ME' 'MD' 'MA' 'MI' 'MN' 'MS' 'MO'\n",
            " 'MT' 'NE' 'NV' 'NH' 'NJ' 'NM' 'NY' 'NC' 'ND' 'OH' 'OK' 'OR' 'PA' 'PR'\n",
            " 'RI' 'SC' 'SD' 'TN' 'TX' 'UT' 'VT' 'VA' 'WV' 'WA' 'WI' 'WY' 'VI']\n",
            "LocationDesc :\n",
            "['Alabama' 'National' 'Alaska' 'Arizona' 'Arkansas' 'California'\n",
            " 'Connecticut' 'Colorado' 'Delaware' 'Florida' 'District of Columbia'\n",
            " 'Georgia' 'Guam' 'Hawaii' 'Idaho' 'Illinois' 'Indiana' 'Iowa' 'Kansas'\n",
            " 'Kentucky' 'Louisiana' 'Maine' 'Maryland' 'Massachusetts' 'Michigan'\n",
            " 'Minnesota' 'Mississippi' 'Missouri' 'Montana' 'Nebraska' 'Nevada'\n",
            " 'New Hampshire' 'New Jersey' 'New Mexico' 'New York' 'North Carolina'\n",
            " 'North Dakota' 'Ohio' 'Oklahoma' 'Oregon' 'Pennsylvania' 'Puerto Rico'\n",
            " 'Rhode Island' 'South Carolina' 'South Dakota' 'Tennessee' 'Texas' 'Utah'\n",
            " 'Vermont' 'Virginia' 'West Virginia' 'Washington' 'Wisconsin' 'Wyoming'\n",
            " 'Virgin Islands']\n",
            "Datasource :\n",
            "['Behavioral Risk Factor Surveillance System']\n",
            "Class :\n",
            "['Obesity / Weight Status' 'Fruits and Vegetables' 'Physical Activity']\n",
            "Topic :\n",
            "['Obesity / Weight Status' 'Fruits and Vegetables - Behavior'\n",
            " 'Physical Activity - Behavior']\n",
            "Question :\n",
            "['Percent of adults aged 18 years and older who have obesity'\n",
            " 'Percent of adults aged 18 years and older who have an overweight classification'\n",
            " 'Percent of adults who report consuming fruit less than one time daily'\n",
            " 'Percent of adults who report consuming vegetables less than one time daily'\n",
            " 'Percent of adults who engage in muscle-strengthening activities on 2 or more days a week'\n",
            " 'Percent of adults who achieve at least 150 minutes a week of moderate-intensity aerobic physical activity or 75 minutes a week of vigorous-intensity aerobic activity (or an equivalent combination)'\n",
            " 'Percent of adults who achieve at least 150 minutes a week of moderate-intensity aerobic physical activity or 75 minutes a week of vigorous-intensity aerobic physical activity and engage in muscle-strengthening activities on 2 or more days a week'\n",
            " 'Percent of adults who achieve at least 300 minutes a week of moderate-intensity aerobic physical activity or 150 minutes a week of vigorous-intensity aerobic activity (or an equivalent combination)'\n",
            " 'Percent of adults who engage in no leisure-time physical activity']\n",
            "Data_Value_Type :\n",
            "['Value']\n",
            "Data_Value_Footnote_Symbol :\n",
            "[nan '~']\n",
            "Data_Value_Footnote :\n",
            "[nan 'Data not available because sample size is insufficient.'\n",
            " 'Data not available because sample size is insufficient.  If data only missing for the confidence interval, the confidence interval was not calculated.']\n",
            "Total :\n",
            "['Total' nan]\n",
            "Age(years) :\n",
            "[nan '18 - 24' '25 - 34' '35 - 44' '45 - 54' '55 - 64' '65 or older']\n",
            "Education :\n",
            "[nan 'Less than high school' 'High school graduate'\n",
            " 'Some college or technical school' 'College graduate']\n",
            "Gender :\n",
            "[nan 'Male' 'Female']\n",
            "Income :\n",
            "[nan 'Less than $15,000' '$15,000 - $24,999' '$25,000 - $34,999'\n",
            " '$35,000 - $49,999' '$50,000 - $74,999' '$75,000 or greater'\n",
            " 'Data not reported']\n",
            "Race/Ethnicity :\n",
            "[nan 'Non-Hispanic White' 'Non-Hispanic Black' 'Hispanic' 'Asian'\n",
            " 'Hawaiian/Pacific Islander' 'American Indian/Alaska Native'\n",
            " '2 or more races' 'Other']\n",
            "GeoLocation :\n",
            "['(32.84057112200048, -86.63186076199969)' nan\n",
            " '(64.84507995700051, -147.72205903599973)'\n",
            " '(34.865970280000454, -111.76381127699972)'\n",
            " '(34.74865012400045, -92.27449074299966)'\n",
            " '(37.63864012300047, -120.99999953799971)'\n",
            " '(41.56266102000046, -72.64984095199964)'\n",
            " '(38.843840757000464, -106.13361092099967)'\n",
            " '(39.008830667000495, -75.57774116799965)'\n",
            " '(28.932040377000476, -81.92896053899966)'\n",
            " '(38.89037138500049, -77.03196112699965)'\n",
            " '(32.83968109300048, -83.62758034599966)' '(13.444304, 144.793731)'\n",
            " '(21.304850435000446, -157.85774940299973)'\n",
            " '(43.682630005000476, -114.3637300419997)'\n",
            " '(40.48501028300046, -88.99771017799969)'\n",
            " '(39.766910452000445, -86.14996019399968)'\n",
            " '(42.46940091300047, -93.81649055599968)'\n",
            " '(38.34774030000045, -98.20078122699965)'\n",
            " '(37.645970271000465, -84.77497104799966)'\n",
            " '(31.31266064400046, -92.44568007099969)'\n",
            " '(45.254228894000505, -68.98503133599962)'\n",
            " '(39.29058096400047, -76.60926011099963)'\n",
            " '(42.27687047000046, -72.08269067499964)'\n",
            " '(44.6613195430005, -84.71439026999968)'\n",
            " '(46.35564873600049, -94.79420050299967)'\n",
            " '(32.745510099000455, -89.53803082499968)'\n",
            " '(38.635790776000476, -92.56630005299968)'\n",
            " '(47.06652897200047, -109.42442064499971)'\n",
            " '(41.6410409880005, -99.36572062299967)'\n",
            " '(39.493240390000494, -117.07184056399967)'\n",
            " '(43.65595011300047, -71.50036091999965)'\n",
            " '(40.13057004800049, -74.27369128799967)'\n",
            " '(34.52088095200048, -106.24058098499967)'\n",
            " '(42.82700103200045, -75.54397042699964)'\n",
            " '(35.466220975000454, -79.15925046299964)'\n",
            " '(47.47531977900047, -100.11842104899966)'\n",
            " '(40.06021014100048, -82.40426005599966)'\n",
            " '(35.47203135600046, -97.52107021399968)'\n",
            " '(44.56744942400047, -120.15503132599969)'\n",
            " '(40.79373015200048, -77.86070029399963)' '(18.220833, -66.590149)'\n",
            " '(41.70828019300046, -71.52247031399963)'\n",
            " '(33.998821303000454, -81.04537120699968)'\n",
            " '(44.353130053000484, -100.3735306369997)'\n",
            " '(35.68094058000048, -85.77449091399967)'\n",
            " '(31.827240407000488, -99.42677020599967)'\n",
            " '(39.360700171000474, -111.58713063499971)'\n",
            " '(43.62538123900049, -72.51764079099962)'\n",
            " '(37.54268067400045, -78.45789046299967)'\n",
            " '(38.66551020200046, -80.71264013499967)'\n",
            " '(47.52227862900048, -120.47001078999972)'\n",
            " '(44.39319117400049, -89.81637074199966)'\n",
            " '(43.23554134300048, -108.10983035299967)' '(18.335765, -64.896335)']\n",
            "ClassID :\n",
            "['OWS' 'FV' 'PA']\n",
            "TopicID :\n",
            "['OWS1' 'FV1' 'PA1']\n",
            "QuestionID :\n",
            "['Q036' 'Q037' 'Q018' 'Q019' 'Q046' 'Q043' 'Q044' 'Q045' 'Q047']\n",
            "DataValueTypeID :\n",
            "['VALUE']\n",
            "StratificationCategory1 :\n",
            "['Total' 'Gender' 'Education' 'Age (years)' 'Income' 'Race/Ethnicity']\n",
            "Stratification1 :\n",
            "['Total' 'Male' 'Female' 'Less than high school' 'High school graduate'\n",
            " 'Some college or technical school' 'College graduate' '18 - 24' '25 - 34'\n",
            " '35 - 44' '45 - 54' '55 - 64' '65 or older' 'Less than $15,000'\n",
            " '$15,000 - $24,999' '$25,000 - $34,999' '$35,000 - $49,999'\n",
            " '$50,000 - $74,999' '$75,000 or greater' 'Data not reported'\n",
            " 'Non-Hispanic White' 'Non-Hispanic Black' 'Hispanic' 'Asian'\n",
            " 'Hawaiian/Pacific Islander' 'American Indian/Alaska Native'\n",
            " '2 or more races' 'Other']\n",
            "StratificationCategoryId1 :\n",
            "['OVR' 'GEN' 'EDU' 'AGEYR' 'INC' 'RACE']\n",
            "StratificationID1 :\n",
            "['OVERALL' 'MALE' 'FEMALE' 'EDUHS' 'EDUHSGRAD' 'EDUCOTEC' 'EDUCOGRAD'\n",
            " 'AGEYR1824' 'AGEYR2534' 'AGEYR3544' 'AGEYR4554' 'AGEYR5564' 'AGEYR65PLUS'\n",
            " 'INCLESS15' 'INC1525' 'INC2535' 'INC3550' 'INC5075' 'INC75PLUS' 'INCNR'\n",
            " 'RACEWHT' 'RACEBLK' 'RACEHIS' 'RACEASN' 'RACEHPI' 'RACENAA' 'RACE2PLUS'\n",
            " 'RACEOTH']\n"
          ]
        }
      ],
      "source": [
        "for col in df.select_dtypes('object'):\n",
        "    print(col,':')\n",
        "    print(pd.unique(df[col]))"
      ]
    },
    {
      "cell_type": "code",
      "execution_count": 9,
      "metadata": {},
      "outputs": [],
      "source": [
        "df2 = df[df['Class']=='Obesity / Weight Status']"
      ]
    },
    {
      "cell_type": "code",
      "execution_count": 10,
      "metadata": {},
      "outputs": [
        {
          "data": {
            "text/plain": [
              "(17920, 33)"
            ]
          },
          "execution_count": 10,
          "metadata": {},
          "output_type": "execute_result"
        }
      ],
      "source": [
        "df2.shape"
      ]
    },
    {
      "cell_type": "code",
      "execution_count": 11,
      "metadata": {},
      "outputs": [
        {
          "data": {
            "text/plain": [
              "YearStart                         0\n",
              "YearEnd                           0\n",
              "LocationAbbr                      0\n",
              "LocationDesc                      0\n",
              "Datasource                        0\n",
              "Class                             0\n",
              "Topic                             0\n",
              "Question                          0\n",
              "Data_Value_Unit               17920\n",
              "Data_Value_Type                   0\n",
              "Data_Value                     1666\n",
              "Data_Value_Alt                 1666\n",
              "Data_Value_Footnote_Symbol    16254\n",
              "Data_Value_Footnote           16254\n",
              "Low_Confidence_Limit           1666\n",
              "High_Confidence_Limit          1666\n",
              "Sample_Size                    1666\n",
              "Total                         17280\n",
              "Age(years)                    14080\n",
              "Education                     15360\n",
              "Gender                        16640\n",
              "Income                        13440\n",
              "Race/Ethnicity                12800\n",
              "GeoLocation                     336\n",
              "ClassID                           0\n",
              "TopicID                           0\n",
              "QuestionID                        0\n",
              "DataValueTypeID                   0\n",
              "LocationID                        0\n",
              "StratificationCategory1           0\n",
              "Stratification1                   0\n",
              "StratificationCategoryId1         0\n",
              "StratificationID1                 0\n",
              "dtype: int64"
            ]
          },
          "execution_count": 11,
          "metadata": {},
          "output_type": "execute_result"
        }
      ],
      "source": [
        "df2.isnull().sum()"
      ]
    },
    {
      "cell_type": "code",
      "execution_count": 12,
      "metadata": {},
      "outputs": [
        {
          "data": {
            "text/plain": [
              "0"
            ]
          },
          "execution_count": 12,
          "metadata": {},
          "output_type": "execute_result"
        }
      ],
      "source": [
        "len(df[df['YearStart'] < df['YearEnd']])"
      ]
    },
    {
      "cell_type": "code",
      "execution_count": 13,
      "metadata": {},
      "outputs": [
        {
          "name": "stderr",
          "output_type": "stream",
          "text": [
            "C:\\Users\\harsh\\AppData\\Local\\Temp/ipykernel_13536/3512623435.py:1: SettingWithCopyWarning: \n",
            "A value is trying to be set on a copy of a slice from a DataFrame.\n",
            "Try using .loc[row_indexer,col_indexer] = value instead\n",
            "\n",
            "See the caveats in the documentation: https://pandas.pydata.org/pandas-docs/stable/user_guide/indexing.html#returning-a-view-versus-a-copy\n",
            "  df2['Period'] = df2['YearEnd'] - df2['YearStart']\n"
          ]
        },
        {
          "data": {
            "text/plain": [
              "array([0], dtype=int64)"
            ]
          },
          "execution_count": 13,
          "metadata": {},
          "output_type": "execute_result"
        }
      ],
      "source": [
        "df2['Period'] = df2['YearEnd'] - df2['YearStart']\n",
        "pd.unique(df2.Period)"
      ]
    },
    {
      "cell_type": "code",
      "execution_count": 14,
      "metadata": {},
      "outputs": [
        {
          "data": {
            "text/plain": [
              "YearStart                        6\n",
              "YearEnd                          6\n",
              "LocationAbbr                    55\n",
              "LocationDesc                    55\n",
              "Datasource                       1\n",
              "Class                            1\n",
              "Topic                            1\n",
              "Question                         2\n",
              "Data_Value_Unit                  0\n",
              "Data_Value_Type                  1\n",
              "Data_Value                     482\n",
              "Data_Value_Alt                 482\n",
              "Data_Value_Footnote_Symbol       1\n",
              "Data_Value_Footnote              2\n",
              "Low_Confidence_Limit           425\n",
              "High_Confidence_Limit          568\n",
              "Sample_Size                   3903\n",
              "Total                            1\n",
              "Age(years)                       6\n",
              "Education                        4\n",
              "Gender                           2\n",
              "Income                           7\n",
              "Race/Ethnicity                   8\n",
              "GeoLocation                     54\n",
              "ClassID                          1\n",
              "TopicID                          1\n",
              "QuestionID                       2\n",
              "DataValueTypeID                  1\n",
              "LocationID                      55\n",
              "StratificationCategory1          6\n",
              "Stratification1                 28\n",
              "StratificationCategoryId1        6\n",
              "StratificationID1               28\n",
              "Period                           1\n",
              "dtype: int64"
            ]
          },
          "execution_count": 14,
          "metadata": {},
          "output_type": "execute_result"
        }
      ],
      "source": [
        "df2.nunique()"
      ]
    },
    {
      "cell_type": "code",
      "execution_count": 15,
      "metadata": {},
      "outputs": [
        {
          "data": {
            "text/plain": [
              "array([ 1, 59,  2,  4,  5,  6,  8,  9, 10, 12, 11, 13, 66, 15, 16, 17, 18,\n",
              "       19, 20, 21, 22, 23, 24, 25, 26, 27, 28, 29, 30, 31, 32, 33, 34, 35,\n",
              "       36, 37, 38, 39, 40, 41, 42, 72, 44, 45, 46, 47, 48, 49, 50, 51, 53,\n",
              "       55, 56, 54, 78], dtype=int64)"
            ]
          },
          "execution_count": 15,
          "metadata": {},
          "output_type": "execute_result"
        }
      ],
      "source": [
        "pd.unique(df2.LocationID)"
      ]
    },
    {
      "cell_type": "markdown",
      "metadata": {},
      "source": [
        "    1. YearStart and YearEnd represents one year so converted to Year column\n",
        "    2. LocationAbbr, LocationDesc, GeoLocation, LocationID has 1:1 relationship, so only one is kept\n",
        "    3. Question and QuestionID has 1:1 relationship, so only one will be kept\n",
        "    4. StratificationCategory1, Stratefication1, StrateficationCategoryId1,StrateficationID1 will be removed as not related with the problem.\n",
        "    5. all columns with one variable will be removed.\n",
        "        1. Class:'Obesity / Weight Status'\n",
        "        2. DataSource: 'Behavioral Risk Factor Surveillance System'\n",
        "        3. Topic: 'Obesity / Weight Status'\n",
        "        4. Data_Value_Unit: NaN\n",
        "        5. Data_Value_Type: value\n",
        "        6. Data_Value_Footnote_Symbol: NaN\n",
        "        7. Total: Total\n",
        "        8. ClassID: OWS\n",
        "        9. TopicID: OWS1\n",
        "        10. DataValueTypeID: VALUE\n",
        "        11. Period: 0"
      ]
    },
    {
      "cell_type": "code",
      "execution_count": 16,
      "metadata": {},
      "outputs": [
        {
          "name": "stderr",
          "output_type": "stream",
          "text": [
            "C:\\Users\\harsh\\AppData\\Local\\Temp/ipykernel_13536/612789157.py:1: SettingWithCopyWarning: \n",
            "A value is trying to be set on a copy of a slice from a DataFrame.\n",
            "Try using .loc[row_indexer,col_indexer] = value instead\n",
            "\n",
            "See the caveats in the documentation: https://pandas.pydata.org/pandas-docs/stable/user_guide/indexing.html#returning-a-view-versus-a-copy\n",
            "  df2['Year'] = df['YearStart']\n"
          ]
        }
      ],
      "source": [
        "df2['Year'] = df['YearStart']"
      ]
    },
    {
      "cell_type": "code",
      "execution_count": 17,
      "metadata": {},
      "outputs": [
        {
          "data": {
            "text/plain": [
              "Percent of adults aged 18 years and older who have obesity                         8960\n",
              "Percent of adults aged 18 years and older who have an overweight classification    8960\n",
              "Name: Question, dtype: int64"
            ]
          },
          "execution_count": 17,
          "metadata": {},
          "output_type": "execute_result"
        }
      ],
      "source": [
        "df2.Question.value_counts()"
      ]
    },
    {
      "cell_type": "code",
      "execution_count": 18,
      "metadata": {},
      "outputs": [
        {
          "data": {
            "text/plain": [
              "(17920, 12)"
            ]
          },
          "execution_count": 18,
          "metadata": {},
          "output_type": "execute_result"
        }
      ],
      "source": [
        "df2 = df2[['Year','LocationID','Question','Data_Value','Data_Value_Footnote','Low_Confidence_Limit','High_Confidence_Limit ','Sample_Size','Age(years)','Education','Gender','Race/Ethnicity']]\n",
        "df2.shape"
      ]
    },
    {
      "cell_type": "code",
      "execution_count": 19,
      "metadata": {},
      "outputs": [
        {
          "data": {
            "text/plain": [
              "0        32.0\n",
              "1        32.3\n",
              "2        31.8\n",
              "3        33.6\n",
              "4        32.8\n",
              "         ... \n",
              "51847     NaN\n",
              "51848     NaN\n",
              "51849     NaN\n",
              "51850     NaN\n",
              "51851     NaN\n",
              "Name: Data_Value, Length: 17920, dtype: float64"
            ]
          },
          "execution_count": 19,
          "metadata": {},
          "output_type": "execute_result"
        }
      ],
      "source": [
        "df2.Data_Value"
      ]
    },
    {
      "cell_type": "code",
      "execution_count": 20,
      "metadata": {},
      "outputs": [
        {
          "data": {
            "text/plain": [
              "Data not available because sample size is insufficient.                                                                                                   1380\n",
              "Data not available because sample size is insufficient.  If data only missing for the confidence interval, the confidence interval was not calculated.     286\n",
              "Name: Data_Value_Footnote, dtype: int64"
            ]
          },
          "execution_count": 20,
          "metadata": {},
          "output_type": "execute_result"
        }
      ],
      "source": [
        "df2.Data_Value_Footnote.value_counts()"
      ]
    },
    {
      "cell_type": "code",
      "execution_count": 21,
      "metadata": {},
      "outputs": [
        {
          "data": {
            "text/plain": [
              "Obese         8960\n",
              "Overweight    8960\n",
              "Name: Obesity, dtype: int64"
            ]
          },
          "execution_count": 21,
          "metadata": {},
          "output_type": "execute_result"
        }
      ],
      "source": [
        "df2['Obesity'] = df2['Question'].replace(to_replace=['Percent of adults aged 18 years and older who have obesity','Percent of adults aged 18 years and older who have an overweight classification'],value=['Obese','Overweight'])\n",
        "df2['Obesity'].value_counts()"
      ]
    },
    {
      "cell_type": "code",
      "execution_count": 22,
      "metadata": {},
      "outputs": [],
      "source": [
        "df2 = df2[['Year','LocationID','Obesity','Data_Value','Low_Confidence_Limit','High_Confidence_Limit ','Sample_Size']]"
      ]
    },
    {
      "cell_type": "code",
      "execution_count": 23,
      "metadata": {},
      "outputs": [
        {
          "data": {
            "text/plain": [
              "(17920, 7)"
            ]
          },
          "execution_count": 23,
          "metadata": {},
          "output_type": "execute_result"
        }
      ],
      "source": [
        "df2.shape"
      ]
    },
    {
      "cell_type": "code",
      "execution_count": 24,
      "metadata": {},
      "outputs": [],
      "source": [
        "df2 = df2.dropna(how='any',subset=['Data_Value','Low_Confidence_Limit','High_Confidence_Limit ','Sample_Size'])"
      ]
    },
    {
      "cell_type": "code",
      "execution_count": 25,
      "metadata": {},
      "outputs": [
        {
          "data": {
            "text/plain": [
              "(16254, 7)"
            ]
          },
          "execution_count": 25,
          "metadata": {},
          "output_type": "execute_result"
        }
      ],
      "source": [
        "df2.shape"
      ]
    },
    {
      "cell_type": "code",
      "execution_count": 26,
      "metadata": {},
      "outputs": [
        {
          "name": "stdout",
          "output_type": "stream",
          "text": [
            "<class 'pandas.core.frame.DataFrame'>\n",
            "Int64Index: 16254 entries, 0 to 51846\n",
            "Data columns (total 7 columns):\n",
            " #   Column                  Non-Null Count  Dtype  \n",
            "---  ------                  --------------  -----  \n",
            " 0   Year                    16254 non-null  int64  \n",
            " 1   LocationID              16254 non-null  int64  \n",
            " 2   Obesity                 16254 non-null  object \n",
            " 3   Data_Value              16254 non-null  float64\n",
            " 4   Low_Confidence_Limit    16254 non-null  float64\n",
            " 5   High_Confidence_Limit   16254 non-null  float64\n",
            " 6   Sample_Size             16254 non-null  float64\n",
            "dtypes: float64(4), int64(2), object(1)\n",
            "memory usage: 1015.9+ KB\n"
          ]
        }
      ],
      "source": [
        "df2.info()"
      ]
    },
    {
      "cell_type": "code",
      "execution_count": 27,
      "metadata": {},
      "outputs": [
        {
          "data": {
            "text/plain": [
              "Year                      0\n",
              "LocationID                0\n",
              "Obesity                   0\n",
              "Data_Value                0\n",
              "Low_Confidence_Limit      0\n",
              "High_Confidence_Limit     0\n",
              "Sample_Size               0\n",
              "dtype: int64"
            ]
          },
          "execution_count": 27,
          "metadata": {},
          "output_type": "execute_result"
        }
      ],
      "source": [
        "df2.isnull().sum()"
      ]
    },
    {
      "cell_type": "code",
      "execution_count": 28,
      "metadata": {},
      "outputs": [
        {
          "data": {
            "text/plain": [
              "<AxesSubplot:xlabel='Year', ylabel='Data_Value'>"
            ]
          },
          "execution_count": 28,
          "metadata": {},
          "output_type": "execute_result"
        },
        {
          "data": {
            "image/png": "[encoded data removed]",
            "text/plain": [
              "<Figure size 432x288 with 1 Axes>"
            ]
          },
          "metadata": {
            "needs_background": "light"
          },
          "output_type": "display_data"
        }
      ],
      "source": [
        "sns.lineplot(x='Year',y='Data_Value',data=df2,hue='Obesity')"
      ]
    },
    {
      "cell_type": "code",
      "execution_count": 29,
      "metadata": {},
      "outputs": [
        {
          "data": {
            "text/plain": [
              "55"
            ]
          },
          "execution_count": 29,
          "metadata": {},
          "output_type": "execute_result"
        }
      ],
      "source": [
        "df2.LocationID.nunique()"
      ]
    },
    {
      "cell_type": "code",
      "execution_count": 31,
      "metadata": {},
      "outputs": [],
      "source": [
        "df_obese = df2[df2['Obesity'] == 'Obese'][['Year','LocationID','Data_Value','Low_Confidence_Limit','High_Confidence_Limit ','Sample_Size']]"
      ]
    },
    {
      "cell_type": "code",
      "execution_count": 32,
      "metadata": {},
      "outputs": [
        {
          "data": {
            "text/plain": [
              "(8127, 6)"
            ]
          },
          "execution_count": 32,
          "metadata": {},
          "output_type": "execute_result"
        }
      ],
      "source": [
        "df_obese.shape"
      ]
    },
    {
      "cell_type": "code",
      "execution_count": 34,
      "metadata": {},
      "outputs": [],
      "source": [
        "df_overweight = df2[df2['Obesity'] == 'Overweight'][['Year','LocationID','Data_Value','Low_Confidence_Limit','High_Confidence_Limit ','Sample_Size']]"
      ]
    },
    {
      "cell_type": "code",
      "execution_count": 35,
      "metadata": {},
      "outputs": [
        {
          "data": {
            "text/plain": [
              "(8127, 6)"
            ]
          },
          "execution_count": 35,
          "metadata": {},
          "output_type": "execute_result"
        }
      ],
      "source": [
        "df_overweight.shape"
      ]
    },
    {
      "cell_type": "code",
      "execution_count": 48,
      "metadata": {},
      "outputs": [],
      "source": [
        "obese_yearwise = df_obese.groupby(['LocationID','Year'])['Data_Value'].mean().reset_index()"
      ]
    },
    {
      "cell_type": "code",
      "execution_count": 49,
      "metadata": {},
      "outputs": [
        {
          "data": {
            "text/plain": [
              "<seaborn.axisgrid.FacetGrid at 0x1a82b0b6490>"
            ]
          },
          "execution_count": 49,
          "metadata": {},
          "output_type": "execute_result"
        },
        {
          "data": {
            "image/png": "[encoded data removed]",
            "text/plain": [
              "<Figure size 360x360 with 1 Axes>"
            ]
          },
          "metadata": {
            "needs_background": "light"
          },
          "output_type": "display_data"
        }
      ],
      "source": [
        "sns.catplot(x='Year',y='Data_Value',data=obesity_yearwise,kind='bar')"
      ]
    },
    {
      "cell_type": "code",
      "execution_count": 43,
      "metadata": {},
      "outputs": [],
      "source": [
        "overweight_yearwise = df_overweight.groupby(['LocationID','Year'])['Data_Value'].mean().reset_index()"
      ]
    },
    {
      "cell_type": "code",
      "execution_count": 44,
      "metadata": {},
      "outputs": [
        {
          "data": {
            "text/html": [
              "<div>\n",
              "<style scoped>\n",
              "    .dataframe tbody tr th:only-of-type {\n",
              "        vertical-align: middle;\n",
              "    }\n",
              "\n",
              "    .dataframe tbody tr th {\n",
              "        vertical-align: top;\n",
              "    }\n",
              "\n",
              "    .dataframe thead th {\n",
              "        text-align: right;\n",
              "    }\n",
              "</style>\n",
              "<table border=\"1\" class=\"dataframe\">\n",
              "  <thead>\n",
              "    <tr style=\"text-align: right;\">\n",
              "      <th></th>\n",
              "      <th>LocationID</th>\n",
              "      <th>Year</th>\n",
              "      <th>Data_Value</th>\n",
              "    </tr>\n",
              "  </thead>\n",
              "  <tbody>\n",
              "    <tr>\n",
              "      <th>0</th>\n",
              "      <td>1</td>\n",
              "      <td>2011</td>\n",
              "      <td>34.212000</td>\n",
              "    </tr>\n",
              "    <tr>\n",
              "      <th>1</th>\n",
              "      <td>1</td>\n",
              "      <td>2012</td>\n",
              "      <td>35.392308</td>\n",
              "    </tr>\n",
              "    <tr>\n",
              "      <th>2</th>\n",
              "      <td>1</td>\n",
              "      <td>2013</td>\n",
              "      <td>35.041667</td>\n",
              "    </tr>\n",
              "    <tr>\n",
              "      <th>3</th>\n",
              "      <td>1</td>\n",
              "      <td>2014</td>\n",
              "      <td>33.208000</td>\n",
              "    </tr>\n",
              "    <tr>\n",
              "      <th>4</th>\n",
              "      <td>1</td>\n",
              "      <td>2015</td>\n",
              "      <td>32.816000</td>\n",
              "    </tr>\n",
              "    <tr>\n",
              "      <th>...</th>\n",
              "      <td>...</td>\n",
              "      <td>...</td>\n",
              "      <td>...</td>\n",
              "    </tr>\n",
              "    <tr>\n",
              "      <th>315</th>\n",
              "      <td>72</td>\n",
              "      <td>2013</td>\n",
              "      <td>39.257143</td>\n",
              "    </tr>\n",
              "    <tr>\n",
              "      <th>316</th>\n",
              "      <td>72</td>\n",
              "      <td>2014</td>\n",
              "      <td>38.323810</td>\n",
              "    </tr>\n",
              "    <tr>\n",
              "      <th>317</th>\n",
              "      <td>72</td>\n",
              "      <td>2015</td>\n",
              "      <td>37.561905</td>\n",
              "    </tr>\n",
              "    <tr>\n",
              "      <th>318</th>\n",
              "      <td>72</td>\n",
              "      <td>2016</td>\n",
              "      <td>36.238095</td>\n",
              "    </tr>\n",
              "    <tr>\n",
              "      <th>319</th>\n",
              "      <td>78</td>\n",
              "      <td>2016</td>\n",
              "      <td>32.834783</td>\n",
              "    </tr>\n",
              "  </tbody>\n",
              "</table>\n",
              "<p>320 rows × 3 columns</p>\n",
              "</div>"
            ],
            "text/plain": [
              "     LocationID  Year  Data_Value\n",
              "0             1  2011   34.212000\n",
              "1             1  2012   35.392308\n",
              "2             1  2013   35.041667\n",
              "3             1  2014   33.208000\n",
              "4             1  2015   32.816000\n",
              "..          ...   ...         ...\n",
              "315          72  2013   39.257143\n",
              "316          72  2014   38.323810\n",
              "317          72  2015   37.561905\n",
              "318          72  2016   36.238095\n",
              "319          78  2016   32.834783\n",
              "\n",
              "[320 rows x 3 columns]"
            ]
          },
          "execution_count": 44,
          "metadata": {},
          "output_type": "execute_result"
        }
      ],
      "source": [
        "overweight_yearwise"
      ]
    },
    {
      "cell_type": "code",
      "execution_count": 47,
      "metadata": {},
      "outputs": [
        {
          "data": {
            "text/plain": [
              "<AxesSubplot:>"
            ]
          },
          "execution_count": 47,
          "metadata": {},
          "output_type": "execute_result"
        },
        {
          "data": {
            "image/png": "[encoded data removed]",
            "text/plain": [
              "<Figure size 432x288 with 2 Axes>"
            ]
          },
          "metadata": {
            "needs_background": "light"
          },
          "output_type": "display_data"
        }
      ],
      "source": [
        "sns.heatmap(df2.corr(),annot=True,fmt='.2f')"
      ]
    },
    {
      "cell_type": "code",
      "execution_count": 50,
      "metadata": {},
      "outputs": [
        {
          "data": {
            "text/plain": [
              "<AxesSubplot:>"
            ]
          },
          "execution_count": 50,
          "metadata": {},
          "output_type": "execute_result"
        },
        {
          "data": {
            "image/png": "[encoded data removed]",
            "text/plain": [
              "<Figure size 432x288 with 2 Axes>"
            ]
          },
          "metadata": {
            "needs_background": "light"
          },
          "output_type": "display_data"
        }
      ],
      "source": [
        "sns.heatmap(df_obese.corr(),annot=True,fmt='.2f')"
      ]
    },
    {
      "cell_type": "code",
      "execution_count": 52,
      "metadata": {},
      "outputs": [
        {
          "data": {
            "text/plain": [
              "Year                        int64\n",
              "LocationID                  int64\n",
              "Data_Value                float64\n",
              "Low_Confidence_Limit      float64\n",
              "High_Confidence_Limit     float64\n",
              "Sample_Size               float64\n",
              "dtype: object"
            ]
          },
          "execution_count": 52,
          "metadata": {},
          "output_type": "execute_result"
        }
      ],
      "source": [
        "df_obese.dtypes"
      ]
    },
    {
      "cell_type": "code",
      "execution_count": 53,
      "metadata": {},
      "outputs": [],
      "source": [
        "x_col = [col for col in df_obese.columns if col != 'Data_Value']\n",
        "X = df_obese[x_col]\n",
        "y = df_obese['Data_Value']"
      ]
    },
    {
      "cell_type": "code",
      "execution_count": 54,
      "metadata": {},
      "outputs": [
        {
          "data": {
            "text/plain": [
              "(8127, 5)"
            ]
          },
          "execution_count": 54,
          "metadata": {},
          "output_type": "execute_result"
        }
      ],
      "source": [
        "X.shape"
      ]
    },
    {
      "cell_type": "code",
      "execution_count": 55,
      "metadata": {},
      "outputs": [],
      "source": [
        "from sklearn.model_selection import train_test_split\n",
        "\n",
        "x_train,x_test,y_train,y_test = train_test_split(X,y,test_size=0.3,random_state=3)"
      ]
    },
    {
      "cell_type": "code",
      "execution_count": 56,
      "metadata": {},
      "outputs": [],
      "source": [
        "from sklearn.linear_model import LinearRegression\n",
        "\n",
        "lr = LinearRegression()\n",
        "lr.fit(x_train,y_train)\n",
        "\n",
        "y_pred = lr.predict(x_test)"
      ]
    },
    {
      "cell_type": "code",
      "execution_count": 57,
      "metadata": {},
      "outputs": [
        {
          "name": "stdout",
          "output_type": "stream",
          "text": [
            "Accuracy: 0.998\n",
            "MSE: 0.1880817574957008\n"
          ]
        }
      ],
      "source": [
        "from sklearn.metrics import mean_absolute_error\n",
        "\n",
        "accuracy = lr.score(x_test,y_test)\n",
        "print('Accuracy:',round(accuracy,3))\n",
        "\n",
        "mse = mean_absolute_error(y_pred,y_test)\n",
        "print('MSE:',mse)"
      ]
    }
  ],
  "metadata": {
    "colab": {
      "provenance": []
    },
    "kernelspec": {
      "display_name": "Python 3",
      "name": "python3"
    },
    "language_info": {
      "codemirror_mode": {
        "name": "ipython",
        "version": 3
      },
      "file_extension": ".py",
      "mimetype": "text/x-python",
      "name": "python",
      "nbconvert_exporter": "python",
      "pygments_lexer": "ipython3",
      "version": "3.8.6"
    }
  },
  "nbformat": 4,
  "nbformat_minor": 0
}
