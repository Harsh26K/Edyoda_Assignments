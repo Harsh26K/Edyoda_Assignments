{
 "cells": [
  {
   "cell_type": "code",
   "execution_count": 38,
   "metadata": {},
   "outputs": [],
   "source": [
    "import numpy as np\n",
    "import pandas as pd\n",
    "import nltk\n",
    "import sklearn"
   ]
  },
  {
   "cell_type": "code",
   "execution_count": 39,
   "metadata": {},
   "outputs": [
    {
     "data": {
      "text/html": [
       "<div>\n",
       "<style scoped>\n",
       "    .dataframe tbody tr th:only-of-type {\n",
       "        vertical-align: middle;\n",
       "    }\n",
       "\n",
       "    .dataframe tbody tr th {\n",
       "        vertical-align: top;\n",
       "    }\n",
       "\n",
       "    .dataframe thead th {\n",
       "        text-align: right;\n",
       "    }\n",
       "</style>\n",
       "<table border=\"1\" class=\"dataframe\">\n",
       "  <thead>\n",
       "    <tr style=\"text-align: right;\">\n",
       "      <th></th>\n",
       "      <th>text</th>\n",
       "      <th>author</th>\n",
       "      <th>controversiality</th>\n",
       "      <th>parent_text</th>\n",
       "      <th>parent_score</th>\n",
       "      <th>parent_votes</th>\n",
       "      <th>parent_author</th>\n",
       "      <th>parent_controversiality</th>\n",
       "      <th>Score</th>\n",
       "    </tr>\n",
       "  </thead>\n",
       "  <tbody>\n",
       "    <tr>\n",
       "      <th>0</th>\n",
       "      <td>i must be retarded i thought it meant con lawl...</td>\n",
       "      <td>['calantus']</td>\n",
       "      <td>0</td>\n",
       "      <td>It's quite unfair to call Hillary Clinton a \"c...</td>\n",
       "      <td>245</td>\n",
       "      <td>245</td>\n",
       "      <td>Whisper</td>\n",
       "      <td>0</td>\n",
       "      <td>-8</td>\n",
       "    </tr>\n",
       "    <tr>\n",
       "      <th>1</th>\n",
       "      <td>DOWNMODDED FOR IRRELEVANCE? ISN'T THAT HOW THI...</td>\n",
       "      <td>['Shadowrose']</td>\n",
       "      <td>0</td>\n",
       "      <td>upmodded for awesome kindness</td>\n",
       "      <td>32</td>\n",
       "      <td>32</td>\n",
       "      <td>b3mus3d</td>\n",
       "      <td>0</td>\n",
       "      <td>-16</td>\n",
       "    </tr>\n",
       "    <tr>\n",
       "      <th>2</th>\n",
       "      <td>THAT WAS SUPPOSED TO MEAN \" BY A PLACE WHERE P...</td>\n",
       "      <td>['NExusRush']</td>\n",
       "      <td>0</td>\n",
       "      <td>What the hell does \"because its by a golf cour...</td>\n",
       "      <td>12</td>\n",
       "      <td>12</td>\n",
       "      <td>mr_jellyneck</td>\n",
       "      <td>0</td>\n",
       "      <td>-7</td>\n",
       "    </tr>\n",
       "    <tr>\n",
       "      <th>3</th>\n",
       "      <td>I THOUGHT EVERYONE DID; ITS FUCKING DELICIOUS :\\</td>\n",
       "      <td>['R0N_SWANS0N']</td>\n",
       "      <td>0</td>\n",
       "      <td>NICE TRY JENNIFER!  I KNOW IT'S YOU AND I KNOW...</td>\n",
       "      <td>117</td>\n",
       "      <td>117</td>\n",
       "      <td>ometzo</td>\n",
       "      <td>0</td>\n",
       "      <td>67</td>\n",
       "    </tr>\n",
       "    <tr>\n",
       "      <th>4</th>\n",
       "      <td>Great work, Zhesbe! I'd give you a raise but y...</td>\n",
       "      <td>['reddums']</td>\n",
       "      <td>0</td>\n",
       "      <td>\"HEY BOSS COME LOOK AT WHAT I DID!\"</td>\n",
       "      <td>1933</td>\n",
       "      <td>1933</td>\n",
       "      <td>Zhesbe</td>\n",
       "      <td>0</td>\n",
       "      <td>1348</td>\n",
       "    </tr>\n",
       "  </tbody>\n",
       "</table>\n",
       "</div>"
      ],
      "text/plain": [
       "                                                text           author  \\\n",
       "0  i must be retarded i thought it meant con lawl...     ['calantus']   \n",
       "1  DOWNMODDED FOR IRRELEVANCE? ISN'T THAT HOW THI...   ['Shadowrose']   \n",
       "2  THAT WAS SUPPOSED TO MEAN \" BY A PLACE WHERE P...    ['NExusRush']   \n",
       "3   I THOUGHT EVERYONE DID; ITS FUCKING DELICIOUS :\\  ['R0N_SWANS0N']   \n",
       "4  Great work, Zhesbe! I'd give you a raise but y...      ['reddums']   \n",
       "\n",
       "   controversiality                                        parent_text  \\\n",
       "0                 0  It's quite unfair to call Hillary Clinton a \"c...   \n",
       "1                 0                      upmodded for awesome kindness   \n",
       "2                 0  What the hell does \"because its by a golf cour...   \n",
       "3                 0  NICE TRY JENNIFER!  I KNOW IT'S YOU AND I KNOW...   \n",
       "4                 0               \"HEY BOSS COME LOOK AT WHAT I DID!\"    \n",
       "\n",
       "   parent_score  parent_votes parent_author  parent_controversiality  Score  \n",
       "0           245           245       Whisper                        0     -8  \n",
       "1            32            32       b3mus3d                        0    -16  \n",
       "2            12            12  mr_jellyneck                        0     -7  \n",
       "3           117           117        ometzo                        0     67  \n",
       "4          1933          1933        Zhesbe                        0   1348  "
      ]
     },
     "execution_count": 39,
     "metadata": {},
     "output_type": "execute_result"
    }
   ],
   "source": [
    "df = pd.read_csv('./Train_Data.csv')\n",
    "df.head()"
   ]
  },
  {
   "cell_type": "code",
   "execution_count": 40,
   "metadata": {},
   "outputs": [
    {
     "data": {
      "text/plain": [
       "(4999, 9)"
      ]
     },
     "execution_count": 40,
     "metadata": {},
     "output_type": "execute_result"
    }
   ],
   "source": [
    "df.shape"
   ]
  },
  {
   "cell_type": "code",
   "execution_count": 41,
   "metadata": {},
   "outputs": [
    {
     "data": {
      "text/plain": [
       "text                       0\n",
       "author                     0\n",
       "controversiality           0\n",
       "parent_text                0\n",
       "parent_score               0\n",
       "parent_votes               0\n",
       "parent_author              0\n",
       "parent_controversiality    0\n",
       "Score                      0\n",
       "dtype: int64"
      ]
     },
     "execution_count": 41,
     "metadata": {},
     "output_type": "execute_result"
    }
   ],
   "source": [
    "df.isnull().sum()"
   ]
  },
  {
   "cell_type": "code",
   "execution_count": 42,
   "metadata": {},
   "outputs": [
    {
     "data": {
      "text/plain": [
       "text                       4992\n",
       "author                     4317\n",
       "controversiality              2\n",
       "parent_text                4992\n",
       "parent_score               1001\n",
       "parent_votes               1001\n",
       "parent_author              4448\n",
       "parent_controversiality       2\n",
       "Score                       572\n",
       "dtype: int64"
      ]
     },
     "execution_count": 42,
     "metadata": {},
     "output_type": "execute_result"
    }
   ],
   "source": [
    "df.nunique()"
   ]
  },
  {
   "cell_type": "code",
   "execution_count": 43,
   "metadata": {},
   "outputs": [
    {
     "name": "stdout",
     "output_type": "stream",
     "text": [
      "True\n"
     ]
    }
   ],
   "source": [
    "print(df['parent_score'].equals(df['parent_votes']))"
   ]
  },
  {
   "cell_type": "code",
   "execution_count": 44,
   "metadata": {},
   "outputs": [
    {
     "data": {
      "text/plain": [
       "0    4996\n",
       "1       3\n",
       "Name: controversiality, dtype: int64"
      ]
     },
     "execution_count": 44,
     "metadata": {},
     "output_type": "execute_result"
    }
   ],
   "source": [
    "df.controversiality.value_counts()"
   ]
  },
  {
   "cell_type": "code",
   "execution_count": 45,
   "metadata": {},
   "outputs": [
    {
     "data": {
      "text/plain": [
       "0    4993\n",
       "1       6\n",
       "Name: parent_controversiality, dtype: int64"
      ]
     },
     "execution_count": 45,
     "metadata": {},
     "output_type": "execute_result"
    }
   ],
   "source": [
    "df.parent_controversiality.value_counts()"
   ]
  },
  {
   "cell_type": "code",
   "execution_count": 46,
   "metadata": {},
   "outputs": [],
   "source": [
    "df = df.drop(columns=['author','parent_author','parent_votes'])"
   ]
  },
  {
   "cell_type": "markdown",
   "metadata": {},
   "source": [
    "##### Remove Punctuation"
   ]
  },
  {
   "cell_type": "code",
   "execution_count": 47,
   "metadata": {},
   "outputs": [],
   "source": [
    "cat_cols = ['text','parent_text']\n",
    "\n",
    "for col in cat_cols:\n",
    "    df[col] = df[col].str.lower()\n",
    "    df[col] = df[col].str.strip()"
   ]
  },
  {
   "cell_type": "code",
   "execution_count": 48,
   "metadata": {},
   "outputs": [
    {
     "data": {
      "text/html": [
       "<div>\n",
       "<style scoped>\n",
       "    .dataframe tbody tr th:only-of-type {\n",
       "        vertical-align: middle;\n",
       "    }\n",
       "\n",
       "    .dataframe tbody tr th {\n",
       "        vertical-align: top;\n",
       "    }\n",
       "\n",
       "    .dataframe thead th {\n",
       "        text-align: right;\n",
       "    }\n",
       "</style>\n",
       "<table border=\"1\" class=\"dataframe\">\n",
       "  <thead>\n",
       "    <tr style=\"text-align: right;\">\n",
       "      <th></th>\n",
       "      <th>text</th>\n",
       "      <th>controversiality</th>\n",
       "      <th>parent_text</th>\n",
       "      <th>parent_score</th>\n",
       "      <th>parent_controversiality</th>\n",
       "      <th>Score</th>\n",
       "    </tr>\n",
       "  </thead>\n",
       "  <tbody>\n",
       "    <tr>\n",
       "      <th>0</th>\n",
       "      <td>i must be retarded i thought it meant con lawl...</td>\n",
       "      <td>0</td>\n",
       "      <td>it's quite unfair to call hillary clinton a \"c...</td>\n",
       "      <td>245</td>\n",
       "      <td>0</td>\n",
       "      <td>-8</td>\n",
       "    </tr>\n",
       "    <tr>\n",
       "      <th>1</th>\n",
       "      <td>downmodded for irrelevance? isn't that how thi...</td>\n",
       "      <td>0</td>\n",
       "      <td>upmodded for awesome kindness</td>\n",
       "      <td>32</td>\n",
       "      <td>0</td>\n",
       "      <td>-16</td>\n",
       "    </tr>\n",
       "    <tr>\n",
       "      <th>2</th>\n",
       "      <td>that was supposed to mean \" by a place where p...</td>\n",
       "      <td>0</td>\n",
       "      <td>what the hell does \"because its by a golf cour...</td>\n",
       "      <td>12</td>\n",
       "      <td>0</td>\n",
       "      <td>-7</td>\n",
       "    </tr>\n",
       "    <tr>\n",
       "      <th>3</th>\n",
       "      <td>i thought everyone did; its fucking delicious :\\</td>\n",
       "      <td>0</td>\n",
       "      <td>nice try jennifer!  i know it's you and i know...</td>\n",
       "      <td>117</td>\n",
       "      <td>0</td>\n",
       "      <td>67</td>\n",
       "    </tr>\n",
       "    <tr>\n",
       "      <th>4</th>\n",
       "      <td>great work, zhesbe! i'd give you a raise but y...</td>\n",
       "      <td>0</td>\n",
       "      <td>\"hey boss come look at what i did!\"</td>\n",
       "      <td>1933</td>\n",
       "      <td>0</td>\n",
       "      <td>1348</td>\n",
       "    </tr>\n",
       "  </tbody>\n",
       "</table>\n",
       "</div>"
      ],
      "text/plain": [
       "                                                text  controversiality  \\\n",
       "0  i must be retarded i thought it meant con lawl...                 0   \n",
       "1  downmodded for irrelevance? isn't that how thi...                 0   \n",
       "2  that was supposed to mean \" by a place where p...                 0   \n",
       "3   i thought everyone did; its fucking delicious :\\                 0   \n",
       "4  great work, zhesbe! i'd give you a raise but y...                 0   \n",
       "\n",
       "                                         parent_text  parent_score  \\\n",
       "0  it's quite unfair to call hillary clinton a \"c...           245   \n",
       "1                      upmodded for awesome kindness            32   \n",
       "2  what the hell does \"because its by a golf cour...            12   \n",
       "3  nice try jennifer!  i know it's you and i know...           117   \n",
       "4                \"hey boss come look at what i did!\"          1933   \n",
       "\n",
       "   parent_controversiality  Score  \n",
       "0                        0     -8  \n",
       "1                        0    -16  \n",
       "2                        0     -7  \n",
       "3                        0     67  \n",
       "4                        0   1348  "
      ]
     },
     "execution_count": 48,
     "metadata": {},
     "output_type": "execute_result"
    }
   ],
   "source": [
    "df.head()"
   ]
  },
  {
   "cell_type": "code",
   "execution_count": 49,
   "metadata": {},
   "outputs": [
    {
     "data": {
      "text/html": [
       "<div>\n",
       "<style scoped>\n",
       "    .dataframe tbody tr th:only-of-type {\n",
       "        vertical-align: middle;\n",
       "    }\n",
       "\n",
       "    .dataframe tbody tr th {\n",
       "        vertical-align: top;\n",
       "    }\n",
       "\n",
       "    .dataframe thead th {\n",
       "        text-align: right;\n",
       "    }\n",
       "</style>\n",
       "<table border=\"1\" class=\"dataframe\">\n",
       "  <thead>\n",
       "    <tr style=\"text-align: right;\">\n",
       "      <th></th>\n",
       "      <th>text</th>\n",
       "      <th>controversiality</th>\n",
       "      <th>parent_text</th>\n",
       "      <th>parent_score</th>\n",
       "      <th>parent_controversiality</th>\n",
       "      <th>Score</th>\n",
       "    </tr>\n",
       "  </thead>\n",
       "  <tbody>\n",
       "    <tr>\n",
       "      <th>0</th>\n",
       "      <td>i must be retarded i thought it meant con lawl...</td>\n",
       "      <td>0</td>\n",
       "      <td>its quite unfair to call hillary clinton a cun...</td>\n",
       "      <td>245</td>\n",
       "      <td>0</td>\n",
       "      <td>-8</td>\n",
       "    </tr>\n",
       "    <tr>\n",
       "      <th>1</th>\n",
       "      <td>downmodded for irrelevance isnt that how this ...</td>\n",
       "      <td>0</td>\n",
       "      <td>upmodded for awesome kindness</td>\n",
       "      <td>32</td>\n",
       "      <td>0</td>\n",
       "      <td>-16</td>\n",
       "    </tr>\n",
       "    <tr>\n",
       "      <th>2</th>\n",
       "      <td>that was supposed to mean  by a place where pe...</td>\n",
       "      <td>0</td>\n",
       "      <td>what the hell does because its by a golf cours...</td>\n",
       "      <td>12</td>\n",
       "      <td>0</td>\n",
       "      <td>-7</td>\n",
       "    </tr>\n",
       "    <tr>\n",
       "      <th>3</th>\n",
       "      <td>i thought everyone did its fucking delicious</td>\n",
       "      <td>0</td>\n",
       "      <td>nice try jennifer  i know its you and i know y...</td>\n",
       "      <td>117</td>\n",
       "      <td>0</td>\n",
       "      <td>67</td>\n",
       "    </tr>\n",
       "    <tr>\n",
       "      <th>4</th>\n",
       "      <td>great work zhesbe id give you a raise but you ...</td>\n",
       "      <td>0</td>\n",
       "      <td>hey boss come look at what i did</td>\n",
       "      <td>1933</td>\n",
       "      <td>0</td>\n",
       "      <td>1348</td>\n",
       "    </tr>\n",
       "  </tbody>\n",
       "</table>\n",
       "</div>"
      ],
      "text/plain": [
       "                                                text  controversiality  \\\n",
       "0  i must be retarded i thought it meant con lawl...                 0   \n",
       "1  downmodded for irrelevance isnt that how this ...                 0   \n",
       "2  that was supposed to mean  by a place where pe...                 0   \n",
       "3      i thought everyone did its fucking delicious                  0   \n",
       "4  great work zhesbe id give you a raise but you ...                 0   \n",
       "\n",
       "                                         parent_text  parent_score  \\\n",
       "0  its quite unfair to call hillary clinton a cun...           245   \n",
       "1                      upmodded for awesome kindness            32   \n",
       "2  what the hell does because its by a golf cours...            12   \n",
       "3  nice try jennifer  i know its you and i know y...           117   \n",
       "4                   hey boss come look at what i did          1933   \n",
       "\n",
       "   parent_controversiality  Score  \n",
       "0                        0     -8  \n",
       "1                        0    -16  \n",
       "2                        0     -7  \n",
       "3                        0     67  \n",
       "4                        0   1348  "
      ]
     },
     "execution_count": 49,
     "metadata": {},
     "output_type": "execute_result"
    }
   ],
   "source": [
    "import string\n",
    "\n",
    "for col in cat_cols:\n",
    "    df[col] = df[col].apply(lambda x : ''.join([char for char in x if char not in string.punctuation]))\n",
    "df.head()"
   ]
  },
  {
   "cell_type": "markdown",
   "metadata": {},
   "source": [
    "##### Tokenization"
   ]
  },
  {
   "cell_type": "code",
   "execution_count": 50,
   "metadata": {},
   "outputs": [],
   "source": [
    "import re\n",
    "def tokenize(text):\n",
    "    tokens = re.split('\\W',text)\n",
    "    words = [w for w in tokens if w.isalpha()]\n",
    "    return words"
   ]
  },
  {
   "cell_type": "code",
   "execution_count": 51,
   "metadata": {},
   "outputs": [],
   "source": [
    "for col in cat_cols:\n",
    "    df[col] = df[col].apply(lambda x: tokenize(x))"
   ]
  },
  {
   "cell_type": "code",
   "execution_count": 52,
   "metadata": {},
   "outputs": [
    {
     "data": {
      "text/html": [
       "<div>\n",
       "<style scoped>\n",
       "    .dataframe tbody tr th:only-of-type {\n",
       "        vertical-align: middle;\n",
       "    }\n",
       "\n",
       "    .dataframe tbody tr th {\n",
       "        vertical-align: top;\n",
       "    }\n",
       "\n",
       "    .dataframe thead th {\n",
       "        text-align: right;\n",
       "    }\n",
       "</style>\n",
       "<table border=\"1\" class=\"dataframe\">\n",
       "  <thead>\n",
       "    <tr style=\"text-align: right;\">\n",
       "      <th></th>\n",
       "      <th>text</th>\n",
       "      <th>controversiality</th>\n",
       "      <th>parent_text</th>\n",
       "      <th>parent_score</th>\n",
       "      <th>parent_controversiality</th>\n",
       "      <th>Score</th>\n",
       "    </tr>\n",
       "  </thead>\n",
       "  <tbody>\n",
       "    <tr>\n",
       "      <th>0</th>\n",
       "      <td>[i, must, be, retarded, i, thought, it, meant,...</td>\n",
       "      <td>0</td>\n",
       "      <td>[its, quite, unfair, to, call, hillary, clinto...</td>\n",
       "      <td>245</td>\n",
       "      <td>0</td>\n",
       "      <td>-8</td>\n",
       "    </tr>\n",
       "    <tr>\n",
       "      <th>1</th>\n",
       "      <td>[downmodded, for, irrelevance, isnt, that, how...</td>\n",
       "      <td>0</td>\n",
       "      <td>[upmodded, for, awesome, kindness]</td>\n",
       "      <td>32</td>\n",
       "      <td>0</td>\n",
       "      <td>-16</td>\n",
       "    </tr>\n",
       "    <tr>\n",
       "      <th>2</th>\n",
       "      <td>[that, was, supposed, to, mean, by, a, place, ...</td>\n",
       "      <td>0</td>\n",
       "      <td>[what, the, hell, does, because, its, by, a, g...</td>\n",
       "      <td>12</td>\n",
       "      <td>0</td>\n",
       "      <td>-7</td>\n",
       "    </tr>\n",
       "    <tr>\n",
       "      <th>3</th>\n",
       "      <td>[i, thought, everyone, did, its, fucking, deli...</td>\n",
       "      <td>0</td>\n",
       "      <td>[nice, try, jennifer, i, know, its, you, and, ...</td>\n",
       "      <td>117</td>\n",
       "      <td>0</td>\n",
       "      <td>67</td>\n",
       "    </tr>\n",
       "    <tr>\n",
       "      <th>4</th>\n",
       "      <td>[great, work, zhesbe, id, give, you, a, raise,...</td>\n",
       "      <td>0</td>\n",
       "      <td>[hey, boss, come, look, at, what, i, did]</td>\n",
       "      <td>1933</td>\n",
       "      <td>0</td>\n",
       "      <td>1348</td>\n",
       "    </tr>\n",
       "  </tbody>\n",
       "</table>\n",
       "</div>"
      ],
      "text/plain": [
       "                                                text  controversiality  \\\n",
       "0  [i, must, be, retarded, i, thought, it, meant,...                 0   \n",
       "1  [downmodded, for, irrelevance, isnt, that, how...                 0   \n",
       "2  [that, was, supposed, to, mean, by, a, place, ...                 0   \n",
       "3  [i, thought, everyone, did, its, fucking, deli...                 0   \n",
       "4  [great, work, zhesbe, id, give, you, a, raise,...                 0   \n",
       "\n",
       "                                         parent_text  parent_score  \\\n",
       "0  [its, quite, unfair, to, call, hillary, clinto...           245   \n",
       "1                 [upmodded, for, awesome, kindness]            32   \n",
       "2  [what, the, hell, does, because, its, by, a, g...            12   \n",
       "3  [nice, try, jennifer, i, know, its, you, and, ...           117   \n",
       "4          [hey, boss, come, look, at, what, i, did]          1933   \n",
       "\n",
       "   parent_controversiality  Score  \n",
       "0                        0     -8  \n",
       "1                        0    -16  \n",
       "2                        0     -7  \n",
       "3                        0     67  \n",
       "4                        0   1348  "
      ]
     },
     "execution_count": 52,
     "metadata": {},
     "output_type": "execute_result"
    }
   ],
   "source": [
    "df.head()"
   ]
  },
  {
   "cell_type": "markdown",
   "metadata": {},
   "source": [
    "##### Remove Stopwords"
   ]
  },
  {
   "cell_type": "code",
   "execution_count": 53,
   "metadata": {},
   "outputs": [],
   "source": [
    "import requests\n",
    "stopwords_list = requests.get(\"https://gist.githubusercontent.com/rg089/35e00abf8941d72d419224cfd5b5925d/raw/12d899b70156fd0041fa9778d657330b024b959c/stopwords.txt\").content\n",
    "stopwords = set(stopwords_list.decode().splitlines()) "
   ]
  },
  {
   "cell_type": "code",
   "execution_count": 54,
   "metadata": {},
   "outputs": [],
   "source": [
    "def remove_stopwords(text_token):\n",
    "    without_stopwords = [x for x in text_token if x not in stopwords]\n",
    "    return without_stopwords"
   ]
  },
  {
   "cell_type": "markdown",
   "metadata": {},
   "source": [
    "##### Vectorize"
   ]
  },
  {
   "cell_type": "code",
   "execution_count": 55,
   "metadata": {},
   "outputs": [
    {
     "data": {
      "text/html": [
       "<div>\n",
       "<style scoped>\n",
       "    .dataframe tbody tr th:only-of-type {\n",
       "        vertical-align: middle;\n",
       "    }\n",
       "\n",
       "    .dataframe tbody tr th {\n",
       "        vertical-align: top;\n",
       "    }\n",
       "\n",
       "    .dataframe thead th {\n",
       "        text-align: right;\n",
       "    }\n",
       "</style>\n",
       "<table border=\"1\" class=\"dataframe\">\n",
       "  <thead>\n",
       "    <tr style=\"text-align: right;\">\n",
       "      <th></th>\n",
       "      <th>text</th>\n",
       "      <th>controversiality</th>\n",
       "      <th>parent_text</th>\n",
       "      <th>parent_score</th>\n",
       "      <th>parent_controversiality</th>\n",
       "      <th>Score</th>\n",
       "    </tr>\n",
       "  </thead>\n",
       "  <tbody>\n",
       "    <tr>\n",
       "      <th>0</th>\n",
       "      <td>i must be retarded i thought it meant con lawl...</td>\n",
       "      <td>0</td>\n",
       "      <td>its quite unfair to call hillary clinton a cun...</td>\n",
       "      <td>245</td>\n",
       "      <td>0</td>\n",
       "      <td>-8</td>\n",
       "    </tr>\n",
       "    <tr>\n",
       "      <th>1</th>\n",
       "      <td>downmodded for irrelevance isnt that how this ...</td>\n",
       "      <td>0</td>\n",
       "      <td>upmodded for awesome kindness</td>\n",
       "      <td>32</td>\n",
       "      <td>0</td>\n",
       "      <td>-16</td>\n",
       "    </tr>\n",
       "    <tr>\n",
       "      <th>2</th>\n",
       "      <td>that was supposed to mean by a place where peo...</td>\n",
       "      <td>0</td>\n",
       "      <td>what the hell does because its by a golf cours...</td>\n",
       "      <td>12</td>\n",
       "      <td>0</td>\n",
       "      <td>-7</td>\n",
       "    </tr>\n",
       "    <tr>\n",
       "      <th>3</th>\n",
       "      <td>i thought everyone did its fucking delicious</td>\n",
       "      <td>0</td>\n",
       "      <td>nice try jennifer i know its you and i know yo...</td>\n",
       "      <td>117</td>\n",
       "      <td>0</td>\n",
       "      <td>67</td>\n",
       "    </tr>\n",
       "    <tr>\n",
       "      <th>4</th>\n",
       "      <td>great work zhesbe id give you a raise but you ...</td>\n",
       "      <td>0</td>\n",
       "      <td>hey boss come look at what i did</td>\n",
       "      <td>1933</td>\n",
       "      <td>0</td>\n",
       "      <td>1348</td>\n",
       "    </tr>\n",
       "  </tbody>\n",
       "</table>\n",
       "</div>"
      ],
      "text/plain": [
       "                                                text  controversiality  \\\n",
       "0  i must be retarded i thought it meant con lawl...                 0   \n",
       "1  downmodded for irrelevance isnt that how this ...                 0   \n",
       "2  that was supposed to mean by a place where peo...                 0   \n",
       "3       i thought everyone did its fucking delicious                 0   \n",
       "4  great work zhesbe id give you a raise but you ...                 0   \n",
       "\n",
       "                                         parent_text  parent_score  \\\n",
       "0  its quite unfair to call hillary clinton a cun...           245   \n",
       "1                      upmodded for awesome kindness            32   \n",
       "2  what the hell does because its by a golf cours...            12   \n",
       "3  nice try jennifer i know its you and i know yo...           117   \n",
       "4                   hey boss come look at what i did          1933   \n",
       "\n",
       "   parent_controversiality  Score  \n",
       "0                        0     -8  \n",
       "1                        0    -16  \n",
       "2                        0     -7  \n",
       "3                        0     67  \n",
       "4                        0   1348  "
      ]
     },
     "execution_count": 55,
     "metadata": {},
     "output_type": "execute_result"
    }
   ],
   "source": [
    "for col in cat_cols:\n",
    "    df[col] = df[col].apply(lambda x: ' '.join(x))\n",
    "df.head()"
   ]
  },
  {
   "cell_type": "code",
   "execution_count": 57,
   "metadata": {},
   "outputs": [],
   "source": [
    "from sklearn.feature_extraction.text import TfidfVectorizer\n",
    "\n",
    "tfidf_vect = TfidfVectorizer(max_features=50,min_df=1,max_df=0.7)\n",
    "text_tfidf = tfidf_vect.fit_transform(df['text']).toarray()\n",
    "text_tfidf = pd.DataFrame(text_tfidf,columns=tfidf_vect.get_feature_names())"
   ]
  },
  {
   "cell_type": "code",
   "execution_count": 58,
   "metadata": {},
   "outputs": [
    {
     "data": {
      "text/plain": [
       "(4999, 50)"
      ]
     },
     "execution_count": 58,
     "metadata": {},
     "output_type": "execute_result"
    }
   ],
   "source": [
    "text_tfidf.shape"
   ]
  },
  {
   "cell_type": "code",
   "execution_count": 60,
   "metadata": {},
   "outputs": [],
   "source": [
    "num_cols = df[['controversiality','parent_score','parent_controversiality']]\n",
    "x = pd.concat([text_tfidf,num_cols],axis=1)\n",
    "y = df['Score']"
   ]
  },
  {
   "cell_type": "code",
   "execution_count": 61,
   "metadata": {},
   "outputs": [
    {
     "data": {
      "text/plain": [
       "(4999, 53)"
      ]
     },
     "execution_count": 61,
     "metadata": {},
     "output_type": "execute_result"
    }
   ],
   "source": [
    "x.shape"
   ]
  },
  {
   "cell_type": "markdown",
   "metadata": {},
   "source": [
    "##### ML Model"
   ]
  },
  {
   "cell_type": "code",
   "execution_count": 62,
   "metadata": {},
   "outputs": [],
   "source": [
    "from sklearn.model_selection import train_test_split\n",
    "\n",
    "X_train,X_test,y_train,y_test = train_test_split(x,y,test_size=0.3,random_state=34)"
   ]
  },
  {
   "cell_type": "code",
   "execution_count": 63,
   "metadata": {},
   "outputs": [],
   "source": [
    "from sklearn.linear_model import LinearRegression\n",
    "\n",
    "lr = LinearRegression()\n",
    "model = lr.fit(X_train,y_train)\n",
    "y_pred= model.predict(X_test)"
   ]
  },
  {
   "cell_type": "code",
   "execution_count": 64,
   "metadata": {},
   "outputs": [
    {
     "name": "stdout",
     "output_type": "stream",
     "text": [
      "root mean squared error: 162.7575809249547\n"
     ]
    }
   ],
   "source": [
    "from sklearn.metrics import mean_squared_error\n",
    "print('root mean squared error:',np.sqrt(mean_squared_error(y_test,y_pred)))"
   ]
  },
  {
   "cell_type": "code",
   "execution_count": 68,
   "metadata": {},
   "outputs": [
    {
     "data": {
      "text/plain": [
       "GridSearchCV(cv=5, estimator=KNeighborsRegressor(),\n",
       "             param_grid={'n_neighbors': array([ 1,  2,  3,  4,  5,  6,  7,  8,  9, 10, 11, 12, 13, 14, 15, 16, 17,\n",
       "       18, 19, 20, 21, 22, 23, 24, 25, 26, 27, 28, 29, 30, 31, 32, 33, 34,\n",
       "       35, 36, 37, 38, 39, 40, 41, 42, 43, 44, 45, 46, 47, 48, 49, 50, 51,\n",
       "       52, 53, 54, 55, 56, 57, 58, 59, 60, 61, 62, 63, 64, 65, 66, 67, 68,\n",
       "       69, 70, 71, 72, 73, 74, 75, 76, 77, 78, 79, 80, 81, 82, 83, 84, 85,\n",
       "       86, 87, 88, 89, 90, 91, 92, 93, 94, 95, 96, 97, 98, 99])})"
      ]
     },
     "execution_count": 68,
     "metadata": {},
     "output_type": "execute_result"
    }
   ],
   "source": [
    "from sklearn.neighbors import KNeighborsRegressor\n",
    "from sklearn.model_selection import GridSearchCV\n",
    "\n",
    "param_grid = {'n_neighbors':np.arange(1,100)}\n",
    "knn = KNeighborsRegressor()\n",
    "knn_cv = GridSearchCV(knn,param_grid,cv=5)\n",
    "knn_cv.fit(X_train,y_train)"
   ]
  },
  {
   "cell_type": "code",
   "execution_count": 69,
   "metadata": {},
   "outputs": [
    {
     "data": {
      "text/plain": [
       "{'n_neighbors': 98}"
      ]
     },
     "execution_count": 69,
     "metadata": {},
     "output_type": "execute_result"
    }
   ],
   "source": [
    "knn_cv.best_params_"
   ]
  },
  {
   "cell_type": "code",
   "execution_count": 70,
   "metadata": {},
   "outputs": [
    {
     "name": "stdout",
     "output_type": "stream",
     "text": [
      "root_mean_squared_error: 157.8923881894263\n"
     ]
    }
   ],
   "source": [
    "knn = KNeighborsRegressor(n_neighbors=98)\n",
    "knn.fit(X_train,y_train)\n",
    "y_pred2 = knn.predict(X_test)\n",
    "print('root_mean_squared_error:',np.sqrt(mean_squared_error(y_test,y_pred2)))"
   ]
  },
  {
   "cell_type": "code",
   "execution_count": 74,
   "metadata": {},
   "outputs": [
    {
     "data": {
      "text/plain": [
       "RandomizedSearchCV(cv=5, estimator=RandomForestRegressor(),\n",
       "                   param_distributions={'max_depth': array([ 1,  2,  3,  4,  5,  6,  7,  8,  9, 10, 11, 12, 13, 14, 15, 16, 17,\n",
       "       18, 19, 20, 21, 22, 23, 24, 25, 26, 27, 28, 29, 30, 31, 32, 33, 34,\n",
       "       35, 36, 37, 38, 39, 40, 41, 42, 43, 44, 45, 46, 47, 48, 49]),\n",
       "                                        'n_estimators': array([ 1,  2,  3,  4,  5,  6,  7,  8,  9, 10, 11, 12, 13, 14, 15, 16, 17,\n",
       "       18, 19, 20, 21, 22, 23, 24, 25, 26, 27, 28, 29, 30, 31, 32, 33, 34,\n",
       "       35, 36, 37, 38, 39, 40, 41, 42, 43, 44, 45, 46, 47, 48, 49])})"
      ]
     },
     "execution_count": 74,
     "metadata": {},
     "output_type": "execute_result"
    }
   ],
   "source": [
    "from sklearn.ensemble import RandomForestRegressor\n",
    "from sklearn.model_selection import RandomizedSearchCV\n",
    "param_grid = {'n_estimators':np.arange(1,50),'max_depth':np.arange(1,50)}\n",
    "rf = RandomForestRegressor()\n",
    "rf_cv = RandomizedSearchCV(rf,param_grid,cv=5)\n",
    "rf_cv.fit(X_train,y_train)"
   ]
  },
  {
   "cell_type": "code",
   "execution_count": 75,
   "metadata": {},
   "outputs": [
    {
     "data": {
      "text/plain": [
       "{'n_estimators': 27, 'max_depth': 8}"
      ]
     },
     "execution_count": 75,
     "metadata": {},
     "output_type": "execute_result"
    }
   ],
   "source": [
    "rf_cv.best_params_"
   ]
  },
  {
   "cell_type": "code",
   "execution_count": 76,
   "metadata": {},
   "outputs": [
    {
     "name": "stdout",
     "output_type": "stream",
     "text": [
      "root mean squared error: 162.57561362146066\n"
     ]
    }
   ],
   "source": [
    "rf = RandomForestRegressor(n_estimators=27,max_depth=8,max_features='auto')\n",
    "rf.fit(X_train,y_train)\n",
    "y_pred3 = rf.predict(X_test)\n",
    "\n",
    "print('root mean squared error:',np.sqrt(mean_squared_error(y_test,y_pred3)))"
   ]
  }
 ],
 "metadata": {
  "kernelspec": {
   "display_name": "Python 3",
   "language": "python",
   "name": "python3"
  },
  "language_info": {
   "codemirror_mode": {
    "name": "ipython",
    "version": 3
   },
   "file_extension": ".py",
   "mimetype": "text/x-python",
   "name": "python",
   "nbconvert_exporter": "python",
   "pygments_lexer": "ipython3",
   "version": "3.8.6"
  },
  "orig_nbformat": 4
 },
 "nbformat": 4,
 "nbformat_minor": 2
}
