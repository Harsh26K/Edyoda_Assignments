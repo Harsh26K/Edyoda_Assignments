{
 "cells": [
  {
   "cell_type": "markdown",
   "metadata": {},
   "source": [
    "#### Question"
   ]
  },
  {
   "cell_type": "markdown",
   "metadata": {},
   "source": [
    "Suppose we have a dataset of weather conditions and the corresponding target \n",
    "variable \"Play\". So using this dataset we need to decide \n",
    "whether we should play or not on a particular day according to the \n",
    "weather conditions. So to solve this problem, \n",
    "we need to follow the below steps:\n",
    "1. Convert the given dataset into frequency tables.\n",
    "2. Generate a Likelihood table by finding the probabilities of given features.\n",
    "3. Now, use the Bayes theorem to calculate the posterior probability."
   ]
  },
  {
   "cell_type": "markdown",
   "metadata": {},
   "source": [
    "#### Answer"
   ]
  },
  {
   "cell_type": "markdown",
   "metadata": {},
   "source": [
    "##### 1. Convert the given dataset into frequency tables."
   ]
  },
  {
   "cell_type": "markdown",
   "metadata": {},
   "source": [
    "Weather/Play:\n",
    "<table>\n",
    "    <th></th>\n",
    "    <th>Yes</th>\n",
    "    <th>No</th>\n",
    "    <tr>\n",
    "        <td>Sunny</td>\n",
    "        <td>1</td>\n",
    "        <td>2</td>\n",
    "    </tr>\n",
    "    <tr>\n",
    "        <td>Cloudy</td>\n",
    "        <td>3</td>\n",
    "        <td>0</td>\n",
    "    </tr>\n",
    "    <tr>\n",
    "        <td>Rainy</td>\n",
    "        <td>1</td>\n",
    "        <td>3</td>\n",
    "    </tr>\n",
    "    <tr>\n",
    "        <td>All</td>\n",
    "        <td>5</td>\n",
    "        <td>5</td>\n",
    "    </tr>\n",
    "</table>"
   ]
  },
  {
   "cell_type": "markdown",
   "metadata": {},
   "source": [
    "Temperature/Play:\n",
    "\n",
    "<table>\n",
    "    <th></th>\n",
    "    <th>Yes</th>\n",
    "    <th>No</th>\n",
    "    <tr>\n",
    "        <td>Hot</td>\n",
    "        <td>2</td>\n",
    "        <td>2</td>\n",
    "    </tr>\n",
    "    <tr>\n",
    "        <td>Mild</td>\n",
    "        <td>3</td>\n",
    "        <td>2</td>\n",
    "    </tr>\n",
    "    <tr>\n",
    "        <td>Cool</td>\n",
    "        <td>0</td>\n",
    "        <td>1</td>\n",
    "    </tr>\n",
    "    <tr>\n",
    "        <td>All</td>\n",
    "        <td>5</td>\n",
    "        <td>5</td>\n",
    "    </tr>\n",
    "</table>"
   ]
  },
  {
   "cell_type": "markdown",
   "metadata": {},
   "source": [
    "Humidity/Play:\n",
    "\n",
    "<table>\n",
    "    <th></th>\n",
    "    <th>Yes</th>\n",
    "    <th>No</th>\n",
    "    <tr>\n",
    "        <td>High</td>\n",
    "        <td></td>\n",
    "        <td></td>\n",
    "    </tr>\n",
    "    <tr>\n",
    "        <td>Normal</td>\n",
    "        <td>3</td>\n",
    "        <td>4</td>\n",
    "    </tr>\n",
    "    <tr>\n",
    "        <td>All</td>\n",
    "        <td>2</td>\n",
    "        <td>1</td>\n",
    "    </tr>\n",
    "</table>"
   ]
  },
  {
   "cell_type": "markdown",
   "metadata": {},
   "source": [
    "Wind/Play:\n",
    "\n",
    "<table>\n",
    "    <th></th>\n",
    "    <th>Yes</th>\n",
    "    <th>No</th>\n",
    "    <tr>\n",
    "        <td>Weak</td>\n",
    "        <td>3</td>\n",
    "        <td>1</td>\n",
    "    </tr>\n",
    "    <tr>\n",
    "        <td>Strong</td>\n",
    "        <td>2</td>\n",
    "        <td>4</td>\n",
    "    </tr>\n",
    "    <tr>\n",
    "        <td>All</td>\n",
    "        <td>5</td>\n",
    "        <td>5</td>\n",
    "    </tr>\n",
    "</table>"
   ]
  },
  {
   "cell_type": "markdown",
   "metadata": {},
   "source": [
    "##### 2. Generate a Likelihood table by finding the probabilities of given features."
   ]
  },
  {
   "cell_type": "markdown",
   "metadata": {},
   "source": [
    "Weather/Play:\n",
    "\n",
    "<table>\n",
    "    <th></th>\n",
    "    <th>Yes</th>\n",
    "    <th>No</th>\n",
    "    <th></th>\n",
    "    <tr>\n",
    "        <td>Sunny</td>\n",
    "        <td>1/5</td>\n",
    "        <td>2/5</td>\n",
    "        <td>= 3/10</td>\n",
    "    </tr>\n",
    "    <tr>\n",
    "        <td>Cloudy</td>\n",
    "        <td>3/5</td>\n",
    "        <td>0/5</td>\n",
    "        <td>= 3/10</td>\n",
    "    </tr>\n",
    "    <tr>\n",
    "        <td>Rainy</td>\n",
    "        <td>1/5</td>\n",
    "        <td>3/5</td>\n",
    "        <td>= 4/10</td>\n",
    "    </tr>\n",
    "    <tr>\n",
    "        <td>All</td>\n",
    "        <td>5</td>\n",
    "        <td>5</td>\n",
    "        <td></td>\n",
    "    </tr>\n",
    "    <tr>\n",
    "        <td></td>\n",
    "        <td>= 5/10</td>\n",
    "        <td>= 5/10</td>\n",
    "        <td></td>\n",
    "    </tr>\n",
    "</table>"
   ]
  },
  {
   "cell_type": "markdown",
   "metadata": {},
   "source": [
    "Temperature/Play:\n",
    "\n",
    "<table>\n",
    "    <th></th>\n",
    "    <th>Yes</th>\n",
    "    <th>No</th>\n",
    "    <th></th>\n",
    "    <tr>\n",
    "        <td>Hot</td>\n",
    "        <td>2/5</td>\n",
    "        <td>2/5</td>\n",
    "        <td>=4/10</td>\n",
    "    </tr>\n",
    "    <tr>\n",
    "        <td>Mild</td>\n",
    "        <td>3/5</td>\n",
    "        <td>2/5</td>\n",
    "        <td>= 5/10</td>\n",
    "    </tr>\n",
    "    <tr>\n",
    "        <td>Cool</td>\n",
    "        <td>0/5</td>\n",
    "        <td>1/5</td>\n",
    "        <td>= 1/10</td>\n",
    "    </tr>\n",
    "    <tr>\n",
    "        <td>All</td>\n",
    "        <td>5</td>\n",
    "        <td>5</td>\n",
    "        <td></td>\n",
    "    </tr>\n",
    "    <tr>\n",
    "        <td></td>\n",
    "        <td>= 5/10</td>\n",
    "        <td>= 5/10</td>\n",
    "        <td></td>\n",
    "    </tr>\n",
    "</table>"
   ]
  },
  {
   "cell_type": "markdown",
   "metadata": {},
   "source": [
    "Humidity/Play:\n",
    "\n",
    "<table>\n",
    "    <th></th>\n",
    "    <th>Yes</th>\n",
    "    <th>No</th>\n",
    "    <th></th>\n",
    "    <tr>\n",
    "        <td>High</td>\n",
    "        <td>3/5</td>\n",
    "        <td>4/5</td>\n",
    "        <td>= 7/10</td>\n",
    "    </tr>\n",
    "    <tr>\n",
    "        <td>Normal</td>\n",
    "        <td>2/5</td>\n",
    "        <td>1/5</td>\n",
    "        <td>= 3/10</td>\n",
    "    </tr>\n",
    "    <tr>\n",
    "        <td>All</td>\n",
    "        <td>5</td>\n",
    "        <td>5</td>\n",
    "        <td></td>\n",
    "    </tr>\n",
    "    <tr>\n",
    "        <td></td>\n",
    "        <td>= 5/10</td>\n",
    "        <td>= 5/10</td>\n",
    "        <td></td>\n",
    "    </tr>\n",
    "</table>"
   ]
  },
  {
   "cell_type": "markdown",
   "metadata": {},
   "source": [
    "Wind/Play:\n",
    "\n",
    "<table>\n",
    "    <th></th>\n",
    "    <th>Yes</th>\n",
    "    <th>No</th>\n",
    "    <th></th>\n",
    "    <tr>\n",
    "        <td>Weak</td>\n",
    "        <td>3/5</td>\n",
    "        <td>1/5</td>\n",
    "        <td>= 4/10</td>\n",
    "    </tr>\n",
    "    <tr>\n",
    "        <td>Strong</td>\n",
    "        <td>2/5</td>\n",
    "        <td>4/5</td>\n",
    "        <td> = 6/10</td>\n",
    "    </tr>\n",
    "    <tr>\n",
    "        <td>All</td>\n",
    "        <td>5</td>\n",
    "        <td>5</td>\n",
    "        <td></td>\n",
    "    </tr>\n",
    "    <tr>\n",
    "        <td></td>\n",
    "        <td>= 5/10</td>\n",
    "        <td>= 5/10</td>\n",
    "        <td></td>\n",
    "    </tr>\n",
    "</table>"
   ]
  },
  {
   "cell_type": "markdown",
   "metadata": {},
   "source": [
    "##### 3. Now, use the Bayes theorem to calculate the posterior probability."
   ]
  },
  {
   "cell_type": "markdown",
   "metadata": {},
   "source": [
    "###### <strong>One Feature</strong>"
   ]
  },
  {
   "cell_type": "markdown",
   "metadata": {},
   "source": [
    "    P(Yes|Sunny)\n",
    "    = P(Sunny|Yes)*P(Yes)/P(Sunny) = 1/5 * 5/10 * 10/3 = 1/3\n",
    "    P(No|Sunny)\n",
    "    = P(Sunny|No)*P(No)/P(Sunny) = 2/5 * 5/10 * 10/3 = 2/3"
   ]
  },
  {
   "cell_type": "markdown",
   "metadata": {},
   "source": [
    "    P(Yes|Cloudy)\n",
    "    = P(Cloudy|Yes)*P(Yes)/P(Cloudy) = 3/5 * 5/10 * 10/3 = 1\n",
    "    P(No|Cloudy)\n",
    "    = P(Cloudy|No)*P(No)/P(Cloudy) = 0/5 * 5/10 * 10/3 = 0"
   ]
  },
  {
   "cell_type": "markdown",
   "metadata": {},
   "source": [
    "    P(Yes|Rainy)\n",
    "    = P(Rainy|Yes)*P(Yes)/P(Rainy) = 1/5 * 5/10 * 10/4 = 1/4\n",
    "    P(No|Rainy)\n",
    "    = P(Cloudy|No)*P(No)/P(Cloudy) = 3/5 * 5/10 * 10/4 = 3/4"
   ]
  },
  {
   "cell_type": "markdown",
   "metadata": {},
   "source": [
    "    P(Yes|Hot)\n",
    "    = P(Hot|Yes)*P(Yes)/P(Hot) = 2/5 * 5/10 * 10/4 = 1/2\n",
    "    P(No|Hot)\n",
    "    = P(Cloudy|Yes)*P(Yes)/P(Cloudy) = 2/5 * 5/10 * 10/4 = 1/2"
   ]
  },
  {
   "cell_type": "markdown",
   "metadata": {},
   "source": [
    "    P(Yes|Mild)\n",
    "    = P(Mild|Yes)*P(Yes)/P(Mild) = 3/5 * 5/10 * 10/5 = 3/5\n",
    "    P(No|Mild)\n",
    "    = P(Mild|No)*P(No)/P(Mild) = 2/5 * 5/10 * 10/5 = 2/5"
   ]
  },
  {
   "cell_type": "markdown",
   "metadata": {},
   "source": [
    "    P(Yes|Cool)\n",
    "    = P(Cool|Yes)*P(Yes)/P(Cool) = 0/5 * 5/10 * 10/1 = 0\n",
    "    P(No|Cool)\n",
    "    = P(Cool|No)*P(No)/P(Cool) = 1/5 * 5/10 * 10/1 = 1"
   ]
  },
  {
   "cell_type": "markdown",
   "metadata": {},
   "source": [
    "    P(Yes|High)\n",
    "    = P(High|Yes)*P(Yes)/P(High) = 3/5 * 5/10 * 10/7 = 3/7\n",
    "    P(No|High)\n",
    "    = P(High|No)*P(No)/P(High) = 4/5 * 5/10 * 10/7 = 4/7"
   ]
  },
  {
   "cell_type": "markdown",
   "metadata": {},
   "source": [
    "    P(Yes|Normal)\n",
    "    = P(Cloudy|Yes)*P(Yes)/P(Cloudy) = 2/5 * 5/10 * 10/3 = 2/3\n",
    "    P(No|Normal)\n",
    "    = P(Cloudy|Yes)*P(Yes)/P(Cloudy) = 1/5 * 5/10 * 10/3 = 1/3"
   ]
  },
  {
   "cell_type": "markdown",
   "metadata": {},
   "source": [
    "    P(Yes|Weak)\n",
    "    = P(Weak|Yes)*P(Yes)/P(Weak) = 3/5 * 5/10 * 10/4 = 3/4\n",
    "    P(No|Weak)\n",
    "    = P(Weak|No)*P(No)/P(Weak) = 1/5 * 5/10 * 10/4 = 1/4"
   ]
  },
  {
   "cell_type": "markdown",
   "metadata": {},
   "source": [
    "    P(Yes|Strong)\n",
    "    = P(Cloudy|Yes)*P(Yes)/P(Cloudy) = 2/5 * 5/10 * 10/6 = 1/3\n",
    "    P(No|Strong)\n",
    "    = P(Cloudy|Yes)*P(Yes)/P(Cloudy) = 4/5 * 5/10 * 10/6 = 2/3\n"
   ]
  },
  {
   "cell_type": "markdown",
   "metadata": {},
   "source": [
    "###### <strong>All Features</strong>"
   ]
  },
  {
   "cell_type": "markdown",
   "metadata": {},
   "source": [
    "    1.Sunny, Hot, High, Weak\n",
    "\n",
    "        P(No|X) = P(Sunny|No)* P(Hot|No) * P(High|No) * P(Weak|No) * P(No)\n",
    "                = 2/5 * 2/5 * 4/5 * 1/5 * 1/2\n",
    "                = 0.0128\n",
    "        P(Yes|X) = P(Sunny|Yes)* P(Hot|Yes) * P(High|Yes) * P(Weak|Yes) * P(Yes)\n",
    "                = 1/5 * 2/5 * 3/5 * 3/5 * 1/2\n",
    "                = 0.0144"
   ]
  },
  {
   "cell_type": "markdown",
   "metadata": {},
   "source": [
    "    2.Sunny, Hot, High, Strong\n",
    "\n",
    "        P(No|X) = P(Sunny|No)* P(Hot|No) * P(High|No) * P(Strong|No) * P(No)\n",
    "                = 2/5 * 2/5 * 4/5 * 4/5 * 1/2\n",
    "                = 0.0512\n",
    "        P(Yes|X) = P(Sunny|Yes)* P(Hot|Yes) * P(High|Yes) * P(Strong|Yes) * P(Yes)\n",
    "                = 1/5 * 2/5 * 3/5 * 2/5 * 1/2\n",
    "                = 0.0096"
   ]
  },
  {
   "cell_type": "markdown",
   "metadata": {},
   "source": [
    "    3.Sunny, Hot, Normal, Weak\n",
    "\n",
    "        P(No|X) = P(Sunny|No)* P(Hot|No) * P(Normal|No) * P(Weak|No) * P(No)\n",
    "                = 2/5 * 2/5 * 1/5 * 1/5 * 1/2\n",
    "                = 0.0032\n",
    "        P(Yes|X) = P(Sunny|Yes)* P(Hot|Yes) * P(Normal|Yes) * P(Weak|Yes) * P(Yes)\n",
    "                = 1/5 * 2/5 * 2/5 * 3/5 * 1/2\n",
    "                = 0.0096"
   ]
  },
  {
   "cell_type": "markdown",
   "metadata": {},
   "source": [
    "    4.Sunny, Hot, Normal, Strong\n",
    "\n",
    "        P(No|X) = P(Sunny|No)* P(Hot|No) * P(Normal|No) * P(Strong|No) * P(No)\n",
    "                = 2/5 * 2/5 * 4/5 * 1/5 * 1/2\n",
    "                = 0.0128\n",
    "        P(Yes|X) = P(Sunny|Yes)* P(Hot|Yes) * P(Normal|Yes) * P(Strong|Yes) * P(Yes)\n",
    "                = 1/5 * 2/5 * 3/5 * 3/5 * 1/2\n",
    "                = 0.0144"
   ]
  },
  {
   "cell_type": "markdown",
   "metadata": {},
   "source": [
    "    5.Sunny, Mild, High, Weak\n",
    "\n",
    "        P(No|X) = P(Sunny|No)* P(Mild|No) * P(High|No) * P(Weak|No) * P(No)\n",
    "                = 2/5 * 2/5 * 4/5 * 1/5 * 1/2\n",
    "                = 0.0128\n",
    "        P(Yes|X) = P(Sunny|Yes)* P(Mild|Yes) * P(High|Yes) * P(Weak|Yes) * P(Yes)\n",
    "                = 1/5 * 2/5 * 3/5 * 3/5 * 1/2\n",
    "                = 0.0144"
   ]
  },
  {
   "cell_type": "markdown",
   "metadata": {},
   "source": [
    "    6.Sunny, Mild, High, Strong\n",
    "\n",
    "        P(No|X) = P(Sunny|No)* P(Mild|No) * P(High|No) * P(Strong|No) * P(No)\n",
    "                = 2/5 * 2/5 * 4/5 * 1/5 * 1/2\n",
    "                = 0.0128\n",
    "        P(Yes|X) = P(Sunny|Yes)* P(Mild|Yes) * P(High|Yes) * P(Strong|Yes) * P(Yes)\n",
    "                = 1/5 * 2/5 * 3/5 * 3/5 * 1/2\n",
    "                = 0.0144"
   ]
  },
  {
   "cell_type": "markdown",
   "metadata": {},
   "source": [
    "    7.Sunny, Mild, Normal, Weak\n",
    "\n",
    "        P(No|X) = P(Sunny|No)* P(Mild|No) * P(Normal|No) * P(Weak|No) * P(No)\n",
    "                = 2/5 * 2/5 * 1/5 * 1/5 * 1/2\n",
    "                = 0.0032\n",
    "        P(Yes|X) = P(Sunny|Yes)* P(Mild|Yes) * P(Normal|Yes) * P(Weak|Yes) * P(Yes)\n",
    "                = 1/5 * 3/5 * 2/5 * 3/5 * 1/2\n",
    "                = 0.0144"
   ]
  },
  {
   "cell_type": "markdown",
   "metadata": {},
   "source": [
    "    8.Sunny, Mild, Normal, Strong\n",
    "\n",
    "        P(No|X) = P(Sunny|No)* P(Mild|No) * P(Normal|No) * P(Strong|No) * P(No)\n",
    "                = 2/5 * 2/5 * 1/5 * 4/5 * 1/2\n",
    "                = 0.0128\n",
    "        P(Yes|X) = P(Sunny|Yes)* P(Mild|Yes) * P(Normal|Yes) * P(Strong|Yes) * P(Yes)\n",
    "                = 2/5 * 3/5 * 2/5 * 2/5 * 1/2\n",
    "                = 0.0192"
   ]
  },
  {
   "cell_type": "markdown",
   "metadata": {},
   "source": [
    "    9.Sunny, Cool, High, Weak\n",
    "\n",
    "        P(No|X) = P(Sunny|No)* P(Cool|No) * P(High|No) * P(Weak|No) * P(No)\n",
    "                = 2/5 * 1/5 * 4/5 * 1/5 * 1/2\n",
    "                = 0.0064\n",
    "        P(Yes|X) = P(Sunny|Yes)* P(Cool|Yes) * P(High|Yes) * P(Weak|Yes) * P(Yes)\n",
    "                = 1/5 * 0/5 * 3/5 * 3/5 * 1/2\n",
    "                = 0"
   ]
  },
  {
   "cell_type": "markdown",
   "metadata": {},
   "source": [
    "    10.Sunny, Cool, High, Strong\n",
    "\n",
    "        P(No|X) = P(Sunny|No)* P(Cool|No) * P(High|No) * P(Strong|No) * P(No)\n",
    "                = 2/5 * 1/5 * 4/5 * 4/5 * 1/2\n",
    "                = 0.0256\n",
    "        P(Yes|X) = P(Sunny|Yes)* P(Cool|Yes) * P(High|Yes) * P(Strong|Yes) * P(Yes)\n",
    "                = 1/5 * 0/5 * 3/5 * 2/5 * 1/2\n",
    "                = 0"
   ]
  },
  {
   "cell_type": "markdown",
   "metadata": {},
   "source": [
    "    11.Sunny, Cool, Normal, Weak\n",
    "\n",
    "        P(No|X) = P(Sunny|No)* P(Cool|No) * P(Normal|No) * P(Weak|No) * P(No)\n",
    "                = 2/5 * 1/5 * 1/5 * 1/5 * 1/2\n",
    "                = 0.0016\n",
    "        P(Yes|X) = P(Sunny|Yes)* P(Cool|Yes) * P(Normal|Yes) * P(Weak|Yes) * P(Yes)\n",
    "                = 1/5 * 0/5 * 2/5 * 3/5 * 1/2\n",
    "                = 0"
   ]
  },
  {
   "cell_type": "markdown",
   "metadata": {},
   "source": [
    "    12.Sunny, Cool, Normal, Strong\n",
    "\n",
    "        P(No|X) = P(Sunny|No)* P(Cool|No) * P(Normal|No) * P(Strong|No) * P(No)\n",
    "                = 2/5 * 1/5 * 1/5 * 4/5 * 1/2\n",
    "                = 0.0128\n",
    "        P(Yes|X) = P(Sunny|Yes)* P(Cool|Yes) * P(Normal|Yes) * P(Strong|Yes) * P(Yes)\n",
    "                = 1/5 * 0/5 * 2/5 * 2/5 * 1/2\n",
    "                = 0"
   ]
  },
  {
   "cell_type": "markdown",
   "metadata": {},
   "source": [
    "    13.Cloudy, Hot, High, Weak\n",
    "\n",
    "        P(No|X) = P(Cloudy|No)* P(Hot|No) * P(High|No) * P(Weak|No) * P(No)\n",
    "                = 0/5 * 2/5 * 4/5 * 1/5 * 1/2\n",
    "                = 0\n",
    "        P(Yes|X) = P(Cloudy|Yes)* P(Hot|Yes) * P(High|Yes) * P(Weak|Yes) * P(Yes)\n",
    "                = 3/5 * 2/5 * 3/5 * 3/5 * 1/2\n",
    "                = 0.0432"
   ]
  },
  {
   "cell_type": "markdown",
   "metadata": {},
   "source": [
    "    14.Cloudy, Hot, High, Strong\n",
    "\n",
    "        P(No|X) = P(Cloudy|No)* P(Hot|No) * P(High|No) * P(Strong|No) * P(No)\n",
    "                = 0/5 * 2/5 * 4/5 * 4/5 * 1/2\n",
    "                = 0\n",
    "        P(Yes|X) = P(Cloudy|Yes)* P(Hot|Yes) * P(High|Yes) * P(Strong|Yes) * P(Yes)\n",
    "                = 3/5 * 2/5 * 3/5 * 2/5 * 1/2\n",
    "                = 0.0288"
   ]
  },
  {
   "cell_type": "markdown",
   "metadata": {},
   "source": [
    "    15.Cloudy, Hot, Normal, Weak\n",
    "\n",
    "        P(No|X) = P(Cloudy|No)* P(Hot|No) * P(Normal|No) * P(Weak|No) * P(No)\n",
    "                = 0/5 * 2/5 * 1/5 * 1/5 * 1/2\n",
    "                = 0\n",
    "        P(Yes|X) = P(Cloudy|Yes)* P(Hot|Yes) * P(Normal|Yes) * P(Weak|Yes) * P(Yes)\n",
    "                = 3/5 * 2/5 * 2/5 * 3/5 * 1/2\n",
    "                = 0.0288"
   ]
  },
  {
   "cell_type": "markdown",
   "metadata": {},
   "source": [
    "    16.Cloudy, Hot, Normal, Strong \n",
    "\n",
    "        P(No|X) = P(Cloudy|No)* P(Hot|No) * P(Normal|No) * P(Strong|No) * P(No)\n",
    "                = 0/5 * 2/5 * 1/5 * 4/5 * 1/2\n",
    "                = 0\n",
    "        P(Yes|X) = P(Cloudy|Yes)* P(Hot|Yes) * P(Normal|Yes) * P(Strong|Yes) * P(Yes)\n",
    "                = 3/5 * 2/5 * 2/5 * 2/5 * 1/2\n",
    "                = 0.0192"
   ]
  },
  {
   "cell_type": "markdown",
   "metadata": {},
   "source": [
    "    17.Cloudy, Mild, High, Weak\n",
    "\n",
    "        P(No|X) = P(Cloudy|No)* P(Mild|No) * P(High|No) * P(Weak|No) * P(No)\n",
    "                = 0/5 * 2/5 * 4/5 * 1/5 * 1/2\n",
    "                = 0\n",
    "        P(Yes|X) = P(Cloudy|Yes)* P(Mild|Yes) * P(High|Yes) * P(Weak|Yes) * P(Yes)\n",
    "                = 3/5 * 3/5 * 3/5 * 3/5 * 1/2\n",
    "                = 0.0684"
   ]
  },
  {
   "cell_type": "markdown",
   "metadata": {},
   "source": [
    "    18.Cloudy, Mild, High, Strong\n",
    "\n",
    "        P(No|X) = P(Cloudy|No)* P(Mild|No) * P(High|No) * P(Strong|No) * P(No)\n",
    "                = 0/5 * 3/5 * 4/5 * 4/5 * 1/2\n",
    "                = 0\n",
    "        P(Yes|X) = P(Cloudy|Yes)* P(Mild|Yes) * P(High|Yes) * P(Strong|Yes) * P(Yes)\n",
    "                = 3/5 * 3/5 * 3/5 * 2/5 * 1/2\n",
    "                = 0.0432"
   ]
  },
  {
   "cell_type": "markdown",
   "metadata": {},
   "source": [
    "    19.Cloudy, Mild, Normal, Weak\n",
    "\n",
    "        P(No|X) = P(Cloudy|No)* P(Mild|No) * P(Normal|No) * P(Weak|No) * P(No)\n",
    "                = 0/5 * 2/5 * 1/5 * 1/5 * 1/2\n",
    "                = 0\n",
    "        P(Yes|X) = P(Cloudy|Yes)* P(Mild|Yes) * P(Normal|Yes) * P(Weak|Yes) * P(Yes)\n",
    "                = 3/5 * 3/5 * 2/5 * 3/5 * 1/2\n",
    "                = 0.0432"
   ]
  },
  {
   "cell_type": "markdown",
   "metadata": {},
   "source": [
    "    20.Cloudy, Mild, Normal, Strong\n",
    "\n",
    "        P(No|X) = P(Cloudy|No)* P(Mild|No) * P(Normal|No) * P(Strong|No) * P(No)\n",
    "                = 0/5 * 2/5 * 1/5 * 4/5 * 1/2\n",
    "                = 0\n",
    "        P(Yes|X) = P(Cloudy|Yes)* P(Mild|Yes) * P(Normal|Yes) * P(Strong|Yes) * P(Yes)\n",
    "                = 3/5 * 3/5 * 2/5 * 2/5 * 1/2\n",
    "                = 0.0288"
   ]
  },
  {
   "cell_type": "markdown",
   "metadata": {},
   "source": [
    "    21.Cloudy, Cool, High, Weak\n",
    "\n",
    "        P(No|X) = P(Cloudy|No)* P(Cool|No) * P(High|No) * P(Weak|No) * P(No)\n",
    "                = 0/5 * 1/5 * 4/5 * 1/5 * 1/2\n",
    "                = 0\n",
    "        P(Yes|X) = P(Cloudy|Yes)* P(Cool|Yes) * P(High|Yes) * P(Weak|Yes) * P(Yes)\n",
    "                = 3/5 * 0/5 * 3/5 * 3/5 * 1/2\n",
    "                = 0"
   ]
  },
  {
   "cell_type": "markdown",
   "metadata": {},
   "source": [
    "    22.Cloudy, Cool, High, Strong\n",
    "\n",
    "        P(No|X) = P(Cloudy|No)* P(Cool|No) * P(High|No) * P(Strong|No) * P(No)\n",
    "                = 0/5 * 1/5 * 4/5 * 4/5 * 1/2\n",
    "                = 0\n",
    "        P(Yes|X) = P(Cloudy|Yes)* P(Cool|Yes) * P(High|Yes) * P(Strong|Yes) * P(Yes)\n",
    "                = 3/5 * 0/5 * 3/5 * 2/5 * 1/2\n",
    "                = 0"
   ]
  },
  {
   "cell_type": "markdown",
   "metadata": {},
   "source": [
    "    23.Cloudy, Cool, Normal, Weak\n",
    "\n",
    "        P(No|X) = P(Cloudy|No)* P(Cool|No) * P(Normal|No) * P(Weak|No) * P(No)\n",
    "                = 0/5 * 1/5 * 1/5 * 1/5 * 1/2\n",
    "                = 0\n",
    "        P(Yes|X) = P(Cloudy|Yes)* P(Cool|Yes) * P(Normal|Yes) * P(Weak|Yes) * P(Yes)\n",
    "                = 3/5 * 0/5 * 2/5 * 3/5 * 1/2\n",
    "                = 0"
   ]
  },
  {
   "cell_type": "markdown",
   "metadata": {},
   "source": [
    "    24.Cloudy, Cool, Normal, Strong\n",
    "\n",
    "        P(No|X) = P(Cloudy|No)* P(Cool|No) * P(Normal|No) * P(Strong|No) * P(No)\n",
    "                = 0/5 * 1/5 * 1/5 * 4/5 * 1/2\n",
    "                = 0\n",
    "        P(Yes|X) = P(Cloudy|Yes)* P(Cool|Yes) * P(Normal|Yes) * P(Strong|Yes) * P(Yes)\n",
    "                = 3/5 * 0/5 * 2/5 * 2/5 * 1/2\n",
    "                = 0"
   ]
  },
  {
   "cell_type": "markdown",
   "metadata": {},
   "source": [
    "    25.Rainy, Hot, High, Weak\n",
    "\n",
    "        P(No|X) = P(Rainy|No)* P(Hot|No) * P(High|No) * P(Weak|No) * P(No)\n",
    "                = 3/5 * 2/5 * 4/5 * 1/5 * 1/2\n",
    "                = 0.0192\n",
    "        P(Yes|X) = P(Rainy|Yes)* P(Hot|Yes) * P(High|Yes) * P(Weak|Yes) * P(Yes)\n",
    "                = 1/5 * 2/5 * 3/5 * 3/5 * 1/2\n",
    "                = 0.0144"
   ]
  },
  {
   "cell_type": "markdown",
   "metadata": {},
   "source": [
    "    26.Rainy, Hot, High, Strong\n",
    "\n",
    "        P(No|X) = P(Rainy|No)* P(Hot|No) * P(High|No) * P(Strong|No) * P(No)\n",
    "                = 3/5 * 2/5 * 1/5 * 4/5 * 1/2\n",
    "                = 0.0192\n",
    "        P(Yes|X) = P(Rainy|Yes)* P(Hot|Yes) * P(High|Yes) * P(Strong|Yes) * P(Yes)\n",
    "                = 1/5 * 2/5 * 3/5 * 2/5 * 1/2\n",
    "                = 0.0096"
   ]
  },
  {
   "cell_type": "markdown",
   "metadata": {},
   "source": [
    "    27.Rainy, Hot, Normal, Weak\n",
    "\n",
    "        P(No|X) = P(Rainy|No)* P(Hot|No) * P(Normal|No) * P(Weak|No) * P(No)\n",
    "                = 3/5 * 2/5 * 1/5 * 1/5 * 1/2\n",
    "                = 0.0048\n",
    "        P(Yes|X) = P(Rainy|Yes)* P(Hot|Yes) * P(Normal|Yes) * P(Weak|Yes) * P(Yes)\n",
    "                = 1/5 * 2/5 * 2/5 * 3/5 * 1/2\n",
    "                = 0.0096"
   ]
  },
  {
   "cell_type": "markdown",
   "metadata": {},
   "source": [
    "    28.Rainy, Hot, Normal, Strong\n",
    "\n",
    "        P(No|X) = P(Rainy|No)* P(Hot|No) * P(Normal|No) * P(Strong|No) * P(No)\n",
    "                = 3/5 * 2/5 * 1/5 * 4/5 * 1/2\n",
    "                = 0.0192\n",
    "        P(Yes|X) = P(Rainy|Yes)* P(Hot|Yes) * P(Normal|Yes) * P(Strong|Yes) * P(Yes)\n",
    "                = 1/5 * 2/5 * 2/5 * 2/5 * 1/2\n",
    "                = 0.0064"
   ]
  },
  {
   "cell_type": "markdown",
   "metadata": {},
   "source": [
    "    29.Rainy, Mild, High, Weak\n",
    "\n",
    "        P(No|X) = P(Rainy|No)* P(Mild|No) * P(High|No) * P(Weak|No) * P(No)\n",
    "                = 3/5 * 2/5 * 4/5 * 1/5 * 1/2\n",
    "                =0.0192\n",
    "        P(Yes|X) = P(Rainy|Yes)* P(Mild|Yes) * P(High|Yes) * P(Weak|Yes) * P(Yes)\n",
    "                = 1/5 * 3/5 * 3/5 * 3/5 * 1/2\n",
    "                = 0.0216"
   ]
  },
  {
   "cell_type": "markdown",
   "metadata": {},
   "source": [
    "    30.Rainy, Mild, High, Strong\n",
    "\n",
    "        P(No|X) = P(Rainy|No)* P(Mild|No) * P(High|No) * P(Strong|No) * P(No)\n",
    "                = 3/5 * 2/5 * 4/5 * 4/5 * 1/2\n",
    "                = 0.0768\n",
    "        P(Yes|X) = P(Rainy|Yes)* P(Mild|Yes) * P(High|Yes) * P(Strong|Yes) * P(Yes)\n",
    "                = 1/5 * 3/5 * 3/5 * 2/5 * 1/2\n",
    "                = 0.0144"
   ]
  },
  {
   "cell_type": "markdown",
   "metadata": {},
   "source": [
    "    31.Rainy, Mild, Normal, Weak\n",
    "\n",
    "        P(No|X) = P(Rainy|No)* P(Mild|No) * P(Normal|No) * P(Weak|No) * P(No)\n",
    "                = 3/5 * 2/5 * 1/5 * 1/5 * 1/2\n",
    "                = 0.0096\n",
    "        P(Yes|X) = P(Rainy|Yes)* P(Mild|Yes) * P(Normal|Yes) * P(Weak|Yes) * P(Yes)\n",
    "                = 1/5 * 3/5 * 2/5 * 3/5 * 1/2\n",
    "                = 0.0144"
   ]
  },
  {
   "cell_type": "markdown",
   "metadata": {},
   "source": [
    "    32.Rainy, Mild, Normal, Strong\n",
    "\n",
    "        P(No|X) = P(Rainy|No)* P(Mild|No) * P(Normal|No) * P(Strong|No) * P(No)\n",
    "                = 3/5 * 2/5 * 1/5 * 4/5 * 1/2\n",
    "                = 0.0192\n",
    "        P(Yes|X) = P(Rainy|Yes)* P(Mild|Yes) * P(Normal|Yes) * P(Strong|Yes) * P(Yes)\n",
    "                = 1/5 * 3/5 * 2/5 * 2/5 * 1/2\n",
    "                = 0.0096"
   ]
  },
  {
   "cell_type": "markdown",
   "metadata": {},
   "source": [
    "    33.Rainy, Cool, High, Weak\n",
    "\n",
    "    P(No|X) = P(Rainy|No)* P(Cool|No) * P(High|No) * P(Weak|No) * P(No)\n",
    "            = 3/5 * 1/5 * 4/5 * 1/5 * 1/2\n",
    "            = 0.0096\n",
    "    P(Yes|X) = P(Rainy|Yes)* P(Cool|Yes) * P(High|Yes) * P(Weak|Yes) * P(Yes)\n",
    "            = 1/5 * 0/5 * 3/5 * 3/5 * 1/2\n",
    "            = 0"
   ]
  },
  {
   "cell_type": "markdown",
   "metadata": {},
   "source": [
    "    34.Rainy, Cool, High, Strong\n",
    "\n",
    "        P(No|X) = P(Rainy|No)* P(Cool|No) * P(High|No) * P(Strong|No) * P(No)\n",
    "                = 3/5 * 1/5 * 4/5 * 4/5 * 1/2\n",
    "                = 0.0384\n",
    "        P(Yes|X) = P(Rainy|Yes)* P(Cool|Yes) * P(High|Yes) * P(Strong|Yes) * P(Yes)\n",
    "                = 1/5 * 0/5 * 3/5 * 2/5 * 1/2\n",
    "                = 0"
   ]
  },
  {
   "cell_type": "markdown",
   "metadata": {},
   "source": [
    "    35.Rainy, Cool, Normal, Weak\n",
    "\n",
    "        P(No|X) = P(Rainy|No)* P(Cool|No) * P(Normal|No) * P(Weak|No) * P(No)\n",
    "                = 3/5 * 1/5 * 1/5 * 1/5 * 1/2\n",
    "                = 0.0024\n",
    "        P(Yes|X) = P(Rainy|Yes)* P(Cool|Yes) * P(Normal|Yes) * P(Weak|Yes) * P(Yes)\n",
    "                = 1/5 * 0/5 * 2/5 * 3/5 * 1/2\n",
    "                = 0"
   ]
  },
  {
   "cell_type": "markdown",
   "metadata": {},
   "source": [
    "    36.Rainy, Cool, Normal, Strong\n",
    "\n",
    "        P(No|X) = P(Rainy|No)* P(Cool|No) * P(Normal|No) * P(Strong|No) * P(No)\n",
    "                = 3/5 * 1/5 * 1/5 * 4/5 * 1/2\n",
    "                = 0.0096\n",
    "        P(Yes|X) = P(Rainy|Yes)* P(Cool|Yes) * P(Normal|Yes) * P(Strong|Yes) * P(Yes)\n",
    "                = 1/5 * 0/5 * 2/5 * 2/5 * 1/2\n",
    "                = 0"
   ]
  }
 ],
 "metadata": {
  "language_info": {
   "name": "python"
  },
  "orig_nbformat": 4
 },
 "nbformat": 4,
 "nbformat_minor": 2
}
