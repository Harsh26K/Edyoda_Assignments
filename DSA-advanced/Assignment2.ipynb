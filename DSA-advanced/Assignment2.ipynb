{
 "cells": [
  {
   "attachments": {},
   "cell_type": "markdown",
   "metadata": {},
   "source": [
    "Q1. Implement Binary Search"
   ]
  },
  {
   "cell_type": "code",
   "execution_count": 4,
   "metadata": {},
   "outputs": [
    {
     "name": "stdout",
     "output_type": "stream",
     "text": [
      "position of 64 in [2, 4, 12, 25, 37, 64, 100] is 5\n"
     ]
    }
   ],
   "source": [
    "def BinarySearch(arr,start,end,num):\n",
    "    mid = start+(end-start)//2\n",
    "\n",
    "    if start > end:\n",
    "        return 'Not Found'\n",
    "    else:\n",
    "        if num == arr[mid]:\n",
    "            return mid\n",
    "        elif num < arr[mid]:\n",
    "            return BinarySearch(arr,start,mid,num)\n",
    "        elif num > arr[mid]:\n",
    "            return BinarySearch(arr,mid+1,end,num)\n",
    "\n",
    "arr = [2,4,12,25,37,64,100]\n",
    "# arr = [int(x) for x in input('Enter sorted arr(comma-separated):').split(',')]\n",
    "num = int(input('Enter num to search:'))\n",
    "start = 0\n",
    "end = len(arr)-1\n",
    "res = BinarySearch(arr,start,end,num)\n",
    "print('position of',num,'in',arr,'is',res)"
   ]
  },
  {
   "attachments": {},
   "cell_type": "markdown",
   "metadata": {},
   "source": [
    "Q2. Implement Merge Sort"
   ]
  },
  {
   "cell_type": "code",
   "execution_count": 5,
   "metadata": {},
   "outputs": [
    {
     "name": "stdout",
     "output_type": "stream",
     "text": [
      "Given array is [12, 11, 13, 5, 6, 7]\n",
      "Sorted array is:  [5, 6, 7, 11, 12, 13]\n"
     ]
    }
   ],
   "source": [
    "def mergeSort(arr):\n",
    "    if len(arr) > 1:\n",
    "        # Finding the mid of the array\n",
    "        mid = len(arr)//2\n",
    "\n",
    "        # Dividing the array elements\n",
    "        # into 2 halves\n",
    "        L = arr[:mid]\n",
    "        R = arr[mid:]\n",
    "\n",
    "        # Sorting the first half\n",
    "        mergeSort(L)\n",
    "\n",
    "        # Sorting the second half\n",
    "        mergeSort(R)\n",
    "\n",
    "        i = j = k = 0\n",
    "        # merge two lists\n",
    "        while i < len(L) and j < len(R):\n",
    "            if L[i] <= R[j]:\n",
    "                arr[k] = L[i]\n",
    "                i += 1\n",
    "            else:\n",
    "                arr[k] = R[j]\n",
    "                j += 1\n",
    "            k += 1\n",
    "        # Checking if any element was left\n",
    "        while i < len(L):\n",
    "            arr[k] = L[i]\n",
    "            i += 1\n",
    "            k += 1\n",
    "        while j < len(R):\n",
    "            arr[k] = R[j]\n",
    "            j += 1\n",
    "            k += 1\n",
    "    return arr\n",
    "\n",
    "arr = [12, 11, 13, 5, 6, 7]\n",
    "# arr = [int(x) for x in input('Enter arr(comma-separated):').split(',')]\n",
    "print(\"Given array is\",arr, end=\"\\n\")\n",
    "print(\"Sorted array is: \", mergeSort(arr),end=\"\\n\")"
   ]
  },
  {
   "attachments": {},
   "cell_type": "markdown",
   "metadata": {},
   "source": [
    "Q3. Implement Quick Sort"
   ]
  },
  {
   "cell_type": "code",
   "execution_count": 6,
   "metadata": {},
   "outputs": [
    {
     "name": "stdout",
     "output_type": "stream",
     "text": [
      "Unsorted Array\n",
      "[8, 7, 2, 1, 0, 9, 6]\n",
      "Sorted Array in Ascending Order:\n",
      "[0, 1, 2, 6, 7, 8, 9]\n"
     ]
    }
   ],
   "source": [
    "def partition(arr,low,high):\n",
    "    pivot = arr[high]\n",
    "    i= low-1\n",
    "    for j in range(low,high):\n",
    "        if arr[j] <= pivot:\n",
    "            i +=1\n",
    "            arr[i],arr[j] = arr[j],arr[i]\n",
    "    arr[i+1],arr[high] = arr[high],arr[i+1]\n",
    "    return i+1\n",
    "\n",
    "def quicksort(arr,low,high):\n",
    "    if low < high:\n",
    "        pi = partition(arr,low,high)\n",
    "        quicksort(arr,low,pi-1)\n",
    "        quicksort(arr,pi+1,high)\n",
    "\n",
    "arr = [8, 7, 2, 1, 0, 9, 6]\n",
    "# arr = [int(x) for x in input('Enter arr(comma-separated):').split(',')]\n",
    "print(\"Unsorted Array\")\n",
    "print(arr)\n",
    "\n",
    "size = len(arr)\n",
    "quicksort(arr, 0, size - 1)\n",
    "print('Sorted Array in Ascending Order:')\n",
    "print(arr)"
   ]
  },
  {
   "attachments": {},
   "cell_type": "markdown",
   "metadata": {},
   "source": [
    "Q4. Implement Insertion Sort"
   ]
  },
  {
   "cell_type": "code",
   "execution_count": 7,
   "metadata": {},
   "outputs": [
    {
     "name": "stdout",
     "output_type": "stream",
     "text": [
      "Unsorted array:\n",
      "[3, 4, 1, 2, 7, 9, 6, 5]\n",
      "after insertion sort:\n",
      "[1, 2, 3, 4, 5, 6, 7, 9]\n"
     ]
    }
   ],
   "source": [
    "def insertionSort(arr):\n",
    "    for step in range(1,len(arr)):\n",
    "        key = arr[step]\n",
    "        j = step-1\n",
    "        while j >=0 and arr[j] > key:\n",
    "            arr[j+1] = arr[j]\n",
    "            j = j-1\n",
    "        arr[j+1] = key\n",
    "\n",
    "arr = [3,4,1,2,7,9,6,5]\n",
    "# arr = [int(x) for x in input('Enter Array(comma-separated):').split(',')]\n",
    "print('Unsorted array:')\n",
    "print(arr)\n",
    "print('after insertion sort:')\n",
    "insertionSort(arr)\n",
    "print(arr)"
   ]
  },
  {
   "attachments": {},
   "cell_type": "markdown",
   "metadata": {},
   "source": [
    "Q5. Write a program to sort list of strings (similar to that of dictionary)"
   ]
  },
  {
   "cell_type": "code",
   "execution_count": 9,
   "metadata": {},
   "outputs": [
    {
     "name": "stdout",
     "output_type": "stream",
     "text": [
      "Sorted List of strings:\n",
      "['123', '45C', 'apple', 'banana', 'grapes', 'guava', 'papaya', 'pinapple', 'strawberry']\n"
     ]
    }
   ],
   "source": [
    "arr = ['strawberry','pinapple','apple','grapes','banana','guava','papaya','123','45C']\n",
    "size = len(arr)\n",
    "print('Sorted List of strings:')\n",
    "quicksort(arr,0,size-1)\n",
    "print(arr)"
   ]
  }
 ],
 "metadata": {
  "kernelspec": {
   "display_name": "base",
   "language": "python",
   "name": "python3"
  },
  "language_info": {
   "codemirror_mode": {
    "name": "ipython",
    "version": 3
   },
   "file_extension": ".py",
   "mimetype": "text/x-python",
   "name": "python",
   "nbconvert_exporter": "python",
   "pygments_lexer": "ipython3",
   "version": "3.8.5"
  },
  "orig_nbformat": 4
 },
 "nbformat": 4,
 "nbformat_minor": 2
}
