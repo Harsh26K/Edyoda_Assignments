{
 "cells": [
  {
   "attachments": {},
   "cell_type": "markdown",
   "metadata": {},
   "source": [
    "Q1. Implement Binary tree"
   ]
  },
  {
   "cell_type": "code",
   "execution_count": 2,
   "metadata": {},
   "outputs": [],
   "source": [
    "class Node:\n",
    "    def __init__(self,data):\n",
    "        self.data = data\n",
    "        self.left = None\n",
    "        self.right = None"
   ]
  },
  {
   "cell_type": "code",
   "execution_count": 13,
   "metadata": {},
   "outputs": [
    {
     "name": "stdout",
     "output_type": "stream",
     "text": [
      "1 -->2 -->4 -->8 -->5 -->3 -->6 -->7 -->"
     ]
    }
   ],
   "source": [
    "def display(root:Node):\n",
    "    if root:\n",
    "        print(root.data,'-->',end='')\n",
    "        display(root.left)\n",
    "        display(root.right)\n",
    "\n",
    "root = Node(1)                      #                       1\n",
    "root.left = Node(2)                 #                 2           3\n",
    "root.right = Node(3)                #             4       5    6     7\n",
    "root.left.left = Node(4)            #         8\n",
    "root.left.right = Node(5)           \n",
    "root.right.left = Node(6)           \n",
    "root.right.right = Node(7)          \n",
    "root.left.left.left = Node(8)       \n",
    "display(root)"
   ]
  },
  {
   "attachments": {},
   "cell_type": "markdown",
   "metadata": {},
   "source": [
    "Q2. Find height of a given tree"
   ]
  },
  {
   "cell_type": "code",
   "execution_count": 3,
   "metadata": {},
   "outputs": [
    {
     "name": "stdout",
     "output_type": "stream",
     "text": [
      "Height of the tree is: 3\n"
     ]
    }
   ],
   "source": [
    "def maxDepth(node:Node):\n",
    "    if node is None:\n",
    "        return 0\n",
    "    else:\n",
    "        ldepth = maxDepth(node.left)\n",
    "        rdepth = maxDepth(node.right)\n",
    "        if ldepth>rdepth:\n",
    "            return ldepth+1\n",
    "        else:\n",
    "            return rdepth+1\n",
    "root = Node(1)\n",
    "root.left = Node(2)\n",
    "root.right = Node(3)\n",
    "root.left.left = Node(4)\n",
    "root.left.right = Node(5)\n",
    "\n",
    "print('Height of the tree is:',maxDepth(root))"
   ]
  },
  {
   "attachments": {},
   "cell_type": "markdown",
   "metadata": {},
   "source": [
    "Q3. Perform Pre-order, Post-order, In-order traversal"
   ]
  },
  {
   "cell_type": "code",
   "execution_count": 4,
   "metadata": {},
   "outputs": [
    {
     "name": "stdout",
     "output_type": "stream",
     "text": [
      "Preorder:\n",
      "1 -->2 -->4 -->5 -->3 -->\n",
      "Postorder:\n",
      "4 -->5 -->2 -->3 -->1 -->\n",
      "Inorder:\n",
      "4 -->2 -->5 -->1 -->3 -->"
     ]
    }
   ],
   "source": [
    "def Preorder(root:Node):\n",
    "    if root:\n",
    "        print(root.data,'-->',end='')\n",
    "        Preorder(root.left)\n",
    "        Preorder(root.right)\n",
    "\n",
    "def Postorder(root):\n",
    "    if root:\n",
    "        Postorder(root.left)\n",
    "        Postorder(root.right)\n",
    "        print(root.data,'-->',end='')\n",
    "\n",
    "def Inorder(root):\n",
    "    if root:\n",
    "        Inorder(root.left)\n",
    "        print(root.data,'-->',end='')\n",
    "        Inorder(root.right)\n",
    "\n",
    "root = Node(1)\n",
    "root.left = Node(2)\n",
    "root.right = Node(3)\n",
    "root.left.left = Node(4)\n",
    "root.left.right = Node(5)\n",
    "\n",
    "print('Preorder:')\n",
    "Preorder(root)\n",
    "print('\\nPostorder:')\n",
    "Postorder(root)\n",
    "print('\\nInorder:')\n",
    "Inorder(root)"
   ]
  },
  {
   "attachments": {},
   "cell_type": "markdown",
   "metadata": {},
   "source": [
    "Q4. Function to print all the leaves in a given binary tree"
   ]
  },
  {
   "cell_type": "code",
   "execution_count": 5,
   "metadata": {},
   "outputs": [
    {
     "name": "stdout",
     "output_type": "stream",
     "text": [
      "leaf nodes in the tree are:\n",
      "4 5 3 "
     ]
    }
   ],
   "source": [
    "def leafNodes(root:Node):\n",
    "    if not root:\n",
    "        return\n",
    "    \n",
    "    if not root.left and not root.right:\n",
    "        print(root.data,end=' ')\n",
    "    \n",
    "    if root.left:\n",
    "        leafNodes(root.left)\n",
    "\n",
    "    if root.right:\n",
    "        leafNodes(root.right)\n",
    "\n",
    "root = Node(1)\n",
    "root.left = Node(2)\n",
    "root.right = Node(3)\n",
    "root.left.left = Node(4)\n",
    "root.left.right = Node(5)\n",
    "\n",
    "print('leaf nodes in the tree are:')\n",
    "leafNodes(root)"
   ]
  },
  {
   "attachments": {},
   "cell_type": "markdown",
   "metadata": {},
   "source": [
    "Q5. Implement BFS (Breath First Search) and DFS (Depth First Search)"
   ]
  },
  {
   "cell_type": "code",
   "execution_count": 4,
   "metadata": {},
   "outputs": [
    {
     "name": "stdout",
     "output_type": "stream",
     "text": [
      "BFS:\n",
      "5 -->12 -->7 -->18 -->69 -->4 -->13 -->\n",
      "DFS\n",
      "5 -->12 -->18 -->4 -->13 -->7 -->69 -->"
     ]
    }
   ],
   "source": [
    "from collections import deque\n",
    "def bfs(root:Node):\n",
    "    q = deque()\n",
    "    q.appendleft(root)\n",
    "    while(len(q) != 0):\n",
    "        temp = q[0]\n",
    "        print(temp.data,'-->',end='')\n",
    "        q.popleft()\n",
    "        if temp.left:\n",
    "            q.append(temp.left)\n",
    "        if temp.right:\n",
    "            q.append(temp.right)\n",
    "\n",
    "def dfs(root:Node):\n",
    "    # Preorder\n",
    "    if root:\n",
    "        print(root.data,'-->',end='')\n",
    "        dfs(root.left)\n",
    "        dfs(root.right)\n",
    "\n",
    "root = Node(5)                          #           5\n",
    "root.left = Node(12)                    #       12      7\n",
    "root.right = Node(7)                    #     18          69\n",
    "root.left.left = Node(18)               #   4    13\n",
    "root.left.left.left = Node(4)           \n",
    "root.left.left.right = Node(13)         \n",
    "root.right.right = Node(69)             \n",
    "\n",
    "print('BFS:')\n",
    "bfs(root)\n",
    "print('\\nDFS')\n",
    "dfs(root)"
   ]
  },
  {
   "attachments": {},
   "cell_type": "markdown",
   "metadata": {},
   "source": [
    "Q6. Find sum of all left leaves in a given Binary Tree"
   ]
  },
  {
   "cell_type": "code",
   "execution_count": 6,
   "metadata": {},
   "outputs": [
    {
     "name": "stdout",
     "output_type": "stream",
     "text": [
      "sum of leaf nodes in the tree: 12\n"
     ]
    }
   ],
   "source": [
    "sum=0\n",
    "def leafNodes(root:Node):\n",
    "    global sum\n",
    "    if not root:\n",
    "        return\n",
    "    \n",
    "    if not root.left and not root.right:\n",
    "        sum += root.data\n",
    "    \n",
    "    if root.left:\n",
    "        leafNodes(root.left)\n",
    "\n",
    "    if root.right:\n",
    "        leafNodes(root.right)\n",
    "\n",
    "root = Node(1)\n",
    "root.left = Node(2)\n",
    "root.right = Node(3)\n",
    "root.left.left = Node(4)\n",
    "root.left.right = Node(5)\n",
    "\n",
    "leafNodes(root)\n",
    "print('sum of leaf nodes in the tree:',sum)"
   ]
  },
  {
   "attachments": {},
   "cell_type": "markdown",
   "metadata": {},
   "source": [
    "Q7. Find sum of all nodes of the given perfect binary tree"
   ]
  },
  {
   "cell_type": "code",
   "execution_count": 10,
   "metadata": {},
   "outputs": [
    {
     "name": "stdout",
     "output_type": "stream",
     "text": [
      "sum of all nodes: 28\n"
     ]
    }
   ],
   "source": [
    "sum = 0\n",
    "def sumNodes(root:Node):\n",
    "    global sum\n",
    "    if root:\n",
    "        sum += root.data\n",
    "        sumNodes(root.left)\n",
    "        sumNodes(root.right)\n",
    "\n",
    "root = Node(1)                      #                   1\n",
    "root.left = Node(2)                 #           2               3\n",
    "root.right = Node(3)                #       4       5        6      7\n",
    "root.left.left = Node(4)            \n",
    "root.left.right = Node(5)           \n",
    "root.right.left = Node(6)           \n",
    "root.right.right = Node(7)          \n",
    "\n",
    "sumNodes(root)\n",
    "print('sum of all nodes:',sum)"
   ]
  },
  {
   "attachments": {},
   "cell_type": "markdown",
   "metadata": {},
   "source": [
    "Q8. Count subtress that sum up to a given value x in a binary tree"
   ]
  },
  {
   "cell_type": "code",
   "execution_count": 21,
   "metadata": {},
   "outputs": [
    {
     "name": "stdout",
     "output_type": "stream",
     "text": [
      "subtrees with sum 7 are :2\n"
     ]
    }
   ],
   "source": [
    "def countSubtreesWithSumX(root, count, x):\n",
    "    if (not root):\n",
    "        return 0\n",
    "    ls = countSubtreesWithSumX(root.left,count, x)\n",
    "    rs = countSubtreesWithSumX(root.right,count, x)\n",
    "\n",
    "    Sum = ls + rs + root.data\n",
    "\n",
    "    if (Sum == x):\n",
    "        count[0] += 1\n",
    "    return Sum\n",
    "\n",
    "def countSubtreesWithSumXUtil(root, x):\n",
    "    if (not root):\n",
    "        return 0\n",
    "    count = [0]\n",
    "\n",
    "    ls = countSubtreesWithSumX(root.left,count, x)\n",
    "    rs = countSubtreesWithSumX(root.right,count, x)\n",
    "    \n",
    "    if ((ls + rs + root.data) == x):\n",
    "        count[0] += 1\n",
    "    \n",
    "    return count[0]\n",
    "\n",
    "root = Node(5)\n",
    "root.left = Node(-10)\n",
    "root.right = Node(3)\n",
    "root.left.left = Node(9)\n",
    "root.left.right = Node(8)\n",
    "root.right.left = Node(-4)\n",
    "root.right.right = Node(7)\n",
    "\n",
    "sum = int(input('Enter sum to be found:'))\n",
    "print(f'subtrees with sum {sum} are :{countSubtreesWithSumXUtil(root,sum)}')"
   ]
  },
  {
   "attachments": {},
   "cell_type": "markdown",
   "metadata": {},
   "source": [
    "Q9. Find maximum level sum in Binary Tree"
   ]
  },
  {
   "cell_type": "code",
   "execution_count": 13,
   "metadata": {},
   "outputs": [
    {
     "name": "stdout",
     "output_type": "stream",
     "text": [
      "Max level sum: 17\n"
     ]
    }
   ],
   "source": [
    "from collections import deque\n",
    "\n",
    "def maxLevelSum(root:Node):\n",
    "    if not root:\n",
    "        return 0\n",
    "    \n",
    "    q = deque()\n",
    "    max_sum = root.data\n",
    "    q.append(root)\n",
    "\n",
    "    while(len(q)>0):\n",
    "        count = len(q)\n",
    "        sum=0\n",
    "        while(count>0):\n",
    "            temp = q.popleft()\n",
    "            sum = sum + temp.data\n",
    "            if temp.left != None:\n",
    "                q.append(temp.left)\n",
    "            if temp.right != None:\n",
    "                q.append(temp.right)\n",
    "            count -=1\n",
    "        max_sum = max(sum,max_sum)\n",
    "    return max_sum\n",
    "\n",
    "root = Node(1)                      #                   1\n",
    "root.left = Node(2)                 #           /               \\\n",
    "root.right = Node(3)                #          2                 3\n",
    "root.left.left = Node(4)            #       /     \\               \\\n",
    "root.left.right = Node(5)           #      4       5               8\n",
    "root.right.right = Node(8)          #                           /     \\\n",
    "root.right.right.left = Node(6)     #                          6       7\n",
    "root.right.right.right = Node(7)    #\n",
    "\n",
    "print('Max level sum:',maxLevelSum(root))"
   ]
  },
  {
   "attachments": {},
   "cell_type": "markdown",
   "metadata": {},
   "source": [
    "Q10. Print the nodes at odd levels of a tree"
   ]
  },
  {
   "cell_type": "code",
   "execution_count": 16,
   "metadata": {},
   "outputs": [
    {
     "name": "stdout",
     "output_type": "stream",
     "text": [
      "\n",
      "level 1 :\n",
      "2 3 \n",
      "level 3 :\n",
      "6 7 "
     ]
    }
   ],
   "source": [
    "from collections import deque\n",
    "\n",
    "def oddLevelNodes(root:Node):\n",
    "    if not root:\n",
    "        return\n",
    "    level = 0\n",
    "    q = deque()\n",
    "    q.append(root)\n",
    "    while(len(q)>0):\n",
    "        cnt = len(q)\n",
    "        if level%2 ==1:\n",
    "            print('\\nlevel',level,':')\n",
    "        while(cnt>0):\n",
    "            temp = q.popleft()\n",
    "            if level%2 ==1:\n",
    "                print(temp.data,end=' ')\n",
    "            if temp.left != None:\n",
    "                q.append(temp.left)\n",
    "            if temp.right != None:\n",
    "                q.append(temp.right)\n",
    "            cnt-=1\n",
    "        level +=1\n",
    "\n",
    "root = Node(1)                      #                   1\n",
    "root.left = Node(2)                 #           /               \\\n",
    "root.right = Node(3)                #          2                 3\n",
    "root.left.left = Node(4)            #       /     \\                \\\n",
    "root.left.right = Node(5)           #      4       5                8\n",
    "root.right.right = Node(8)          #                             /   \\\n",
    "root.right.right.left = Node(6)     #                            6     7\n",
    "root.right.right.right = Node(7) \n",
    "\n",
    "oddLevelNodes(root)"
   ]
  }
 ],
 "metadata": {
  "kernelspec": {
   "display_name": "base",
   "language": "python",
   "name": "python3"
  },
  "language_info": {
   "codemirror_mode": {
    "name": "ipython",
    "version": 3
   },
   "file_extension": ".py",
   "mimetype": "text/x-python",
   "name": "python",
   "nbconvert_exporter": "python",
   "pygments_lexer": "ipython3",
   "version": "3.8.5"
  },
  "orig_nbformat": 4
 },
 "nbformat": 4,
 "nbformat_minor": 2
}
