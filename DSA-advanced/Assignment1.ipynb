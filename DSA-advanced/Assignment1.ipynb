{
 "cells": [
  {
   "attachments": {},
   "cell_type": "markdown",
   "metadata": {},
   "source": [
    "Q1. Delete the elements in an linked list whose sum is equal to zero"
   ]
  },
  {
   "cell_type": "code",
   "execution_count": 6,
   "metadata": {},
   "outputs": [
    {
     "name": "stdout",
     "output_type": "stream",
     "text": [
      "Original List:\n",
      "1 --> 2 --> 3 --> -5 --> 6 --> 7 --> 8 --> 9\n",
      "Updated List:\n",
      "1 --> 6 --> 7 --> 8 --> 9\n"
     ]
    }
   ],
   "source": [
    "class Node:\n",
    "    def __init__(self, data):\n",
    "        self.data = data\n",
    "        self.next = None\n",
    "\n",
    "class LinkedList:\n",
    "    def __init__(self):\n",
    "        self.head = None\n",
    "\n",
    "    def push(self, new_data):\n",
    "        new_node = Node(new_data)\n",
    "        new_node.next = self.head\n",
    "        self.head = new_node\n",
    "\n",
    "    def printList(self):\n",
    "        current = self.head\n",
    "        while(current.next is not None):\n",
    "            print(current.data,'-->',end =' ')\n",
    "            current = current.next\n",
    "        print(current.data)\n",
    "    \n",
    "def removeZeroSum(head, K):\n",
    "    root = Node(0)\n",
    "    root.next = head\n",
    "    umap = dict()\n",
    "    umap[0] = root\n",
    "    sum = 0\n",
    "    while (head != None):\n",
    "        sum += head.data\n",
    "        if ((sum - K) in umap):\n",
    "            prev = umap[sum - K]\n",
    "            start = prev\n",
    "            aux = sum\n",
    "            sum = sum - K\n",
    "            while (prev != head):\n",
    "                prev = prev.next\n",
    "                aux += prev.data\n",
    "                if (prev != head):\n",
    "                    del umap[aux]\n",
    "            start.next = head.next\n",
    "        else:\n",
    "            umap[sum] = head\n",
    "        head = head.next\n",
    "    return root.next\n",
    "\n",
    "llist = LinkedList()\n",
    "llist.push(9)\n",
    "llist.push(8)\n",
    "llist.push(7)\n",
    "llist.push(6)\n",
    "llist.push(-5)\n",
    "llist.push(3)\n",
    "llist.push(2)\n",
    "llist.push(1)\n",
    "\n",
    "print('Original List:')\n",
    "llist.printList()\n",
    "head = removeZeroSum(llist.head, 0)\n",
    "print('Updated List:')\n",
    "if(head != None):\n",
    "    llist.printList()"
   ]
  },
  {
   "attachments": {},
   "cell_type": "markdown",
   "metadata": {},
   "source": [
    "Q2. Reverse a linked list in groups of given size"
   ]
  },
  {
   "cell_type": "code",
   "execution_count": 4,
   "metadata": {},
   "outputs": [
    {
     "name": "stdout",
     "output_type": "stream",
     "text": [
      "Given linked list\n",
      "1 2 3 4 5 6 7 8 9 \n",
      "Reversed Linked list\n",
      "3 2 1 6 5 4 9 8 7 "
     ]
    }
   ],
   "source": [
    "class Node:\n",
    "    def __init__(self, data):\n",
    "        self.data = data\n",
    "        self.next = None\n",
    "\n",
    "class LinkedList:\n",
    "    def __init__(self):\n",
    "        self.head = None\n",
    "\n",
    "    def reverse(self, head, k):\n",
    "        if head == None:\n",
    "            return None\n",
    "        \n",
    "        current = head\n",
    "        next = None\n",
    "        prev = None\n",
    "        count = 0\n",
    "\n",
    "        while(current is not None and count < k):\n",
    "            next = current.next\n",
    "            current.next = prev\n",
    "            prev = current\n",
    "            current = next\n",
    "            count += 1\n",
    "\n",
    "        if next is not None:\n",
    "            head.next = self.reverse(next, k)\n",
    "\n",
    "        return prev\n",
    "\n",
    "    def push(self, new_data):\n",
    "        new_node = Node(new_data)\n",
    "        new_node.next = self.head\n",
    "        self.head = new_node\n",
    "\n",
    "    def printList(self):\n",
    "        temp = self.head\n",
    "        while(temp):\n",
    "            print(temp.data,end=' ')\n",
    "            temp = temp.next\n",
    "\n",
    "# Driver program\n",
    "llist = LinkedList()\n",
    "llist.push(9)\n",
    "llist.push(8)\n",
    "llist.push(7)\n",
    "llist.push(6)\n",
    "llist.push(5)\n",
    "llist.push(4)\n",
    "llist.push(3)\n",
    "llist.push(2)\n",
    "llist.push(1)\n",
    "\n",
    "k = int(input('Enter size of group to be reversed:'))\n",
    "\n",
    "print(\"Given linked list\")\n",
    "llist.printList()\n",
    "llist.head = llist.reverse(llist.head, k)\n",
    "\n",
    "print (\"\\nReversed Linked list\")\n",
    "llist.printList()"
   ]
  },
  {
   "attachments": {},
   "cell_type": "markdown",
   "metadata": {},
   "source": [
    "Q3. Merge a linked list into another linked list at alternate positions."
   ]
  },
  {
   "cell_type": "code",
   "execution_count": 8,
   "metadata": {},
   "outputs": [
    {
     "name": "stdout",
     "output_type": "stream",
     "text": [
      "ll1:\n",
      "5 --> 4 --> 3 --> 2 --> 1\n",
      "ll2:\n",
      "70 --> 60 --> 50 --> 40 --> 30 --> 20 --> 10\n",
      "After Merging Two Lists:\n",
      "5 --> 70 --> 4 --> 60 --> 3 --> 50 --> 2 --> 40 --> 1 --> 30\n"
     ]
    }
   ],
   "source": [
    "class Node:\n",
    "    def __init__(self,data):\n",
    "        self.data = data\n",
    "        self.next = None\n",
    "\n",
    "class LinkedList:\n",
    "    def __init__(self):\n",
    "        self.head = None\n",
    "\n",
    "    def push(self, new_data):\n",
    "        new_node = Node(new_data)\n",
    "        new_node.next = self.head\n",
    "        self.head = new_node\n",
    "    \n",
    "    def display(self):\n",
    "        current = self.head\n",
    "        while(current.next is not None):\n",
    "            print(current.data,'-->',end =' ')\n",
    "            current = current.next\n",
    "        print(current.data)\n",
    "\n",
    "    def merge(self, ll1, ll2):\n",
    "        ll1_curr = ll1.head\n",
    "        ll2_curr = ll2.head\n",
    "\n",
    "        # swap their positions until one finishes off\n",
    "        while ll1_curr != None and ll2_curr != None:\n",
    "            p_next = ll1_curr.next\n",
    "            q_next = ll2_curr.next\n",
    "            ll2_curr.next = p_next  \n",
    "            ll1_curr.next = ll2_curr \n",
    "            ll1_curr = p_next\n",
    "            ll2_curr = q_next\n",
    "            ll2.head = ll2_curr\n",
    "\n",
    "ll1 = LinkedList()\n",
    "ll1.push(1)\n",
    "ll1.push(2)\n",
    "ll1.push(3)\n",
    "ll1.push(4)\n",
    "ll1.push(5)\n",
    "print('ll1:')\n",
    "ll1.display()\n",
    "\n",
    "ll2 = LinkedList()\n",
    "ll2.push(10)\n",
    "ll2.push(20)\n",
    "ll2.push(30)\n",
    "ll2.push(40)\n",
    "ll2.push(50)\n",
    "ll2.push(60)\n",
    "ll2.push(70)\n",
    "print('ll2:')\n",
    "ll2.display()\n",
    "print('After Merging Two Lists:')\n",
    "ll1.merge(ll1,ll2)\n",
    "ll1.display()"
   ]
  },
  {
   "attachments": {},
   "cell_type": "markdown",
   "metadata": {},
   "source": [
    "Q4. In an array, Count Pairs with given sum"
   ]
  },
  {
   "cell_type": "code",
   "execution_count": 5,
   "metadata": {},
   "outputs": [
    {
     "name": "stdout",
     "output_type": "stream",
     "text": [
      "There are 3 pairs with 6 in [2, 1, 5, 7, -1, 4]\n"
     ]
    }
   ],
   "source": [
    "def find_pairs(arr,sum):\n",
    "    pairs = 0\n",
    "    for i in range(len(arr)):\n",
    "        cnt = arr[i:].count(sum-arr[i])\n",
    "        if cnt > 0:\n",
    "            pairs += cnt\n",
    "    return pairs\n",
    "\n",
    "arr = [int(x) for x in input('Enter List(comma-separated):').split(',')]\n",
    "sum = int(input('Enter Sum to find:'))\n",
    "print(f'There are {find_pairs(arr,sum)} pairs with {sum} in {arr}')"
   ]
  },
  {
   "attachments": {},
   "cell_type": "markdown",
   "metadata": {},
   "source": [
    "Q5. Find duplicates in an array"
   ]
  },
  {
   "cell_type": "code",
   "execution_count": 3,
   "metadata": {},
   "outputs": [
    {
     "name": "stdout",
     "output_type": "stream",
     "text": [
      "['1', '2', '3', '6']\n"
     ]
    }
   ],
   "source": [
    "def find_duplicates(arr):\n",
    "    d = {}\n",
    "    for i in arr:\n",
    "        if i not in d:\n",
    "            d[i] = 1\n",
    "        else:\n",
    "            d[i] +=1\n",
    "    duplicates = []\n",
    "    for i in d:\n",
    "        if d[i] >1:\n",
    "            duplicates.append(i)\n",
    "    return duplicates\n",
    "\n",
    "lst = [x for x in input('Enter list(comma-separated):').split(',')]\n",
    "print(find_duplicates(lst))"
   ]
  },
  {
   "attachments": {},
   "cell_type": "markdown",
   "metadata": {},
   "source": [
    "Q6. Find the Kth largest and Kth smallest number in an array"
   ]
  },
  {
   "cell_type": "code",
   "execution_count": 36,
   "metadata": {},
   "outputs": [
    {
     "name": "stdout",
     "output_type": "stream",
     "text": [
      "5th smallest and largest numbers in [5, 3, 2, 6, 1, 4] are 5 and 2 resp.\n"
     ]
    }
   ],
   "source": [
    "def kth_smallest_and_largest(lst,k):\n",
    "    if k > len(lst):\n",
    "        return \"doesn't exist\",\"doesn't exist\"\n",
    "    \n",
    "    lst = sorted(lst)\n",
    "    return lst[k-1],lst[-k]    \n",
    "\n",
    "# lst1 = [5,3,2,6,1,4]\n",
    "lst1 = [int(x) for x in input('Enter list(comma-separated):').split((','))]\n",
    "k = int(input('Enter value of K:'))\n",
    "kth_smallest,kth_largest = kth_smallest_and_largest(lst1,k)\n",
    "print(f'{k}th smallest and largest numbers in {lst1} are {kth_smallest} and {kth_largest} resp.')"
   ]
  },
  {
   "attachments": {},
   "cell_type": "markdown",
   "metadata": {},
   "source": [
    "Q7. Move all the negative elements to one side of the array"
   ]
  },
  {
   "cell_type": "code",
   "execution_count": 19,
   "metadata": {},
   "outputs": [
    {
     "name": "stdout",
     "output_type": "stream",
     "text": [
      "Original Array: [1, 2, -3, -4, 5, -6, 7, -8, -9, 0]\n",
      "Array with negative numbers on one side: [-3, -4, -6, -8, -9, 1, 7, 2, 5, 0]\n"
     ]
    }
   ],
   "source": [
    "def func(arr):\n",
    "    neg_index = 0\n",
    "    for i in range(len(arr)):\n",
    "        if arr[i] <0:\n",
    "            if i > neg_index:\n",
    "                arr[i],arr[neg_index] = arr[neg_index],arr[i]\n",
    "            neg_index+=1\n",
    "    return arr\n",
    "\n",
    "arr = [int(x) for x in input('Enter array(comma-separated):').split(',')]\n",
    "print('Original Array:',arr)\n",
    "# 1,2,-3,-4,5,-6,7,-8,-9,0\n",
    "print('Array with negative numbers on one side:',func(arr))"
   ]
  },
  {
   "attachments": {},
   "cell_type": "markdown",
   "metadata": {},
   "source": [
    "Q8. Reverse a string using a stack data structure"
   ]
  },
  {
   "cell_type": "code",
   "execution_count": 21,
   "metadata": {},
   "outputs": [
    {
     "name": "stdout",
     "output_type": "stream",
     "text": [
      "original string: reversemeusingstack\n",
      "after reversing: kcatsgnisuemesrever\n"
     ]
    }
   ],
   "source": [
    "class Stack:\n",
    "    def __init__(self):\n",
    "        self.arr = []\n",
    "    \n",
    "    def push(self,value):\n",
    "        self.arr.append(value)\n",
    "    \n",
    "    def pop(self):\n",
    "        return self.arr.pop()\n",
    "    \n",
    "def revString(s):\n",
    "    st = Stack()\n",
    "    for i in s:\n",
    "        st.push(i)\n",
    "    reverse = ''\n",
    "    while(len(st.arr)):\n",
    "        temp = st.pop()\n",
    "        reverse += temp\n",
    "    return reverse\n",
    "\n",
    "s = input('Enter String:')\n",
    "print('original string:',s)\n",
    "print('after reversing:',revString(s))"
   ]
  },
  {
   "attachments": {},
   "cell_type": "markdown",
   "metadata": {},
   "source": [
    "Q9. Evaluate a postfix expression using stack"
   ]
  },
  {
   "cell_type": "code",
   "execution_count": 17,
   "metadata": {},
   "outputs": [
    {
     "name": "stdout",
     "output_type": "stream",
     "text": [
      "postfix expression : AB+CD-*\n",
      "evaluation: A+B*C-D\n"
     ]
    }
   ],
   "source": [
    "class Stack:\n",
    "    def __init__(self):\n",
    "        self.arr = []\n",
    "    \n",
    "    def push(self,value):\n",
    "        self.arr.append(value)\n",
    "    \n",
    "    def pop(self):\n",
    "        return self.arr.pop()\n",
    "\n",
    "def postfixEval(s):\n",
    "    st = Stack()\n",
    "    for i in s:\n",
    "        if i not in ['+','-','*','/']:\n",
    "            st.push(i)\n",
    "        else:\n",
    "            p1 = st.pop()\n",
    "            p2 = st.pop()\n",
    "            exp = p2 + i + p1\n",
    "            st.push(exp)\n",
    "    res = st.pop()\n",
    "    return res\n",
    "s = input('Enter postfix Expression:')\n",
    "print('postfix expression :',s)\n",
    "print('evaluation:',postfixEval(s))"
   ]
  },
  {
   "attachments": {},
   "cell_type": "markdown",
   "metadata": {},
   "source": [
    "Q10. Implement a queue using the stack data structure"
   ]
  },
  {
   "cell_type": "code",
   "execution_count": 13,
   "metadata": {},
   "outputs": [
    {
     "name": "stdout",
     "output_type": "stream",
     "text": [
      "no element present\n",
      "Queue is : 1 2 3\n",
      "Dequeued : 1\n",
      "Queue is : 2 3\n"
     ]
    }
   ],
   "source": [
    "class Stack:\n",
    "    def __init__(self):\n",
    "        self.arr = []\n",
    "    \n",
    "    def push(self,value):\n",
    "        self.arr.append(value)\n",
    "    \n",
    "    def pop(self):\n",
    "        return self.arr.pop()\n",
    "\n",
    "class Queue:\n",
    "    def __init__(self,s1,s2):\n",
    "        self.s1 = s1\n",
    "        self.s2 = s2\n",
    "\n",
    "    def enqueue(self,value):\n",
    "        self.s1.push(value)\n",
    "\n",
    "    def dequeue(self):\n",
    "        if len(self.s1.arr) == 0:\n",
    "            print('no element present')\n",
    "            return\n",
    "        while len(self.s1.arr):\n",
    "            temp = self.s1.pop()\n",
    "            self.s2.push(temp)\n",
    "        print('Dequeued :',self.s2.pop())\n",
    "        while len(self.s2.arr) != 0:\n",
    "            temp = self.s2.pop()\n",
    "            self.s1.push(temp)\n",
    "    \n",
    "    def display(self):\n",
    "        print('Queue is :',end=' ')\n",
    "        for i in range(len(self.s1.arr)-1):\n",
    "            print(self.s1.arr[i],end=' ')\n",
    "        print(self.s1.arr[-1])\n",
    "\n",
    "s1 = Stack()\n",
    "s2 = Stack()\n",
    "\n",
    "q = Queue(s1,s2)\n",
    "\n",
    "q.dequeue()\n",
    "\n",
    "q.enqueue(1)\n",
    "q.enqueue(2)\n",
    "q.enqueue(3)\n",
    "q.display()\n",
    "q.dequeue()\n",
    "q.display()"
   ]
  }
 ],
 "metadata": {
  "kernelspec": {
   "display_name": "base",
   "language": "python",
   "name": "python3"
  },
  "language_info": {
   "codemirror_mode": {
    "name": "ipython",
    "version": 3
   },
   "file_extension": ".py",
   "mimetype": "text/x-python",
   "name": "python",
   "nbconvert_exporter": "python",
   "pygments_lexer": "ipython3",
   "version": "3.8.5"
  },
  "orig_nbformat": 4
 },
 "nbformat": 4,
 "nbformat_minor": 2
}
