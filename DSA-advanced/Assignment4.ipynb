{
 "cells": [
  {
   "attachments": {},
   "cell_type": "markdown",
   "metadata": {},
   "source": [
    "Q1 Breadth First Traversal for a Graph"
   ]
  },
  {
   "cell_type": "code",
   "execution_count": 1,
   "metadata": {},
   "outputs": [
    {
     "name": "stdout",
     "output_type": "stream",
     "text": [
      "bfs traversal:\n",
      "[0, 2, 3, 1, 5, 4]\n"
     ]
    }
   ],
   "source": [
    "def bfsTraversal(V,adj):\n",
    "    traverse = []\n",
    "    visited = [False]*V\n",
    "    for i in range(V):\n",
    "        if visited[i] == False:\n",
    "            q = []\n",
    "            visited[i] = True\n",
    "            q.append(i)\n",
    "\n",
    "            while(len(q)>0):\n",
    "                node = q.pop(0)\n",
    "                traverse.append(node)\n",
    "                for j in adj[node]:\n",
    "                    if visited[j] == False:\n",
    "                        visited[j] = True\n",
    "                        q.append(j)\n",
    "    return traverse\n",
    "\n",
    "# Graph\n",
    "# 0 ------ 2\n",
    "# |        |\n",
    "# |        |\n",
    "# |        |\n",
    "# 3        1      \n",
    "#  \\        \\\n",
    "#   \\        4\n",
    "#    \\      /\n",
    "#     \\    /\n",
    "#        5\n",
    "V = 6\n",
    "adj_list = [\n",
    "    [2,3],    # adjcency list of 0\n",
    "    [2,4],    # adjacency list of 1\n",
    "    [0,1],    # adjacency list of 2\n",
    "    [0,5],    # adjacency list of 3\n",
    "    [1,5],    # adjacency list of 4\n",
    "    [3,4]     # adjacency list of 5\n",
    "] \n",
    "print('bfs traversal:')\n",
    "print(bfsTraversal(V,adj_list))"
   ]
  },
  {
   "attachments": {},
   "cell_type": "markdown",
   "metadata": {},
   "source": [
    "Q2 Depth First Traversal for a Graph"
   ]
  },
  {
   "cell_type": "code",
   "execution_count": 2,
   "metadata": {},
   "outputs": [
    {
     "name": "stdout",
     "output_type": "stream",
     "text": [
      "Depth First Traversal:\n",
      "0 1 2 3 "
     ]
    }
   ],
   "source": [
    "from collections import defaultdict\n",
    "class Graph:\n",
    "    def __init__(self):\n",
    "        self.graph = defaultdict(list)\n",
    "    \n",
    "    def addEdge(self,u,v):\n",
    "        self.graph[u].append(v)\n",
    "    \n",
    "    def dfsUtil(self,vertex,visited):\n",
    "        visited.add(vertex)\n",
    "        print(vertex,end=' ')\n",
    "\n",
    "        for neighbour in self.graph[vertex]:\n",
    "            if neighbour not in visited:\n",
    "                self.dfsUtil(neighbour,visited)\n",
    "    \n",
    "    def dfs(self):\n",
    "        visited = set()\n",
    "\n",
    "        for vertex in self.graph:\n",
    "            if vertex not in visited:\n",
    "                self.dfsUtil(vertex,visited)\n",
    "\n",
    "g = Graph()\n",
    "g.addEdge(0, 1)\n",
    "g.addEdge(0, 2)\n",
    "g.addEdge(1, 2)\n",
    "g.addEdge(2, 0)\n",
    "g.addEdge(2, 3)\n",
    "g.addEdge(3, 3)\n",
    "\n",
    "print('Depth First Traversal:')\n",
    "g.dfs()"
   ]
  },
  {
   "attachments": {},
   "cell_type": "markdown",
   "metadata": {},
   "source": [
    "Q3 Count the number of nodes at given level in a tree using BFS"
   ]
  },
  {
   "cell_type": "code",
   "execution_count": 4,
   "metadata": {},
   "outputs": [],
   "source": [
    "class Node:\n",
    "    def __init__(self,data):\n",
    "        self.data = data\n",
    "        self.left = None\n",
    "        self.right = None"
   ]
  },
  {
   "cell_type": "code",
   "execution_count": 6,
   "metadata": {},
   "outputs": [
    {
     "name": "stdout",
     "output_type": "stream",
     "text": [
      "level 0 : 1\n",
      "level 1 : 2\n",
      "level 2 : 3\n",
      "level 3 : 2\n"
     ]
    }
   ],
   "source": [
    "from collections import deque\n",
    "def nodesAtLevel(root:Node):\n",
    "    if not root:\n",
    "        return\n",
    "    cnt_list = []\n",
    "    q = deque()\n",
    "    q.append(root)\n",
    "    while(len(q) > 0):\n",
    "        cnt = len(q)\n",
    "        cnt_list.append(cnt)\n",
    "        while(cnt > 0):\n",
    "            temp = q.popleft()\n",
    "            if temp.left != None:\n",
    "                q.append(temp.left)\n",
    "            if temp.right != None:\n",
    "                q.append(temp.right)\n",
    "            cnt -=1\n",
    "    return cnt_list\n",
    "\n",
    "root = Node(1)                      #                   1\n",
    "root.left = Node(2)                 #           /               \\\n",
    "root.right = Node(3)                #          2                 3\n",
    "root.left.left = Node(4)            #       /     \\                \\\n",
    "root.left.right = Node(5)           #      4       5                8\n",
    "root.right.right = Node(8)          #                             /   \\\n",
    "root.right.right.left = Node(6)     #                            6     7\n",
    "root.right.right.right = Node(7)\n",
    "\n",
    "cnt_list = nodesAtLevel(root)\n",
    "for i in range(len(cnt_list)):\n",
    "    print('level',i,':',cnt_list[i])"
   ]
  },
  {
   "attachments": {},
   "cell_type": "markdown",
   "metadata": {},
   "source": [
    "Q4 Count number of trees in a forest"
   ]
  },
  {
   "cell_type": "code",
   "execution_count": 2,
   "metadata": {},
   "outputs": [
    {
     "name": "stdout",
     "output_type": "stream",
     "text": [
      "No of trees in forest:  3\n"
     ]
    }
   ],
   "source": [
    "def addEdge(adj,u,v):\n",
    "    adj[u].append(v)\n",
    "    adj[v].append(u)\n",
    "\n",
    "def dfsUtil(vertex,adj,visited):\n",
    "    visited[vertex] = True\n",
    "\n",
    "    for i in range(len(adj[vertex])):\n",
    "        if visited[adj[vertex][i]] == False:\n",
    "            dfsUtil(adj[vertex][i],adj,visited)\n",
    "\n",
    "def countTrees(adj,V):\n",
    "    visited = [False]*V\n",
    "    cnt = 0\n",
    "    for u in range(V):\n",
    "        if visited[u] == False:\n",
    "            dfsUtil(u,adj,visited)\n",
    "            cnt +=1\n",
    "    return cnt\n",
    "\n",
    "V = 11\n",
    "adj = [[] for i in range(V)]\n",
    "addEdge(adj, 0, 1)          #     0        3             7\n",
    "addEdge(adj, 0, 2)          #    / \\      / \\           / \\\n",
    "addEdge(adj, 3, 4)          #   1   2    4   5         8   9\n",
    "addEdge(adj, 3, 5)          #                 \\       /\n",
    "addEdge(adj, 5, 6)          #                  6     10\n",
    "addEdge(adj, 7, 8)          \n",
    "addEdge(adj, 7, 9)          \n",
    "addEdge(adj, 8, 10)         \n",
    "print('No of trees in forest: ',countTrees(adj, V))"
   ]
  },
  {
   "attachments": {},
   "cell_type": "markdown",
   "metadata": {},
   "source": [
    "Q5 Detect Cycle in a Directed Graph"
   ]
  },
  {
   "cell_type": "code",
   "execution_count": 3,
   "metadata": {},
   "outputs": [
    {
     "name": "stdout",
     "output_type": "stream",
     "text": [
      "Graph contains cycle\n"
     ]
    }
   ],
   "source": [
    "from collections import defaultdict\n",
    "class Graph:\n",
    "    def __init__(self,vertices):\n",
    "        self.graph = defaultdict(list)\n",
    "        self.V = vertices\n",
    "    \n",
    "    def addEdge(self,u,v):\n",
    "        self.graph[u].append(v)\n",
    "    \n",
    "    def isCycleUtil(self,vertex,visited,recstack):\n",
    "\n",
    "        visited[vertex] = True\n",
    "        recstack[vertex] = True\n",
    "\n",
    "        for neighbour in self.graph[vertex]:\n",
    "            if visited[neighbour] == False:\n",
    "                if self.isCycleUtil(neighbour,visited,recstack) == True:\n",
    "                    return True\n",
    "            elif recstack[neighbour] == True:\n",
    "                return True\n",
    "        recstack[vertex] = False\n",
    "        return False\n",
    "\n",
    "    def isCycle(self):\n",
    "\n",
    "        visited = [False]*(self.V + 1)\n",
    "        recstack = [False]*(self.V + 1)\n",
    "\n",
    "        for i in range(self.V):\n",
    "            if visited[i] == False:\n",
    "                if self.isCycleUtil(i,visited,recstack) == True:\n",
    "                    return True\n",
    "\n",
    "        return False\n",
    "\n",
    "# graph contains cycle as 0 --> 1 --> 2 --> 0\n",
    "g = Graph(4)\n",
    "g.addEdge(0, 1)\n",
    "g.addEdge(0, 2)\n",
    "g.addEdge(1, 2)\n",
    "g.addEdge(2, 0)\n",
    "g.addEdge(2, 3)\n",
    "g.addEdge(3, 3)\n",
    "\n",
    "# graph doesnot contain cycle\n",
    "# g = Graph(5)\n",
    "# g.addEdge(0, 1)\n",
    "# g.addEdge(0, 2)\n",
    "# g.addEdge(1, 2)\n",
    "# g.addEdge(2, 3)\n",
    "# g.addEdge(2, 4)\n",
    "\n",
    "if g.isCycle() == 1:\n",
    "    print(\"Graph contains cycle\")\n",
    "else:\n",
    "    print(\"Graph doesn't contain cycle\")\n"
   ]
  }
 ],
 "metadata": {
  "kernelspec": {
   "display_name": "base",
   "language": "python",
   "name": "python3"
  },
  "language_info": {
   "codemirror_mode": {
    "name": "ipython",
    "version": 3
   },
   "file_extension": ".py",
   "mimetype": "text/x-python",
   "name": "python",
   "nbconvert_exporter": "python",
   "pygments_lexer": "ipython3",
   "version": "3.8.5"
  },
  "orig_nbformat": 4
 },
 "nbformat": 4,
 "nbformat_minor": 2
}
