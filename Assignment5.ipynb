{
 "cells": [
  {
   "attachments": {},
   "cell_type": "markdown",
   "metadata": {},
   "source": [
    "Challenge 1: Square Numbers and Return Their Sum"
   ]
  },
  {
   "cell_type": "code",
   "execution_count": 1,
   "metadata": {},
   "outputs": [
    {
     "data": {
      "text/plain": [
       "35"
      ]
     },
     "execution_count": 1,
     "metadata": {},
     "output_type": "execute_result"
    }
   ],
   "source": [
    "class Point:\n",
    "\n",
    "    def __init__(self,x,y,z):\n",
    "        self.x = x\n",
    "        self.y = y\n",
    "        self.z = z\n",
    "\n",
    "    def sqSum(self):\n",
    "        x_sq = self.x*self.x\n",
    "        y_sq = self.y*self.y\n",
    "        z_sq = self.z*self.z\n",
    "        sum =  x_sq + y_sq + z_sq\n",
    "        return sum\n",
    "\n",
    "point1 = Point(1,3,5)\n",
    "point1.sqSum()"
   ]
  },
  {
   "attachments": {},
   "cell_type": "markdown",
   "metadata": {},
   "source": [
    "Challenge 2: Implement a Calculator class"
   ]
  },
  {
   "cell_type": "code",
   "execution_count": 3,
   "metadata": {},
   "outputs": [
    {
     "name": "stdout",
     "output_type": "stream",
     "text": [
      "104\n",
      "84\n",
      "940\n",
      "9.4\n"
     ]
    }
   ],
   "source": [
    "class Calculator:\n",
    "\n",
    "    def __init__(self,x,y):\n",
    "        self.x = x\n",
    "        self.y = y\n",
    "    def add(self):\n",
    "        addition = self.x + self.y\n",
    "        return addition\n",
    "    \n",
    "    def subtract(self):\n",
    "        # subtraction = self.x - self.y\n",
    "        subtraction = self.x-self.y if self.x>self.y else self.y-self.x\n",
    "        return subtraction\n",
    "    \n",
    "    def multiply(self):\n",
    "        multiplication = self.x*self.y\n",
    "        return multiplication\n",
    "    \n",
    "    def divide(self):\n",
    "        # division = self.x/self.y\n",
    "        division = self.y/self.x\n",
    "        return division\n",
    "\n",
    "obj = Calculator(10, 94)\n",
    "print(obj.add())\n",
    "print(obj.subtract())\n",
    "print(obj.multiply())\n",
    "print(obj.divide())"
   ]
  },
  {
   "attachments": {},
   "cell_type": "markdown",
   "metadata": {},
   "source": [
    "Challenge 3: Implement a Complete Student Class"
   ]
  },
  {
   "cell_type": "code",
   "execution_count": 4,
   "metadata": {},
   "outputs": [
    {
     "name": "stdout",
     "output_type": "stream",
     "text": [
      "Harsh\n",
      "34\n"
     ]
    }
   ],
   "source": [
    "class Student:\n",
    "    __name = None\n",
    "    __rollNumber = None\n",
    "\n",
    "    def setName(self,name):\n",
    "        self.__name = name\n",
    "    def getName(self):\n",
    "        return self.__name\n",
    "    def setRollNumber(self,rollno):\n",
    "        self.__rollNumber = rollno\n",
    "    def getRollNumber(self):\n",
    "        return self.__rollNumber\n",
    "\n",
    "student1 = Student()\n",
    "student1.setName('Harsh')\n",
    "student1.setRollNumber(34)\n",
    "print(student1.getName())\n",
    "print(student1.getRollNumber())"
   ]
  },
  {
   "attachments": {},
   "cell_type": "markdown",
   "metadata": {},
   "source": [
    "Challenge 4: Implementing a Bank Account"
   ]
  },
  {
   "cell_type": "code",
   "execution_count": 7,
   "metadata": {},
   "outputs": [
    {
     "name": "stdout",
     "output_type": "stream",
     "text": [
      "account.title: Harsh\n",
      "account.balance: 10000\n",
      "savingsAccount.title: Harsh\n",
      "savingsAccount.balance: 20000\n",
      "savingsAccount.interestRate: 5\n"
     ]
    }
   ],
   "source": [
    "class Account:\n",
    "    def __init__(self,title=None,balance=0):\n",
    "        # write your code here\n",
    "        self.title = title\n",
    "        self.balance = balance\n",
    "\n",
    "class SavingsAccount(Account):\n",
    "\n",
    "    def __init__(self,title,balance,interestRate):\n",
    "        # write your code here\n",
    "        super().__init__(title,balance)\n",
    "        self.interestRate = interestRate\n",
    "\n",
    "account = Account('Harsh',10000)\n",
    "savingsAccount = SavingsAccount('Harsh',20000,5)\n",
    "print(f'account.title: {account.title}\\n\\\n",
    "account.balance: {account.balance}')\n",
    "\n",
    "print(f'savingsAccount.title: {savingsAccount.title}\\n\\\n",
    "savingsAccount.balance: {savingsAccount.balance}\\n\\\n",
    "savingsAccount.interestRate: {savingsAccount.interestRate}')"
   ]
  },
  {
   "attachments": {},
   "cell_type": "markdown",
   "metadata": {},
   "source": [
    "challenge 5:"
   ]
  },
  {
   "cell_type": "code",
   "execution_count": 10,
   "metadata": {},
   "outputs": [
    {
     "name": "stdout",
     "output_type": "stream",
     "text": [
      "balance available: 2000\n",
      "After depositing 3000 balance: 5000 \n",
      "After withdrawing 1500 balance: 3500 \n",
      "interset amount on 3500 with 5% : 175.0\n"
     ]
    }
   ],
   "source": [
    "class Account:\n",
    "    def __init__(self, title=None, balance=0):\n",
    "        self.title = title\n",
    "        self.balance = balance\n",
    "    \n",
    "    def withdrawal(self, amount):\n",
    "        if self.balance >= amount:\n",
    "            self.balance = self.balance - amount\n",
    "        # else:\n",
    "        #     print('Insufficient balance')\n",
    "\n",
    "    def deposit(self, amount):\n",
    "        if amount > 0:\n",
    "            self.balance = self.balance + amount\n",
    "        # else:\n",
    "        #     print('insert correct amount')\n",
    "\n",
    "    def getBalance(self):\n",
    "        return self.balance\n",
    "\n",
    "class SavingsAccount(Account):\n",
    "    def __init__(self, title=None, balance=0, interestRate=0):\n",
    "            super().__init__(title, balance)\n",
    "            self.interestRate = interestRate\n",
    "    \n",
    "    def interestAmount(self):\n",
    "        return self.balance*self.interestRate/100\n",
    "\n",
    "#code to test - do not edit this\n",
    "\n",
    "demo1 = SavingsAccount(\"Ashish\", 2000, 5)   # initializing a SavingsAccount object\n",
    "deposit = 3000\n",
    "withdraw = 1500\n",
    "print(f'balance available: {demo1.getBalance()}')\n",
    "demo1.deposit(deposit)\n",
    "print(f'After depositing {deposit} balance: {demo1.getBalance()} ')\n",
    "demo1.withdrawal(withdraw)\n",
    "print(f'After withdrawing {withdraw} balance: {demo1.getBalance()} ')\n",
    "print(f'interset amount on {demo1.getBalance()} with {demo1.interestRate}% : {demo1.interestAmount()}')\n"
   ]
  }
 ],
 "metadata": {
  "kernelspec": {
   "display_name": "base",
   "language": "python",
   "name": "python3"
  },
  "language_info": {
   "codemirror_mode": {
    "name": "ipython",
    "version": 3
   },
   "file_extension": ".py",
   "mimetype": "text/x-python",
   "name": "python",
   "nbconvert_exporter": "python",
   "pygments_lexer": "ipython3",
   "version": "3.8.5"
  },
  "orig_nbformat": 4
 },
 "nbformat": 4,
 "nbformat_minor": 2
}
