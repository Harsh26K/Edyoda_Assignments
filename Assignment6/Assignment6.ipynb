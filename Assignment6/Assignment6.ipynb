{
 "cells": [
  {
   "attachments": {},
   "cell_type": "markdown",
   "metadata": {},
   "source": [
    "1. Create a JSON file (employee.json) containing employee information of minimum 5 employees. Each employee information consists of Name, DOB, Height, City, State. Write a python program that reads this information from the JSON file and saves the information into a list of objects of Employee class. Finally print the list of the Employee objects.\n",
    "2. Create a dictionary of any 7 Indian states and their capitals. Write this into a JSON file."
   ]
  },
  {
   "cell_type": "code",
   "execution_count": 24,
   "metadata": {},
   "outputs": [
    {
     "data": {
      "text/plain": [
       "[<__main__.Employee at 0x2038c030040>,\n",
       " <__main__.Employee at 0x2038ccbd580>,\n",
       " <__main__.Employee at 0x2038ccc1c40>,\n",
       " <__main__.Employee at 0x2038c02b640>,\n",
       " <__main__.Employee at 0x2038c02b820>]"
      ]
     },
     "execution_count": 24,
     "metadata": {},
     "output_type": "execute_result"
    }
   ],
   "source": [
    "import json\n",
    "#1\n",
    "class Employee:\n",
    "    def __init__(self,name,dob,height,city,state):\n",
    "        self.name = name\n",
    "        self.dob =dob\n",
    "        self.height = height\n",
    "        self.city = city\n",
    "        self.state = state\n",
    "\n",
    "employees = {\n",
    "    'employee1':{'Name':'Jethalal Gada','DOB':'19/07/1970','Height':'5\\'7\\\"','City':'Bhachau','State':'Gujarat'},\n",
    "    'employee2':{'Name':'Krishnan Iyer','DOB':'20/07/1970','Height':'5\\'8\\\"','City':'Chennai','State':'Tamilnadu'},\n",
    "    'employee3':{'Name':'Aatmaram Bhide','DOB':'21/07/1970','Height':'5\\'10\\\"','City':'Ratnagiri','State':'Maharashtra'},\n",
    "    'employee4':{'Name':'Roshan Singh Sodhi','DOB':'22/07/1970','Height':'6\\'','City':'Jalandhar','State':'Punjab'},\n",
    "    'employee5':{'Name':'Babita Iyer','DOB':'06/08/1971','Height':'5\\'11\\\"','City':'Kolaka','State':'West Bengal'}\n",
    "            }\n",
    "with open('employees.json','w') as file:\n",
    "    json.dump(employees,file)\n",
    "\n",
    "with open('employees.json') as file:\n",
    "    employees = json.load(file)\n",
    "\n",
    "employee_objs = []\n",
    "for i in range(1,len(employees)+1):\n",
    "    k = 'employee'+str(i)\n",
    "    k = Employee(employees[k]['Name'],employees[k]['DOB'],\n",
    "                employees[k]['Height'],employees[k]['City'],\n",
    "                employees[k]['State'])\n",
    "    employee_objs.append(k)\n",
    "\n",
    "employee_objs\n",
    "# for i in range(0,len(employee_objs)):\n",
    "#     print('employee',i+1,':')\n",
    "#     print('Name:',employee_objs[i].name)\n",
    "#     print('DOB:',employee_objs[i].dob)\n",
    "#     print('Height:',employee_objs[i].height)\n",
    "#     print('City:',employee_objs[i].city)\n",
    "#     print('State:',employee_objs[i].state)\n",
    "    # print(i)"
   ]
  },
  {
   "cell_type": "code",
   "execution_count": 9,
   "metadata": {},
   "outputs": [
    {
     "data": {
      "text/plain": [
       "{'India': 'New Delhi',\n",
       " 'South Korea': 'Seoul',\n",
       " 'China': 'Beijing',\n",
       " 'England': 'London',\n",
       " 'Spain': 'Madrid',\n",
       " 'France': 'Paris',\n",
       " 'Italy': 'Rome'}"
      ]
     },
     "execution_count": 9,
     "metadata": {},
     "output_type": "execute_result"
    }
   ],
   "source": [
    "#2\n",
    "import json\n",
    "d = {'India':'New Delhi','South Korea':'Seoul','China':'Beijing',\n",
    "    'England':'London','Spain':'Madrid','France':'Paris','Italy':'Rome'}\n",
    "\n",
    "with open('CountryCapitals.json','w') as file:\n",
    "    json.dump(d,file)\n",
    "\n",
    "with open('CountryCapitals.json') as file:\n",
    "    data = json.load(file)\n",
    "data"
   ]
  },
  {
   "attachments": {},
   "cell_type": "markdown",
   "metadata": {},
   "source": [
    "Create a class named ‘Dog’. It should have a constructor which accepts its name, age and coat color. You must perform the following operations:\n",
    "\n",
    "1. It should have a function ‘description()’ which prints the name and age of the dog.\n",
    "2. It should have a function ‘get_info()’ which prints the coat color of the dog.\n",
    "3. Create child classes ‘JackRussellTerrier’ and ‘Bulldog’ which is inherited from the class ‘Dog’. It should have at least two methods of its own.\n",
    "4. Create objects and implement the above functionalities."
   ]
  },
  {
   "cell_type": "code",
   "execution_count": 10,
   "metadata": {},
   "outputs": [],
   "source": [
    "class Dog:\n",
    "    def __init__(self,name,age,coatColor):\n",
    "        self.name = name\n",
    "        self.age = age\n",
    "        self.coatColor = coatColor\n",
    "    #1\n",
    "    def description(self):\n",
    "        print(f'{self.name} is {self.age} years old')\n",
    "    #2\n",
    "    def get_info(self):\n",
    "        print(f'{self.name} has {self.coatColor} coat color')"
   ]
  },
  {
   "cell_type": "code",
   "execution_count": 11,
   "metadata": {},
   "outputs": [],
   "source": [
    "#3\n",
    "class JackRussellTerrier(Dog):\n",
    "    def description(self,height,weight):\n",
    "        super().description()\n",
    "        print(f'{self.name} is {height} cm tall and weighs {weight} kg')\n",
    "    \n",
    "    def origin(self):\n",
    "        print(f'{self.name} is a Jack Russell Terrier which is an English breed small terrier')\n",
    "\n",
    "class Bulldog(Dog):\n",
    "    def get_info(self):\n",
    "        super().get_info()\n",
    "        print('He is a male and very friendly')\n",
    "    \n",
    "    def origin(self):\n",
    "        print(f'{self.name} is a Bulldog which is an English breed of mastiff type')"
   ]
  },
  {
   "cell_type": "code",
   "execution_count": 12,
   "metadata": {},
   "outputs": [
    {
     "name": "stdout",
     "output_type": "stream",
     "text": [
      "Mike :\n",
      "Mike is 9 years old\n",
      "Mike is 20 cm tall and weighs 5 kg\n",
      "Mike has White and Tan coat color\n",
      "Mike is a Jack Russell Terrier which is an English breed small terrier\n",
      "\n",
      "\n",
      "Rocky :\n",
      "Rocky is 6 years old\n",
      "Rocky has Red Brindle coat color\n",
      "He is a male and very friendly\n",
      "Rocky is a Bulldog which is an English breed of mastiff type\n"
     ]
    }
   ],
   "source": [
    "#4\n",
    "jrt = JackRussellTerrier('Mike',9,'White and Tan')\n",
    "print(jrt.name,':')\n",
    "jrt.description(20,5)\n",
    "jrt.get_info()\n",
    "jrt.origin()\n",
    "print('\\n')\n",
    "\n",
    "bulldog = Bulldog('Rocky',6,'Red Brindle')\n",
    "print(bulldog.name,':')\n",
    "bulldog.description()\n",
    "bulldog.get_info()\n",
    "bulldog.origin()"
   ]
  }
 ],
 "metadata": {
  "kernelspec": {
   "display_name": "base",
   "language": "python",
   "name": "python3"
  },
  "language_info": {
   "codemirror_mode": {
    "name": "ipython",
    "version": 3
   },
   "file_extension": ".py",
   "mimetype": "text/x-python",
   "name": "python",
   "nbconvert_exporter": "python",
   "pygments_lexer": "ipython3",
   "version": "3.8.5"
  },
  "orig_nbformat": 4
 },
 "nbformat": 4,
 "nbformat_minor": 2
}
