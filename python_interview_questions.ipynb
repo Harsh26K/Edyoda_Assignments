{
 "cells": [
  {
   "attachments": {},
   "cell_type": "markdown",
   "metadata": {
    "slideshow": {
     "slide_type": "slide"
    }
   },
   "source": [
    "Q1. What are the key features of Python?"
   ]
  },
  {
   "attachments": {},
   "cell_type": "markdown",
   "metadata": {
    "slideshow": {
     "slide_type": "subslide"
    }
   },
   "source": [
    "    If it makes for an introductory language to programming, Python must mean something. \n",
    "    These are its qualities:\n",
    "\n",
    "        Interpreted\n",
    "        Dynamically-typed\n",
    "        Object-oriented\n",
    "        Concise and simple\n",
    "        Free\n",
    "        Has a large community"
   ]
  },
  {
   "attachments": {},
   "cell_type": "markdown",
   "metadata": {},
   "source": [
    "Q2. How do you get a list of all the keys in a dictionary?"
   ]
  },
  {
   "attachments": {},
   "cell_type": "markdown",
   "metadata": {},
   "source": [
    "        Be specific in these type of Python Interview Questions and Answers.\n",
    "\n",
    "        For this, we use the function keys().\n",
    "\n",
    "        >>> mydict={'a':1,'b':2,'c':3,'e':5}\n",
    "        >>> mydict.keys()\n",
    "        dict_keys([‘a’, ‘b’, ‘c’, ‘e’])\n"
   ]
  },
  {
   "attachments": {},
   "cell_type": "markdown",
   "metadata": {},
   "source": [
    "Q3. What is slicing?"
   ]
  },
  {
   "attachments": {},
   "cell_type": "markdown",
   "metadata": {},
   "source": [
    "        Slicing is a technique that allows us to retrieve only a part of a list, tuple, or string. For this, we use the slicing operator [].\n",
    "\n",
    "        >>> (1,2,3,4,5)[2:4]\n",
    "        (3, 4)\n",
    "\n",
    "        >>> [7,6,8,5,9][2:]\n",
    "        [8, 5, 9]\n",
    "\n",
    "        >>> 'Hello'[:-1]\n",
    "        ‘Hell’"
   ]
  },
  {
   "attachments": {},
   "cell_type": "markdown",
   "metadata": {},
   "source": [
    "Q4. How will you convert a list into a string?"
   ]
  },
  {
   "attachments": {},
   "cell_type": "markdown",
   "metadata": {},
   "source": [
    "        We will use the join() method for this.\n",
    "\n",
    "        >>> nums=['one','two','three','four','five','six','seven']\n",
    "        >>> s=' '.join(nums)\n",
    "        >>> s\n",
    "        ‘one two three four five six seven’"
   ]
  },
  {
   "attachments": {},
   "cell_type": "markdown",
   "metadata": {},
   "source": [
    "Q5. Explain logical operators in Python."
   ]
  },
  {
   "attachments": {},
   "cell_type": "markdown",
   "metadata": {},
   "source": [
    "        We have three logical operators- and, or, not.\n",
    "\n",
    "        >>> False and True\n",
    "        False\n",
    "\n",
    "        >>> 7<7 or True\n",
    "        True\n",
    "\n",
    "        >>> not 2==2\n",
    "        False"
   ]
  },
  {
   "attachments": {},
   "cell_type": "markdown",
   "metadata": {},
   "source": [
    "Q6. What are membership operators?"
   ]
  },
  {
   "attachments": {},
   "cell_type": "markdown",
   "metadata": {},
   "source": [
    "        With the operators ‘in’ and ‘not in’, we can confirm if a value is a member in another.\n",
    "\n",
    "        >>> 'me' in 'disappointment'\n",
    "        True\n",
    "\n",
    "        >>> 'us' not in 'disappointment'\n",
    "        True"
   ]
  },
  {
   "attachments": {},
   "cell_type": "markdown",
   "metadata": {},
   "source": [
    "Q7. Finally, tell us about bitwise operators in Python."
   ]
  },
  {
   "attachments": {},
   "cell_type": "markdown",
   "metadata": {},
   "source": [
    "        These operate on values bit by bit.\n",
    "\n",
    "        AND (&) This performs & on each bit pair.\n",
    "\n",
    "        >>> 0b110 & 0b010\n",
    "        2\n",
    "\n",
    "        OR (|) This performs | on each bit pair.\n",
    "\n",
    "        >>> 3|2\n",
    "        3\n",
    "\n",
    "        XOR (^) This performs an exclusive-OR operation on each bit pair.\n",
    "\n",
    "        >>> 3^2\n",
    "        1\n",
    "\n",
    "        Binary One’s Complement (~) This returns the one’s complement of a value.\n",
    "\n",
    "        >>> ~2\n",
    "        -3\n",
    "\n",
    "        Binary Left-Shift (<<) This shifts the bits to the left by the specified amount.\n",
    "\n",
    "        >>> 1<<2\n",
    "        4\n",
    "\n",
    "        Here, 001 was shifted to the left by two places to get 100, which is binary for 4.\n",
    "\n",
    "        Binary Right-Shift (>>)\n",
    "\n",
    "        >>> 4>>2\n",
    "        1"
   ]
  },
  {
   "attachments": {},
   "cell_type": "markdown",
   "metadata": {},
   "source": [
    "Q8. Explain Python List Comprehension."
   ]
  },
  {
   "attachments": {},
   "cell_type": "markdown",
   "metadata": {},
   "source": [
    "        The list comprehension in python is a way to declare a list in one line of code. Let’s take a look at one such example.\n",
    "\n",
    "        >>> [i for i in range(1,11,2)]\n",
    "        [1, 3, 5, 7, 9]\n",
    "\n",
    "        >>> [i*2 for i in range(1,11,2)]\n",
    "        [2, 6, 10, 14, 18]"
   ]
  },
  {
   "attachments": {},
   "cell_type": "markdown",
   "metadata": {},
   "source": [
    "Q9. Write code to print only upto the letter t."
   ]
  },
  {
   "attachments": {},
   "cell_type": "markdown",
   "metadata": {},
   "source": [
    "        >>> i=0\n",
    "        >>> while s[i]!='t':\n",
    "        print(s[i],end=’’)\n",
    "        i+=1\n",
    "        I love Py"
   ]
  },
  {
   "attachments": {},
   "cell_type": "markdown",
   "metadata": {},
   "source": [
    "Q10. What is a control flow statement?"
   ]
  },
  {
   "attachments": {},
   "cell_type": "markdown",
   "metadata": {},
   "source": [
    "        A Python program usually starts to execute from the first line. From there, it moves through each statement just once and as soon as it’s done with the last statement, it transactions the program. However, sometimes, we may want to take a more twisted path through the code. Control flow statements let us disturb the normal execution flow of a program and bend it to our will."
   ]
  },
  {
   "attachments": {},
   "cell_type": "markdown",
   "metadata": {},
   "source": [
    "Q11. How will you create the following pattern using Python?\n",
    "\n",
    "    *\n",
    "    **\n",
    "    ***\n",
    "    ****\n",
    "    *****"
   ]
  },
  {
   "attachments": {},
   "cell_type": "markdown",
   "metadata": {},
   "source": [
    "        We will use two for-loops for this.\n",
    "\n",
    "        >>> for i in range(1,6):\n",
    "            for j in range(1,i+1):\n",
    "                        print('*',end='')\n",
    "            print()"
   ]
  },
  {
   "attachments": {},
   "cell_type": "markdown",
   "metadata": {},
   "source": [
    "Q12. Where will you use while rather than for?"
   ]
  },
  {
   "attachments": {},
   "cell_type": "markdown",
   "metadata": {},
   "source": [
    "        Although we can do with for all that we can do with while, there are some places where a while loop will make things easier-\n",
    "\n",
    "        For simple repetitive looping\n",
    "        When we don’t need to iterate through a list of items- like database records and characters in a string."
   ]
  },
  {
   "attachments": {},
   "cell_type": "markdown",
   "metadata": {},
   "source": [
    "Q13. Explain lambda expressions. When would you use one?"
   ]
  },
  {
   "attachments": {},
   "cell_type": "markdown",
   "metadata": {},
   "source": [
    "        When we want a function with a single expression, we can define it anonymously. A lambda expression may take input and returns a value. To define the above function as a lambda expression, we type the following code in the interpreter:\n",
    "\n",
    "        >>> (lambda a,b:a if a>b else b)(3,3.5)\n",
    "        3.5\n",
    "\n",
    "        Here, a and b are the inputs. a if a>b else b is the expression to return. The arguments are 3 and 3.5.\n",
    "\n",
    "        It is possible to not have any inputs here.\n",
    "\n",
    "        >>> (lambda :print(\"Hi\"))()\n",
    "        Hi"
   ]
  },
  {
   "attachments": {},
   "cell_type": "markdown",
   "metadata": {},
   "source": [
    "Q14. When to use yield instead of return in Python?"
   ]
  },
  {
   "attachments": {},
   "cell_type": "markdown",
   "metadata": {},
   "source": [
    "        Return sends a specified value back to its caller whereas Yield can produce a sequence of values. We should use yield when we want to iterate over a sequence, but don’t want to store the entire sequence in memory. Yield is used in Python generators"
   ]
  },
  {
   "attachments": {},
   "cell_type": "markdown",
   "metadata": {},
   "source": [
    "Q15. Explain Argument passing in python."
   ]
  },
  {
   "attachments": {},
   "cell_type": "markdown",
   "metadata": {},
   "source": [
    "        in Python every variable name is a reference. When we pass a variable to a function, a new reference to the object is created. Parameter passing in Python is the same as reference passing in Java.\n",
    "\n",
    "        1. Default argument\n",
    "                A default argument is a parameter that assumes a default value if a value is not provided in the function call for that argument. \n",
    "        2. Keyword arguments (named arguments)\n",
    "                The idea is to allow the caller to specify the argument name with values so that the caller does not need to remember the order of parameters.\n",
    "        3. Positional arguments\n",
    "                Position-only arguments mean whenever we pass the arguments in the order we have defined function parameters in which if you change the argument position then you may get the unexpected output\n",
    "        4. Arbitrary arguments (variable-length arguments *args and **kwargs)\n",
    "                In Python Arbitrary Keyword Arguments, *args, and **kwargs can pass a variable number of arguments to a function using special symbols."
   ]
  },
  {
   "attachments": {},
   "cell_type": "markdown",
   "metadata": {},
   "source": [
    "Q16. How can I make a tuple out of a list?"
   ]
  },
  {
   "cell_type": "code",
   "execution_count": 1,
   "metadata": {},
   "outputs": [
    {
     "name": "stdout",
     "output_type": "stream",
     "text": [
      "('jan', 'feb', 'mar', 'apr', 'may', 'jun', 'jul', 'aug', 'sep', 'oct', 'nov', 'dec')\n",
      "<class 'tuple'>\n"
     ]
    }
   ],
   "source": [
    "month = ['jan','feb','mar','apr','may','jun','jul','aug','sep','oct','nov','dec']  \n",
    "converting_list = tuple(month)  \n",
    "print(converting_list)  \n",
    "print(type(converting_list))  "
   ]
  },
  {
   "attachments": {},
   "cell_type": "markdown",
   "metadata": {},
   "source": [
    "Q17. In a function, how do you create a global variable?\n"
   ]
  },
  {
   "cell_type": "code",
   "execution_count": 2,
   "metadata": {},
   "outputs": [
    {
     "name": "stdout",
     "output_type": "stream",
     "text": [
      "10\n"
     ]
    }
   ],
   "source": [
    "# We can create a global variable by designating it as global \n",
    "# within every function that assigns to it; we can utilize it in other functions.\n",
    "\n",
    "global_var = 0  \n",
    "def modify_global_var():  \n",
    "    global global_var # Setting global_var as a global variable  \n",
    "    global_var = 10  \n",
    "def printing_global_var():  \n",
    "    print(global_var) # There is no need to declare global variable  \n",
    "modify_global_var()  \n",
    "printing_global_var() # Prints 10  "
   ]
  },
  {
   "attachments": {},
   "cell_type": "markdown",
   "metadata": {},
   "source": [
    "Q18. Is it possible to build a Python program that reverses a number?"
   ]
  },
  {
   "cell_type": "code",
   "execution_count": 5,
   "metadata": {},
   "outputs": [
    {
     "name": "stdout",
     "output_type": "stream",
     "text": [
      "The reverse of the number 125 is: 521\n"
     ]
    }
   ],
   "source": [
    "num = int(input(\"Enter number: \"))  \n",
    "reverse = 0  \n",
    "n=num\n",
    "while(n>0):  \n",
    "    digit = n%10  \n",
    "    reverse = reverse*10+digit  \n",
    "    n=n//10  \n",
    "print(f\"The reverse of the number {num} is:\",reverse)  "
   ]
  },
  {
   "attachments": {},
   "cell_type": "markdown",
   "metadata": {},
   "source": [
    "Q19. How is a Python Dictionary different from List comprehensions?"
   ]
  },
  {
   "cell_type": "code",
   "execution_count": 6,
   "metadata": {},
   "outputs": [
    {
     "name": "stdout",
     "output_type": "stream",
     "text": [
      "[0, 1, 2, 3]\n",
      "{0: 2, 1: 3, 2: 4, 3: 5, 4: 6, 5: 7, 6: 8, 7: 9, 8: 10, 9: 11}\n"
     ]
    }
   ],
   "source": [
    "# This is example of list comprehension\n",
    "\n",
    "list_comp = [i for i in range(4)]  \n",
    "print(list_comp)  \n",
    "\n",
    "# This is example of dict comprehension\n",
    "\n",
    "dictt = {i : i+2 for i in range(10)}  \n",
    "print(dictt)  "
   ]
  },
  {
   "attachments": {},
   "cell_type": "markdown",
   "metadata": {},
   "source": [
    "Q20. What is a lambda function, and how does it work?"
   ]
  },
  {
   "cell_type": "code",
   "execution_count": 7,
   "metadata": {},
   "outputs": [
    {
     "name": "stdout",
     "output_type": "stream",
     "text": [
      "Sum using lambda function is:  18\n"
     ]
    }
   ],
   "source": [
    "# A lambda function is a type of nameless function. \n",
    "# This method can take as many parameters as you want but a single statement.\n",
    "\n",
    "# Python program to show how to use lambda functions  \n",
    "# Creating a lambda function for addition  \n",
    "\n",
    "sum_ = lambda x, y, z : x + y + z  \n",
    "print(\"Sum using lambda function is: \", sum_(4, 6, 8))  "
   ]
  }
 ],
 "metadata": {
  "kernelspec": {
   "display_name": "base",
   "language": "python",
   "name": "python3"
  },
  "language_info": {
   "codemirror_mode": {
    "name": "ipython",
    "version": 3
   },
   "file_extension": ".py",
   "mimetype": "text/x-python",
   "name": "python",
   "nbconvert_exporter": "python",
   "pygments_lexer": "ipython3",
   "version": "3.8.5"
  },
  "orig_nbformat": 4
 },
 "nbformat": 4,
 "nbformat_minor": 2
}
