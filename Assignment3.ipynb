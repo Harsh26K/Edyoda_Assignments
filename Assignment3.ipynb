{
 "cells": [
  {
   "attachments": {},
   "cell_type": "markdown",
   "metadata": {},
   "source": [
    "Q1 Write a Python function to sum all the numbers in a list.\n",
    "\n",
    "Sample List : (8, 2, 3, 0, 7)\n",
    "\n",
    "Expected Output : 20"
   ]
  },
  {
   "cell_type": "code",
   "execution_count": 2,
   "metadata": {},
   "outputs": [
    {
     "data": {
      "text/plain": [
       "21"
      ]
     },
     "execution_count": 2,
     "metadata": {},
     "output_type": "execute_result"
    }
   ],
   "source": [
    "def sumList(*l):\n",
    "    return sum(*l)\n",
    "\n",
    "# l=list(input('Enter any number series:'))\n",
    "# sumList(l)\n",
    "\n",
    "sumList([1,2,3,4,5,6])"
   ]
  },
  {
   "attachments": {},
   "cell_type": "markdown",
   "metadata": {},
   "source": [
    "Q2 Write a Python program to reverse a string.\n",
    "\n",
    "Sample String : \"1234abcd\"\n",
    "\n",
    "Expected Output : \"dcba4321\""
   ]
  },
  {
   "cell_type": "code",
   "execution_count": 4,
   "metadata": {},
   "outputs": [
    {
     "name": "stdout",
     "output_type": "stream",
     "text": [
      "wsdr342ed1\n"
     ]
    }
   ],
   "source": [
    "def reverseString(s):\n",
    "    return s[::-1]\n",
    "\n",
    "# s = print('Enter string:')\n",
    "# s = reverseString(s)\n",
    "# print(s)\n",
    "\n",
    "print(reverseString('1de243rdsw'))"
   ]
  },
  {
   "attachments": {},
   "cell_type": "markdown",
   "metadata": {},
   "source": [
    "Q3 Write a Python function that accepts a string and calculate the number of upper case letters and lower case letters.\n",
    "\n",
    "Sample String : 'The quick Brow Fox'\n",
    "\n",
    "Expected Output :\n",
    "No. of Upper case characters : 3\n",
    "\n",
    "No. of Lower case Characters : 12"
   ]
  },
  {
   "cell_type": "code",
   "execution_count": 3,
   "metadata": {},
   "outputs": [
    {
     "name": "stdout",
     "output_type": "stream",
     "text": [
      "No. of Upper case Characters:7\n",
      "No. of Lower case characters:42\n"
     ]
    }
   ],
   "source": [
    "def upperLower(s):\n",
    "    upper_count = 0\n",
    "    for i in s:\n",
    "        if i.isupper():\n",
    "            upper_count +=1\n",
    "    return upper_count,len(s)-upper_count\n",
    "\n",
    "# s = input('Enter string:')\n",
    "# upper_count,lower_count = upperLower(s)\n",
    "\n",
    "upper_count,lower_count = upperLower(\"Python Tricks A Buffet of Awesome Python Features\")\n",
    "\n",
    "print(f'No. of Upper case Characters:{upper_count}')\n",
    "print(f'No. of Lower case characters:{lower_count}')"
   ]
  }
 ],
 "metadata": {
  "kernelspec": {
   "display_name": "Python 3",
   "language": "python",
   "name": "python3"
  },
  "language_info": {
   "codemirror_mode": {
    "name": "ipython",
    "version": 3
   },
   "file_extension": ".py",
   "mimetype": "text/x-python",
   "name": "python",
   "nbconvert_exporter": "python",
   "pygments_lexer": "ipython3",
   "version": "3.8.6"
  },
  "orig_nbformat": 4,
  "vscode": {
   "interpreter": {
    "hash": "f10baa5b3d4a9dc3d5b34fbeebfe08e4928904525b5dad22aa919ba5b8f3b95e"
   }
  }
 },
 "nbformat": 4,
 "nbformat_minor": 2
}
