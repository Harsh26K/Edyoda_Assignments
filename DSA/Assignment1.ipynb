{
 "cells": [
  {
   "attachments": {},
   "cell_type": "markdown",
   "metadata": {},
   "source": [
    "Q1. Write a program to find all pairs of an integer array whose sum is equal to a given number?"
   ]
  },
  {
   "cell_type": "code",
   "execution_count": 17,
   "metadata": {},
   "outputs": [
    {
     "name": "stdout",
     "output_type": "stream",
     "text": [
      "input array :  [1, 2, 1, 3, 3, 4, 5]\n",
      "pairs with sum 7 are [(2, 5), (3, 4), (3, 4)]\n"
     ]
    }
   ],
   "source": [
    "# Q1\n",
    "def sumPairs(arr,value):\n",
    "    pairsList = []\n",
    "    for i in range(len(arr)):\n",
    "        if value-arr[i]>0:\n",
    "            count = arr[i+1:].count(value-arr[i])\n",
    "            for c in range(count):\n",
    "                pairsList.append((arr[i],value-arr[i]))\n",
    "    return pairsList\n",
    "\n",
    "# arr = [1,2,1,3,3,4,5]\n",
    "arr = [int(x) for x in input('Enter array (comma-separated):').split(',')]\n",
    "value = int(input('Enter sum to be checked:'))\n",
    "\n",
    "print('input array : ',arr)\n",
    "print('pairs with sum',value,'are',sumPairs(arr,value))"
   ]
  },
  {
   "attachments": {},
   "cell_type": "markdown",
   "metadata": {},
   "source": [
    "Q2. Write a program to reverse an array in place? In place means you cannot create a new array. You have to update the original array."
   ]
  },
  {
   "cell_type": "code",
   "execution_count": 18,
   "metadata": {},
   "outputs": [
    {
     "name": "stdout",
     "output_type": "stream",
     "text": [
      "input array:  ['1', '3', '5', '4']\n",
      "array after reversing:  ['4', '5', '3', '1']\n"
     ]
    }
   ],
   "source": [
    "# Q2\n",
    "def reverseArray(arr):\n",
    "    for i in range(len(arr)):\n",
    "        j= len(arr)-i-1\n",
    "        if j <= i:\n",
    "            break\n",
    "        arr[i],arr[j] = arr[j],arr[i]\n",
    "    return arr\n",
    "# arr = [1,3,5,4]\n",
    "arr = [x for x in input('Enter array(comma-separated): ').split(',')]\n",
    "print('input array: ',arr)\n",
    "# print(id(arr))\n",
    "print('array after reversing: ',reverseArray(arr))\n",
    "# print(id(reverseArray(arr)))"
   ]
  },
  {
   "attachments": {},
   "cell_type": "markdown",
   "metadata": {},
   "source": [
    "Q3. Write a program to check if two strings are a rotation of each other?"
   ]
  },
  {
   "cell_type": "code",
   "execution_count": 19,
   "metadata": {},
   "outputs": [
    {
     "name": "stdout",
     "output_type": "stream",
     "text": [
      "str1 aasdf\n",
      "str2 fdsaa\n",
      "Strings are rotation of each other\n"
     ]
    }
   ],
   "source": [
    "# Q3\n",
    "def validateReverseStrings(str1,str2):\n",
    "    if len(str1) != len(str2):\n",
    "        return False\n",
    "    else:\n",
    "        for i in range(len(str1)):\n",
    "            if str1[i] != str2[-i-1]:\n",
    "                return False\n",
    "        return True\n",
    "\n",
    "str1 = input('First String: ')\n",
    "str2 = input('Second String: ')\n",
    "\n",
    "print('str1',str1)\n",
    "print('str2',str2)\n",
    "\n",
    "if validateReverseStrings(str1,str2):\n",
    "    print('Strings are rotation of each other')\n",
    "else:\n",
    "    print('Strings are not rotation of each other')"
   ]
  },
  {
   "attachments": {},
   "cell_type": "markdown",
   "metadata": {},
   "source": [
    "Q4. Write a program to print the first non-repeated character from a string?"
   ]
  },
  {
   "cell_type": "code",
   "execution_count": 20,
   "metadata": {},
   "outputs": [
    {
     "name": "stdout",
     "output_type": "stream",
     "text": [
      "string: aassdfd\n",
      "first non repeated character : f\n"
     ]
    }
   ],
   "source": [
    "# Q4\n",
    "def firstNonRepeated(str1):\n",
    "    char_count_dict = {}\n",
    "    for i in str1:\n",
    "        if i not in char_count_dict.keys():\n",
    "            char_count_dict[i] = 1\n",
    "        else:\n",
    "            char_count_dict[i]+=1\n",
    "    for key in list(char_count_dict.keys()):\n",
    "        if char_count_dict[key] == 1:\n",
    "            return key\n",
    "\n",
    "str1 = input('Enter String: ')\n",
    "print('string:',str1)\n",
    "print('first non repeated character :',firstNonRepeated(str1))"
   ]
  },
  {
   "attachments": {},
   "cell_type": "markdown",
   "metadata": {},
   "source": [
    "Q5. Read about the Tower of Hanoi algorithm. Write a program to implement it.\n",
    "\n",
    "'''\n",
    "Tower of Hanoi is a mathematical puzzle \n",
    "where we have three rods (A, B, and C) and N disks. \n",
    "Initially, \n",
    "all the disks are stacked in decreasing value of diameter \n",
    "i.e., the smallest disk is placed on the top and they are on rod A. \n",
    "The objective of the puzzle is to move the entire stack to another rod \n",
    "(here considered C), obeying the following simple rules: \n",
    "\n",
    "Only one disk can be moved at a time.\n",
    "Each move consists of taking the upper disk from one of the stacks \n",
    "and placing it on top of another stack \n",
    "i.e. a disk can only be moved if it is the uppermost disk on a stack.\n",
    "No disk may be placed on top of a smaller disk.\n",
    "'''"
   ]
  },
  {
   "cell_type": "code",
   "execution_count": 16,
   "metadata": {},
   "outputs": [
    {
     "name": "stdout",
     "output_type": "stream",
     "text": [
      "disk 1 moved from A to B\n",
      "disk 2 moved from A to C\n",
      "disk 1 moved from B to C\n",
      "disk 3 moved from A to B\n",
      "disk 1 moved from C to A\n",
      "disk 2 moved from C to B\n",
      "disk 1 moved from A to B\n",
      "disk 4 moved from A to C\n",
      "disk 1 moved from B to C\n",
      "disk 2 moved from B to A\n",
      "disk 1 moved from C to A\n",
      "disk 3 moved from B to C\n",
      "disk 1 moved from A to B\n",
      "disk 2 moved from A to C\n",
      "disk 1 moved from B to C\n"
     ]
    }
   ],
   "source": [
    "def TOH(disk,src,aux,dest):\n",
    "    if disk ==0:\n",
    "        return\n",
    "    TOH(disk-1,src,dest,aux)\n",
    "    print('disk',disk,'moved from',src,'to',dest)\n",
    "    TOH(disk-1,aux,src,dest)\n",
    "disk = int(input('No. of disks:'))\n",
    "TOH(disk,'A','B','C')"
   ]
  },
  {
   "attachments": {},
   "cell_type": "markdown",
   "metadata": {},
   "source": [
    "Q6. Read about infix, prefix, and postfix expressions. Write a program to convert postfix to prefix expression.\n",
    "\n",
    "infix : A+B-C\n",
    "prefix: -+ABC\n",
    "postfix: AB+C-"
   ]
  },
  {
   "cell_type": "code",
   "execution_count": 11,
   "metadata": {},
   "outputs": [
    {
     "name": "stdout",
     "output_type": "stream",
     "text": [
      "Postfix: AB-C/D*E+\n",
      "prefix: +*/-ABCDE\n"
     ]
    }
   ],
   "source": [
    "class Stack:\n",
    "    def __init__(self):\n",
    "        self.stack = []\n",
    "\n",
    "    def isEmpty(self):\n",
    "        return len(self.stack)==0\n",
    "\n",
    "    def push(self,item):\n",
    "        self.stack.append(item)\n",
    "\n",
    "    def pop(self):\n",
    "        p = self.stack.pop()\n",
    "        return p\n",
    "    \n",
    "    def display(self):\n",
    "        print(self.stack)\n",
    "\n",
    "def postfixToprefix(post):\n",
    "    stack = Stack()\n",
    "    for i in post:\n",
    "        if i not in ['+','-','*','/']:\n",
    "            stack.push(i)\n",
    "        else:\n",
    "            op1 = stack.pop()\n",
    "            op2 = stack.pop()\n",
    "            stack.push(i+op2+op1)\n",
    "    print('prefix:',stack.pop())\n",
    "\n",
    "post = input('Enter Postfix Expression:')\n",
    "\n",
    "# post: AB+C-  --> pre: -+ABC\n",
    "# post: AB+CD*- --> pre: -+AB*CD\n",
    "# post: AB-C/D*E+ --> pre: +*/-ABCDE\n",
    "print('Postfix:',post)\n",
    "postfixToprefix(post)"
   ]
  },
  {
   "attachments": {},
   "cell_type": "markdown",
   "metadata": {},
   "source": [
    "Q7. Write a program to convert prefix expression to infix expression."
   ]
  },
  {
   "cell_type": "code",
   "execution_count": 22,
   "metadata": {},
   "outputs": [
    {
     "name": "stdout",
     "output_type": "stream",
     "text": [
      "Prefix: -+*ABCD\n",
      "Infix: A*B+C-D\n"
     ]
    }
   ],
   "source": [
    "# Q7\n",
    "class Stack:\n",
    "    def __init__(self):\n",
    "        self.stack = []\n",
    "\n",
    "    def isEmpty(self):\n",
    "        return len(self.stack)==0\n",
    "\n",
    "    def push(self,item):\n",
    "        self.stack.append(item)\n",
    "\n",
    "    def pop(self):\n",
    "        p = self.stack.pop()\n",
    "        return p\n",
    "\n",
    "def prefixToinfix(pre):\n",
    "    stack = Stack()\n",
    "    infix = ''\n",
    "\n",
    "    for i in pre:\n",
    "        if i in ['+','-','*','/']:\n",
    "            stack.push(i)\n",
    "        else:\n",
    "            if not stack.isEmpty():\n",
    "                op = stack.pop()\n",
    "            else:\n",
    "                op = ''\n",
    "            infix = infix + i + op\n",
    "    print('Infix:',infix)\n",
    "\n",
    "# pre: -+AB+CD --> in: A+B-C+D\n",
    "# pre: -+*ABCD --> in: A*B+C-D\n",
    "\n",
    "pre = input('Enter Prefix Expression:')\n",
    "print('Prefix:',pre)\n",
    "prefixToinfix(pre)"
   ]
  },
  {
   "attachments": {},
   "cell_type": "markdown",
   "metadata": {},
   "source": [
    "Q8. Write a program to check if all the brackets are closed in a given code snippet."
   ]
  },
  {
   "cell_type": "code",
   "execution_count": 23,
   "metadata": {},
   "outputs": [
    {
     "name": "stdout",
     "output_type": "stream",
     "text": [
      "Valid\n"
     ]
    }
   ],
   "source": [
    "class Stack:\n",
    "    def __init__(self):\n",
    "        self.dict = {'}':'{',']':'[',')':'('}\n",
    "        self.stack = []\n",
    "        self.top = -1\n",
    "\n",
    "    def isEmpty(self):\n",
    "        return len(self.stack)==0\n",
    "\n",
    "    def push(self,item):\n",
    "        self.stack.append(item)\n",
    "        self.top +=1\n",
    "\n",
    "    def pop(self):\n",
    "        p = self.stack.pop()\n",
    "        self.top -=1\n",
    "        return p\n",
    "    \n",
    "    def peek(self):\n",
    "        return self.stack[self.top]\n",
    "    \n",
    "def isValid(snippet):\n",
    "    stack = Stack()\n",
    "    if len(snippet) == 1:\n",
    "        print('Invalid')\n",
    "    else:\n",
    "        for i in snippet:\n",
    "            if i in ['(','{','[']:\n",
    "                stack.push(i)\n",
    "            elif stack.peek() == stack.dict[i]:\n",
    "                stack.pop()\n",
    "            else:\n",
    "                break\n",
    "        if stack.isEmpty():\n",
    "            print('Valid')\n",
    "        else:\n",
    "            print('Invalid')\n",
    "\n",
    "snippet = input('Enter Snippet:')\n",
    "\n",
    "# {{{{[[[()]]]}}}} --> valid\n",
    "# {([])(])} --> invalid\n",
    "# } --> invalid\n",
    "# {} --> valid\n",
    "# ()()() --> valid\n",
    "\n",
    "isValid(snippet)"
   ]
  },
  {
   "attachments": {},
   "cell_type": "markdown",
   "metadata": {},
   "source": [
    "Q9. Write a program to reverse a stack."
   ]
  },
  {
   "cell_type": "code",
   "execution_count": 24,
   "metadata": {},
   "outputs": [
    {
     "name": "stdout",
     "output_type": "stream",
     "text": [
      "stack: [2, 4, 5, 6, 3, 9, 8, 1]\n",
      "reversed: [1, 8, 9, 3, 6, 5, 4, 2]\n"
     ]
    }
   ],
   "source": [
    "# Q9\n",
    "class Stack:\n",
    "    def __init__(self):\n",
    "        self.stack = []\n",
    "\n",
    "    def isEmpty(self):\n",
    "        return len(self.stack)==0\n",
    "\n",
    "    def push(self,item):\n",
    "        self.stack.append(item)\n",
    "\n",
    "    def pop(self):\n",
    "        p = self.stack.pop()\n",
    "        return p\n",
    "    \n",
    "    def display(self):\n",
    "        print(self.stack)\n",
    "\n",
    "def reverseStack(stack):\n",
    "    reversed = Stack()\n",
    "    while(not stack.isEmpty()):\n",
    "        reversed.push(stack.pop())\n",
    "    print('reversed:',end=' ')\n",
    "    reversed.display()\n",
    "\n",
    "stack1 = Stack()\n",
    "l = [int(x) for x in input('Enter numbers(comma-separated):').split(',')]\n",
    "\n",
    "# 2,4,5,6,3,9,8,1\n",
    "# 5,2,3,8,7,1,9,0\n",
    "\n",
    "for i in l:\n",
    "    stack1.push(i)\n",
    "\n",
    "print('stack:',end=' ')\n",
    "stack1.display()\n",
    "reverseStack(stack1)"
   ]
  },
  {
   "attachments": {},
   "cell_type": "markdown",
   "metadata": {},
   "source": [
    "Q10. Write a program to find the smallest number using a stack."
   ]
  },
  {
   "cell_type": "code",
   "execution_count": 26,
   "metadata": {},
   "outputs": [
    {
     "name": "stdout",
     "output_type": "stream",
     "text": [
      "Stack : [2, 4, 5, 6, 1, 3, 9, 8]\n"
     ]
    },
    {
     "data": {
      "text/plain": [
       "1"
      ]
     },
     "execution_count": 26,
     "metadata": {},
     "output_type": "execute_result"
    }
   ],
   "source": [
    "# Q10\n",
    "class Stack:\n",
    "    def __init__(self):\n",
    "        self.stack = []\n",
    "\n",
    "    def isEmpty(self):\n",
    "        return len(self.stack)==0\n",
    "\n",
    "    def push(self,item):\n",
    "        self.stack.append(item)\n",
    "\n",
    "    def pop(self):\n",
    "        p = self.stack.pop()\n",
    "        return p\n",
    "    \n",
    "    def display(self):\n",
    "        print('Stack :',self.stack)\n",
    "    \n",
    "    def smallestNumber(self):\n",
    "        smallest = self.stack.pop()\n",
    "        while(len(self.stack)!= 0):\n",
    "            num = self.stack.pop()\n",
    "            if num < smallest:\n",
    "                smallest = num\n",
    "        return smallest\n",
    "\n",
    "stack1 = Stack()\n",
    "l = [int(x) for x in input('Enter numbers(comma-separated):').split(',')]\n",
    "\n",
    "# 2,4,5,6,1,3,9,8\n",
    "# 5,2,3,8,7,1,9,0\n",
    "\n",
    "for i in l:\n",
    "    stack1.push(i)\n",
    "# stack1.push(1)\n",
    "# stack1.push(2)\n",
    "# stack1.push(3)\n",
    "stack1.display()\n",
    "stack1.smallestNumber()"
   ]
  }
 ],
 "metadata": {
  "kernelspec": {
   "display_name": "base",
   "language": "python",
   "name": "python3"
  },
  "language_info": {
   "codemirror_mode": {
    "name": "ipython",
    "version": 3
   },
   "file_extension": ".py",
   "mimetype": "text/x-python",
   "name": "python",
   "nbconvert_exporter": "python",
   "pygments_lexer": "ipython3",
   "version": "3.8.5"
  },
  "orig_nbformat": 4,
  "vscode": {
   "interpreter": {
    "hash": "ad2bdc8ecc057115af97d19610ffacc2b4e99fae6737bb82f5d7fb13d2f2c186"
   }
  }
 },
 "nbformat": 4,
 "nbformat_minor": 2
}
